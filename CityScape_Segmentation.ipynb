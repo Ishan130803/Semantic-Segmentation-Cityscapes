{
  "cells": [
    {
      "cell_type": "markdown",
      "metadata": {
        "id": "view-in-github",
        "colab_type": "text"
      },
      "source": [
        "<a href=\"https://colab.research.google.com/github/Ishan130803/Semantic-Segmentation-Cityscapes/blob/main/CityScape_Segmentation.ipynb\" target=\"_parent\"><img src=\"https://colab.research.google.com/assets/colab-badge.svg\" alt=\"Open In Colab\"/></a>"
      ]
    },
    {
      "cell_type": "markdown",
      "metadata": {
        "id": "yi_ErWVkpUi2"
      },
      "source": [
        "# Console Simulator"
      ]
    },
    {
      "cell_type": "code",
      "execution_count": null,
      "metadata": {
        "colab": {
          "base_uri": "https://localhost:8080/"
        },
        "id": "PaxkX7wdp6-F",
        "outputId": "336e5340-3f14-4dbb-a6ab-f74bf8fce3fc"
      },
      "outputs": [
        {
          "data": {
            "text/plain": [
              "['/content',\n",
              " '/env/python',\n",
              " '/usr/lib/python310.zip',\n",
              " '/usr/lib/python3.10',\n",
              " '/usr/lib/python3.10/lib-dynload',\n",
              " '',\n",
              " '/usr/local/lib/python3.10/dist-packages',\n",
              " '/usr/lib/python3/dist-packages',\n",
              " '/usr/local/lib/python3.10/dist-packages/IPython/extensions',\n",
              " '/root/.ipython',\n",
              " '/content/cityscapesScripts']"
            ]
          },
          "execution_count": 6,
          "metadata": {},
          "output_type": "execute_result"
        }
      ],
      "source": [
        "sys.path"
      ]
    },
    {
      "cell_type": "code",
      "execution_count": null,
      "metadata": {
        "id": "XF_qijvjpyto"
      },
      "outputs": [],
      "source": [
        "import sys\n",
        "# sys.path.append('/content/cityscapesScripts')\n",
        "sys.path."
      ]
    },
    {
      "cell_type": "code",
      "execution_count": null,
      "metadata": {
        "id": "Q101JSoKqeIG"
      },
      "outputs": [],
      "source": []
    },
    {
      "cell_type": "code",
      "execution_count": null,
      "metadata": {
        "colab": {
          "base_uri": "https://localhost:8080/"
        },
        "id": "maWXmsT5pq-d",
        "outputId": "de979d5d-26ea-411f-cdc2-ec59d8d52029"
      },
      "outputs": [
        {
          "name": "stdout",
          "output_type": "stream",
          "text": [
            "Cloning into 'cityscapesScripts'...\n",
            "remote: Enumerating objects: 648, done.\u001b[K\n",
            "remote: Counting objects: 100% (221/221), done.\u001b[K\n",
            "remote: Compressing objects: 100% (64/64), done.\u001b[K\n",
            "remote: Total 648 (delta 184), reused 165 (delta 155), pack-reused 427\u001b[K\n",
            "Receiving objects: 100% (648/648), 796.28 KiB | 3.46 MiB/s, done.\n",
            "Resolving deltas: 100% (370/370), done.\n"
          ]
        }
      ],
      "source": [
        "! git clone https://github.com/mcordts/cityscapesScripts"
      ]
    },
    {
      "cell_type": "code",
      "execution_count": null,
      "metadata": {
        "id": "CJRKifybrL2f"
      },
      "outputs": [],
      "source": [
        "import os\n",
        "os."
      ]
    },
    {
      "cell_type": "code",
      "execution_count": null,
      "metadata": {
        "colab": {
          "base_uri": "https://localhost:8080/"
        },
        "id": "TPsbw22NpXbk",
        "outputId": "69158a21-d2ef-4ad0-9bbd-73a34e4d233e"
      },
      "outputs": [
        {
          "name": "stdout",
          "output_type": "stream",
          "text": [
            "cityscapesScripts  sample_data\n"
          ]
        }
      ],
      "source": [
        "!cd cityscapesScripts\n",
        "!cd sample_data\n",
        "!ls\n",
        "# !python setup.py"
      ]
    },
    {
      "cell_type": "markdown",
      "metadata": {
        "id": "wyo0X_JmwWfS"
      },
      "source": [
        "# Prerequisite Installation"
      ]
    },
    {
      "cell_type": "code",
      "execution_count": null,
      "metadata": {
        "colab": {
          "base_uri": "https://localhost:8080/"
        },
        "id": "qQWERSC_wWTb",
        "outputId": "70e90039-b4be-4e92-e6b3-1e2cbcddec5e"
      },
      "outputs": [
        {
          "output_type": "stream",
          "name": "stdout",
          "text": [
            "Collecting remotezip\n",
            "  Downloading remotezip-0.12.3-py3-none-any.whl (8.1 kB)\n",
            "Requirement already satisfied: requests in /usr/local/lib/python3.10/dist-packages (from remotezip) (2.31.0)\n",
            "Requirement already satisfied: charset-normalizer<4,>=2 in /usr/local/lib/python3.10/dist-packages (from requests->remotezip) (3.3.2)\n",
            "Requirement already satisfied: idna<4,>=2.5 in /usr/local/lib/python3.10/dist-packages (from requests->remotezip) (3.7)\n",
            "Requirement already satisfied: urllib3<3,>=1.21.1 in /usr/local/lib/python3.10/dist-packages (from requests->remotezip) (2.0.7)\n",
            "Requirement already satisfied: certifi>=2017.4.17 in /usr/local/lib/python3.10/dist-packages (from requests->remotezip) (2024.2.2)\n",
            "Installing collected packages: remotezip\n",
            "Successfully installed remotezip-0.12.3\n"
          ]
        }
      ],
      "source": [
        "! pip install remotezip"
      ]
    },
    {
      "cell_type": "code",
      "execution_count": null,
      "metadata": {
        "colab": {
          "base_uri": "https://localhost:8080/"
        },
        "id": "0dKFhtn4znZT",
        "outputId": "9e298219-e408-4cc7-faa5-c35054480031"
      },
      "outputs": [
        {
          "output_type": "stream",
          "name": "stdout",
          "text": [
            "Collecting cityscapesscripts\n",
            "  Downloading cityscapesScripts-2.2.3-py3-none-any.whl (473 kB)\n",
            "\u001b[?25l     \u001b[90m━━━━━━━━━━━━━━━━━━━━━━━━━━━━━━━━━━━━━━━━\u001b[0m \u001b[32m0.0/473.6 kB\u001b[0m \u001b[31m?\u001b[0m eta \u001b[36m-:--:--\u001b[0m\r\u001b[2K     \u001b[91m━━━━━━━━━━━━\u001b[0m\u001b[90m╺\u001b[0m\u001b[90m━━━━━━━━━━━━━━━━━━━━━━━━━━━\u001b[0m \u001b[32m143.4/473.6 kB\u001b[0m \u001b[31m4.4 MB/s\u001b[0m eta \u001b[36m0:00:01\u001b[0m\r\u001b[2K     \u001b[91m━━━━━━━━━━━━━━━━━━━━━━━━━━━━━━━━━━━━━━━\u001b[0m\u001b[91m╸\u001b[0m \u001b[32m471.0/473.6 kB\u001b[0m \u001b[31m7.0 MB/s\u001b[0m eta \u001b[36m0:00:01\u001b[0m\r\u001b[2K     \u001b[90m━━━━━━━━━━━━━━━━━━━━━━━━━━━━━━━━━━━━━━━━\u001b[0m \u001b[32m473.6/473.6 kB\u001b[0m \u001b[31m6.3 MB/s\u001b[0m eta \u001b[36m0:00:00\u001b[0m\n",
            "\u001b[?25hRequirement already satisfied: numpy in /usr/local/lib/python3.10/dist-packages (from cityscapesscripts) (1.25.2)\n",
            "Requirement already satisfied: matplotlib in /usr/local/lib/python3.10/dist-packages (from cityscapesscripts) (3.7.1)\n",
            "Requirement already satisfied: pillow in /usr/local/lib/python3.10/dist-packages (from cityscapesscripts) (9.4.0)\n",
            "Collecting appdirs (from cityscapesscripts)\n",
            "  Downloading appdirs-1.4.4-py2.py3-none-any.whl (9.6 kB)\n",
            "Collecting pyquaternion (from cityscapesscripts)\n",
            "  Downloading pyquaternion-0.9.9-py3-none-any.whl (14 kB)\n",
            "Collecting coloredlogs (from cityscapesscripts)\n",
            "  Downloading coloredlogs-15.0.1-py2.py3-none-any.whl (46 kB)\n",
            "\u001b[2K     \u001b[90m━━━━━━━━━━━━━━━━━━━━━━━━━━━━━━━━━━━━━━━━\u001b[0m \u001b[32m46.0/46.0 kB\u001b[0m \u001b[31m6.7 MB/s\u001b[0m eta \u001b[36m0:00:00\u001b[0m\n",
            "\u001b[?25hRequirement already satisfied: tqdm in /usr/local/lib/python3.10/dist-packages (from cityscapesscripts) (4.66.4)\n",
            "Collecting typing (from cityscapesscripts)\n",
            "  Downloading typing-3.7.4.3.tar.gz (78 kB)\n",
            "\u001b[2K     \u001b[90m━━━━━━━━━━━━━━━━━━━━━━━━━━━━━━━━━━━━━━━━\u001b[0m \u001b[32m78.6/78.6 kB\u001b[0m \u001b[31m5.5 MB/s\u001b[0m eta \u001b[36m0:00:00\u001b[0m\n",
            "\u001b[?25h  Preparing metadata (setup.py) ... \u001b[?25l\u001b[?25hdone\n",
            "Requirement already satisfied: requests in /usr/local/lib/python3.10/dist-packages (from cityscapesscripts) (2.31.0)\n",
            "Collecting PyQt5 (from cityscapesscripts)\n",
            "  Downloading PyQt5-5.15.10-cp37-abi3-manylinux_2_17_x86_64.whl (8.2 MB)\n",
            "\u001b[2K     \u001b[90m━━━━━━━━━━━━━━━━━━━━━━━━━━━━━━━━━━━━━━━━\u001b[0m \u001b[32m8.2/8.2 MB\u001b[0m \u001b[31m27.2 MB/s\u001b[0m eta \u001b[36m0:00:00\u001b[0m\n",
            "\u001b[?25hCollecting humanfriendly>=9.1 (from coloredlogs->cityscapesscripts)\n",
            "  Downloading humanfriendly-10.0-py2.py3-none-any.whl (86 kB)\n",
            "\u001b[2K     \u001b[90m━━━━━━━━━━━━━━━━━━━━━━━━━━━━━━━━━━━━━━━━\u001b[0m \u001b[32m86.8/86.8 kB\u001b[0m \u001b[31m9.8 MB/s\u001b[0m eta \u001b[36m0:00:00\u001b[0m\n",
            "\u001b[?25hRequirement already satisfied: contourpy>=1.0.1 in /usr/local/lib/python3.10/dist-packages (from matplotlib->cityscapesscripts) (1.2.1)\n",
            "Requirement already satisfied: cycler>=0.10 in /usr/local/lib/python3.10/dist-packages (from matplotlib->cityscapesscripts) (0.12.1)\n",
            "Requirement already satisfied: fonttools>=4.22.0 in /usr/local/lib/python3.10/dist-packages (from matplotlib->cityscapesscripts) (4.52.4)\n",
            "Requirement already satisfied: kiwisolver>=1.0.1 in /usr/local/lib/python3.10/dist-packages (from matplotlib->cityscapesscripts) (1.4.5)\n",
            "Requirement already satisfied: packaging>=20.0 in /usr/local/lib/python3.10/dist-packages (from matplotlib->cityscapesscripts) (24.0)\n",
            "Requirement already satisfied: pyparsing>=2.3.1 in /usr/local/lib/python3.10/dist-packages (from matplotlib->cityscapesscripts) (3.1.2)\n",
            "Requirement already satisfied: python-dateutil>=2.7 in /usr/local/lib/python3.10/dist-packages (from matplotlib->cityscapesscripts) (2.8.2)\n",
            "Collecting PyQt5-sip<13,>=12.13 (from PyQt5->cityscapesscripts)\n",
            "  Downloading PyQt5_sip-12.13.0-cp310-cp310-manylinux_2_5_x86_64.manylinux1_x86_64.whl (338 kB)\n",
            "\u001b[2K     \u001b[90m━━━━━━━━━━━━━━━━━━━━━━━━━━━━━━━━━━━━━━━━\u001b[0m \u001b[32m338.1/338.1 kB\u001b[0m \u001b[31m18.0 MB/s\u001b[0m eta \u001b[36m0:00:00\u001b[0m\n",
            "\u001b[?25hCollecting PyQt5-Qt5>=5.15.2 (from PyQt5->cityscapesscripts)\n",
            "  Downloading PyQt5_Qt5-5.15.2-py3-none-manylinux2014_x86_64.whl (59.9 MB)\n",
            "\u001b[2K     \u001b[90m━━━━━━━━━━━━━━━━━━━━━━━━━━━━━━━━━━━━━━━━\u001b[0m \u001b[32m59.9/59.9 MB\u001b[0m \u001b[31m9.4 MB/s\u001b[0m eta \u001b[36m0:00:00\u001b[0m\n",
            "\u001b[?25hRequirement already satisfied: charset-normalizer<4,>=2 in /usr/local/lib/python3.10/dist-packages (from requests->cityscapesscripts) (3.3.2)\n",
            "Requirement already satisfied: idna<4,>=2.5 in /usr/local/lib/python3.10/dist-packages (from requests->cityscapesscripts) (3.7)\n",
            "Requirement already satisfied: urllib3<3,>=1.21.1 in /usr/local/lib/python3.10/dist-packages (from requests->cityscapesscripts) (2.0.7)\n",
            "Requirement already satisfied: certifi>=2017.4.17 in /usr/local/lib/python3.10/dist-packages (from requests->cityscapesscripts) (2024.2.2)\n",
            "Requirement already satisfied: six>=1.5 in /usr/local/lib/python3.10/dist-packages (from python-dateutil>=2.7->matplotlib->cityscapesscripts) (1.16.0)\n",
            "Building wheels for collected packages: typing\n",
            "  Building wheel for typing (setup.py) ... \u001b[?25l\u001b[?25hdone\n",
            "  Created wheel for typing: filename=typing-3.7.4.3-py3-none-any.whl size=26306 sha256=a0d89296a01280e7df250d4f3346bd49c2dbc5d7617a26bb82179e4e4443cf03\n",
            "  Stored in directory: /root/.cache/pip/wheels/7c/d0/9e/1f26ebb66d9e1732e4098bc5a6c2d91f6c9a529838f0284890\n",
            "Successfully built typing\n",
            "Installing collected packages: PyQt5-Qt5, appdirs, typing, pyquaternion, PyQt5-sip, humanfriendly, PyQt5, coloredlogs, cityscapesscripts\n",
            "Successfully installed PyQt5-5.15.10 PyQt5-Qt5-5.15.2 PyQt5-sip-12.13.0 appdirs-1.4.4 cityscapesscripts-2.2.3 coloredlogs-15.0.1 humanfriendly-10.0 pyquaternion-0.9.9 typing-3.7.4.3\n"
          ]
        }
      ],
      "source": [
        "! python -m pip install cityscapesscripts cityscapesscripts[gui]"
      ]
    },
    {
      "cell_type": "markdown",
      "metadata": {
        "id": "2QUnLesgwZ1X"
      },
      "source": [
        "# Imports"
      ]
    },
    {
      "cell_type": "code",
      "execution_count": null,
      "metadata": {
        "id": "9yf11lJK_Hol"
      },
      "outputs": [],
      "source": [
        "import tensorflow as tf\n",
        "from tensorflow import keras\n",
        "from keras import layers\n",
        "import cv2\n",
        "from google.colab.patches import cv2_imshow\n",
        "import numpy as np\n",
        "import matplotlib.pyplot as plt\n",
        "import seaborn as sns\n"
      ]
    },
    {
      "cell_type": "markdown",
      "metadata": {
        "id": "-ogYanTawrLl"
      },
      "source": [
        "# Dataset"
      ]
    },
    {
      "cell_type": "markdown",
      "metadata": {
        "id": "qDtlbIsvba0h"
      },
      "source": [
        "## Initializing Session Object"
      ]
    },
    {
      "cell_type": "code",
      "execution_count": null,
      "metadata": {
        "id": "PwJT80VRz5JV"
      },
      "outputs": [],
      "source": [
        "import cityscapesscripts"
      ]
    },
    {
      "cell_type": "code",
      "execution_count": null,
      "metadata": {
        "id": "9hANwQLD0Cvv"
      },
      "outputs": [],
      "source": [
        "from cityscapesscripts.download import downloader"
      ]
    },
    {
      "cell_type": "code",
      "execution_count": null,
      "metadata": {
        "id": "fSX_C_Qm1g4A",
        "colab": {
          "base_uri": "https://localhost:8080/"
        },
        "outputId": "0561b747-69c2-4125-82dc-5e5636a9c7d9"
      },
      "outputs": [
        {
          "name": "stdout",
          "output_type": "stream",
          "text": [
            "Cityscapes username or email address: ishansrivastava_it22a9_35@dtu.ac.in\n",
            "Cityscapes password: ··········\n",
            "Store credentials unencrypted in '/root/.local/share/cityscapesscripts/credentials.json' [y/N]: n\n"
          ]
        }
      ],
      "source": [
        "session = downloader.login()"
      ]
    },
    {
      "cell_type": "markdown",
      "metadata": {
        "id": "JmuKluPLT7CH"
      },
      "source": [
        "## RemoteZip Approach"
      ]
    },
    {
      "cell_type": "code",
      "execution_count": null,
      "metadata": {
        "id": "GO67Bxaawq8b"
      },
      "outputs": [],
      "source": [
        "import requests\n",
        "import zipfile\n",
        "import io\n",
        "from remotezip import RemoteZip\n",
        "import threading, multiprocessing\n",
        "import concurrent.futures\n",
        "import time\n",
        "\n",
        "class DataExplorer:\n",
        "    def __init__(\n",
        "            self,\n",
        "            name : str = \"\",\n",
        "            url : str = \"\",\n",
        "            session : requests.sessions.Session | None = None,\n",
        "    ):\n",
        "        self.name = name\n",
        "        self.url = url\n",
        "        self.session = session\n",
        "        self.files_list = []\n",
        "        self.cache_list = []\n",
        "\n",
        "    def _check_files_list(self):\n",
        "        if not self.files_list:\n",
        "            self.files_list = self.get_file_contents()\n",
        "\n",
        "    def get_filtered_list(self,filter,start = None,end = None,**kwargs):\n",
        "        self._check_files_list()\n",
        "        return [f for f in self.files_list if filter(f)][start:end]\n",
        "\n",
        "    def download_with_filter(\n",
        "            self,\n",
        "            filter,\n",
        "            destination_path : str = \"\",\n",
        "            **kwargs\n",
        "\n",
        "    ):\n",
        "        self._check_files_list()\n",
        "        self.cache_list = self.get_filtered_list(filter,**kwargs)\n",
        "        self.download_listed_files(self.cache_list,destination_path=destination_path)\n",
        "\n",
        "    def download_with_filter_parallel(\n",
        "            self,\n",
        "            filter,\n",
        "            destination_path : str = \"\",\n",
        "            **kwargs\n",
        "\n",
        "    ):\n",
        "        self._check_files_list()\n",
        "        self.cache_list = self.get_filtered_list(filter,**kwargs)\n",
        "        return self.download_in_parallel(self.cache_list,destination_path=destination_path,**kwargs)\n",
        "\n",
        "\n",
        "    def get_file_contents(self):\n",
        "        \"\"\"\n",
        "        returns list of file contents\n",
        "        url : url of the zip file\n",
        "        \"\"\"\n",
        "        with RemoteZip(self.url, session = self.session) as z:\n",
        "            zip_contents = z.namelist()\n",
        "            return sorted(zip_contents);\n",
        "\n",
        "    def download_listed_files(\n",
        "        self,file_list : list[str] | str,\n",
        "        destination_path : str = \"\",\n",
        "    ):\n",
        "        \"\"\"\n",
        "        file_list : list of files to be extracted\n",
        "        \"\"\"\n",
        "\n",
        "        with RemoteZip(self.url,session = self.session) as z:\n",
        "            for file in file_list:\n",
        "                try:\n",
        "                    z.extract(file,destination_path)\n",
        "                    print(f\"Task {file} downloaded succesfully\")\n",
        "                except Exception as e:\n",
        "                    print(f\"Task {file} generated an exception: {e}\")\n",
        "\n",
        "    def download_in_parallel(\n",
        "            self,file_list : list[str] | str,\n",
        "            destination_path : str = \"\",\n",
        "            rate = 200,\n",
        "            **kwargs\n",
        "    ):\n",
        "        \"\"\"\n",
        "        file_list : list of files to be extracted\n",
        "        url : url of the zip file\n",
        "        \"\"\"\n",
        "        count = 0\n",
        "        semaphore = multiprocessing.Semaphore(rate)\n",
        "        lock = multiprocessing.Lock()\n",
        "        logs = multiprocessing.Array('i', [0,0,0])\n",
        "        def _extract(z,file_name,destination_path,logs, *args):\n",
        "            retries = 3\n",
        "            while retries:\n",
        "                with semaphore:\n",
        "                    try:\n",
        "                        z.extract(file_name,destination_path,*args)\n",
        "                        with logs.get_lock():\n",
        "                            logs[0] += 1\n",
        "                            # print(f\"Task {file_name} downloaded succesfully\")\n",
        "                        return\n",
        "                    except Exception as e:\n",
        "                        with logs.get_lock():\n",
        "                            # print(f\"Task {file_name} generated an exception: {e}\")\n",
        "                            # print(f\"Retrying... {retries} retry remaining\")\n",
        "                            logs[2] += 1\n",
        "                        time.sleep(0.01)\n",
        "                    retries -= 1\n",
        "            with logs.get_lock():\n",
        "                logs[2] += 1\n",
        "\n",
        "        with RemoteZip(self.url,session = self.session) as z:\n",
        "            processes = []\n",
        "\n",
        "            for file in file_list:\n",
        "                process = multiprocessing.Process(target=_extract, args=(z,file,destination_path,logs))\n",
        "                processes.append(process)\n",
        "                process.start()\n",
        "                # time.sleep(0.01)\n",
        "\n",
        "\n",
        "            for thread in processes:\n",
        "                thread.join()\n",
        "\n",
        "            stats = {\n",
        "                \"Success\" : logs[0],\n",
        "                \"Fails\" : logs[1],\n",
        "                \"retries\" : logs[2]\n",
        "            }\n",
        "            return stats\n"
      ]
    },
    {
      "cell_type": "markdown",
      "metadata": {
        "id": "zLyT5gOvbAum"
      },
      "source": [
        "### Initialization of downloader objects"
      ]
    },
    {
      "cell_type": "code",
      "execution_count": null,
      "metadata": {
        "id": "dw__6GylyZCq"
      },
      "outputs": [],
      "source": [
        "class dobj:\n",
        "    gtfine_data = DataExplorer(\n",
        "        url = \"https://www.cityscapes-dataset.com/file-handling/?packageID=1\",\n",
        "        session=session,\n",
        "        name=\"gtfine\"\n",
        "    )\n",
        "    leftimg = DataExplorer(\n",
        "        url = \"https://www.cityscapes-dataset.com/file-handling/?packageID=3\",\n",
        "        session=session,\n",
        "        name=\"leftimg\"\n",
        "    )\n",
        "    rightimg = DataExplorer(\n",
        "        url = \"https://www.cityscapes-dataset.com/file-handling/?packageID=5\",\n",
        "        session=session,\n",
        "        name=\"rightimg\"\n",
        "    )"
      ]
    },
    {
      "cell_type": "code",
      "source": [],
      "metadata": {
        "id": "v1ibtpzvTM4x"
      },
      "execution_count": null,
      "outputs": []
    },
    {
      "cell_type": "code",
      "source": [
        "dobj.gtfine_data.get_file_contents()"
      ],
      "metadata": {
        "colab": {
          "base_uri": "https://localhost:8080/"
        },
        "collapsed": true,
        "id": "T05n10waTJxq",
        "outputId": "10016878-5589-456a-da8d-e24d2c77bd38"
      },
      "execution_count": null,
      "outputs": [
        {
          "output_type": "execute_result",
          "data": {
            "text/plain": [
              "['README',\n",
              " 'gtFine/test/',\n",
              " 'gtFine/test/berlin/',\n",
              " 'gtFine/test/berlin/berlin_000000_000019_gtFine_color.png',\n",
              " 'gtFine/test/berlin/berlin_000000_000019_gtFine_instanceIds.png',\n",
              " 'gtFine/test/berlin/berlin_000000_000019_gtFine_labelIds.png',\n",
              " 'gtFine/test/berlin/berlin_000000_000019_gtFine_polygons.json',\n",
              " 'gtFine/test/berlin/berlin_000001_000019_gtFine_color.png',\n",
              " 'gtFine/test/berlin/berlin_000001_000019_gtFine_instanceIds.png',\n",
              " 'gtFine/test/berlin/berlin_000001_000019_gtFine_labelIds.png',\n",
              " 'gtFine/test/berlin/berlin_000001_000019_gtFine_polygons.json',\n",
              " 'gtFine/test/berlin/berlin_000002_000019_gtFine_color.png',\n",
              " 'gtFine/test/berlin/berlin_000002_000019_gtFine_instanceIds.png',\n",
              " 'gtFine/test/berlin/berlin_000002_000019_gtFine_labelIds.png',\n",
              " 'gtFine/test/berlin/berlin_000002_000019_gtFine_polygons.json',\n",
              " 'gtFine/test/berlin/berlin_000003_000019_gtFine_color.png',\n",
              " 'gtFine/test/berlin/berlin_000003_000019_gtFine_instanceIds.png',\n",
              " 'gtFine/test/berlin/berlin_000003_000019_gtFine_labelIds.png',\n",
              " 'gtFine/test/berlin/berlin_000003_000019_gtFine_polygons.json',\n",
              " 'gtFine/test/berlin/berlin_000004_000019_gtFine_color.png',\n",
              " 'gtFine/test/berlin/berlin_000004_000019_gtFine_instanceIds.png',\n",
              " 'gtFine/test/berlin/berlin_000004_000019_gtFine_labelIds.png',\n",
              " 'gtFine/test/berlin/berlin_000004_000019_gtFine_polygons.json',\n",
              " 'gtFine/test/berlin/berlin_000005_000019_gtFine_color.png',\n",
              " 'gtFine/test/berlin/berlin_000005_000019_gtFine_instanceIds.png',\n",
              " 'gtFine/test/berlin/berlin_000005_000019_gtFine_labelIds.png',\n",
              " 'gtFine/test/berlin/berlin_000005_000019_gtFine_polygons.json',\n",
              " 'gtFine/test/berlin/berlin_000006_000019_gtFine_color.png',\n",
              " 'gtFine/test/berlin/berlin_000006_000019_gtFine_instanceIds.png',\n",
              " 'gtFine/test/berlin/berlin_000006_000019_gtFine_labelIds.png',\n",
              " 'gtFine/test/berlin/berlin_000006_000019_gtFine_polygons.json',\n",
              " 'gtFine/test/berlin/berlin_000007_000019_gtFine_color.png',\n",
              " 'gtFine/test/berlin/berlin_000007_000019_gtFine_instanceIds.png',\n",
              " 'gtFine/test/berlin/berlin_000007_000019_gtFine_labelIds.png',\n",
              " 'gtFine/test/berlin/berlin_000007_000019_gtFine_polygons.json',\n",
              " 'gtFine/test/berlin/berlin_000008_000019_gtFine_color.png',\n",
              " 'gtFine/test/berlin/berlin_000008_000019_gtFine_instanceIds.png',\n",
              " 'gtFine/test/berlin/berlin_000008_000019_gtFine_labelIds.png',\n",
              " 'gtFine/test/berlin/berlin_000008_000019_gtFine_polygons.json',\n",
              " 'gtFine/test/berlin/berlin_000009_000019_gtFine_color.png',\n",
              " 'gtFine/test/berlin/berlin_000009_000019_gtFine_instanceIds.png',\n",
              " 'gtFine/test/berlin/berlin_000009_000019_gtFine_labelIds.png',\n",
              " 'gtFine/test/berlin/berlin_000009_000019_gtFine_polygons.json',\n",
              " 'gtFine/test/berlin/berlin_000010_000019_gtFine_color.png',\n",
              " 'gtFine/test/berlin/berlin_000010_000019_gtFine_instanceIds.png',\n",
              " 'gtFine/test/berlin/berlin_000010_000019_gtFine_labelIds.png',\n",
              " 'gtFine/test/berlin/berlin_000010_000019_gtFine_polygons.json',\n",
              " 'gtFine/test/berlin/berlin_000011_000019_gtFine_color.png',\n",
              " 'gtFine/test/berlin/berlin_000011_000019_gtFine_instanceIds.png',\n",
              " 'gtFine/test/berlin/berlin_000011_000019_gtFine_labelIds.png',\n",
              " 'gtFine/test/berlin/berlin_000011_000019_gtFine_polygons.json',\n",
              " 'gtFine/test/berlin/berlin_000012_000019_gtFine_color.png',\n",
              " 'gtFine/test/berlin/berlin_000012_000019_gtFine_instanceIds.png',\n",
              " 'gtFine/test/berlin/berlin_000012_000019_gtFine_labelIds.png',\n",
              " 'gtFine/test/berlin/berlin_000012_000019_gtFine_polygons.json',\n",
              " 'gtFine/test/berlin/berlin_000013_000019_gtFine_color.png',\n",
              " 'gtFine/test/berlin/berlin_000013_000019_gtFine_instanceIds.png',\n",
              " 'gtFine/test/berlin/berlin_000013_000019_gtFine_labelIds.png',\n",
              " 'gtFine/test/berlin/berlin_000013_000019_gtFine_polygons.json',\n",
              " 'gtFine/test/berlin/berlin_000014_000019_gtFine_color.png',\n",
              " 'gtFine/test/berlin/berlin_000014_000019_gtFine_instanceIds.png',\n",
              " 'gtFine/test/berlin/berlin_000014_000019_gtFine_labelIds.png',\n",
              " 'gtFine/test/berlin/berlin_000014_000019_gtFine_polygons.json',\n",
              " 'gtFine/test/berlin/berlin_000015_000019_gtFine_color.png',\n",
              " 'gtFine/test/berlin/berlin_000015_000019_gtFine_instanceIds.png',\n",
              " 'gtFine/test/berlin/berlin_000015_000019_gtFine_labelIds.png',\n",
              " 'gtFine/test/berlin/berlin_000015_000019_gtFine_polygons.json',\n",
              " 'gtFine/test/berlin/berlin_000016_000019_gtFine_color.png',\n",
              " 'gtFine/test/berlin/berlin_000016_000019_gtFine_instanceIds.png',\n",
              " 'gtFine/test/berlin/berlin_000016_000019_gtFine_labelIds.png',\n",
              " 'gtFine/test/berlin/berlin_000016_000019_gtFine_polygons.json',\n",
              " 'gtFine/test/berlin/berlin_000017_000019_gtFine_color.png',\n",
              " 'gtFine/test/berlin/berlin_000017_000019_gtFine_instanceIds.png',\n",
              " 'gtFine/test/berlin/berlin_000017_000019_gtFine_labelIds.png',\n",
              " 'gtFine/test/berlin/berlin_000017_000019_gtFine_polygons.json',\n",
              " 'gtFine/test/berlin/berlin_000018_000019_gtFine_color.png',\n",
              " 'gtFine/test/berlin/berlin_000018_000019_gtFine_instanceIds.png',\n",
              " 'gtFine/test/berlin/berlin_000018_000019_gtFine_labelIds.png',\n",
              " 'gtFine/test/berlin/berlin_000018_000019_gtFine_polygons.json',\n",
              " 'gtFine/test/berlin/berlin_000019_000019_gtFine_color.png',\n",
              " 'gtFine/test/berlin/berlin_000019_000019_gtFine_instanceIds.png',\n",
              " 'gtFine/test/berlin/berlin_000019_000019_gtFine_labelIds.png',\n",
              " 'gtFine/test/berlin/berlin_000019_000019_gtFine_polygons.json',\n",
              " 'gtFine/test/berlin/berlin_000020_000019_gtFine_color.png',\n",
              " 'gtFine/test/berlin/berlin_000020_000019_gtFine_instanceIds.png',\n",
              " 'gtFine/test/berlin/berlin_000020_000019_gtFine_labelIds.png',\n",
              " 'gtFine/test/berlin/berlin_000020_000019_gtFine_polygons.json',\n",
              " 'gtFine/test/berlin/berlin_000021_000019_gtFine_color.png',\n",
              " 'gtFine/test/berlin/berlin_000021_000019_gtFine_instanceIds.png',\n",
              " 'gtFine/test/berlin/berlin_000021_000019_gtFine_labelIds.png',\n",
              " 'gtFine/test/berlin/berlin_000021_000019_gtFine_polygons.json',\n",
              " 'gtFine/test/berlin/berlin_000022_000019_gtFine_color.png',\n",
              " 'gtFine/test/berlin/berlin_000022_000019_gtFine_instanceIds.png',\n",
              " 'gtFine/test/berlin/berlin_000022_000019_gtFine_labelIds.png',\n",
              " 'gtFine/test/berlin/berlin_000022_000019_gtFine_polygons.json',\n",
              " 'gtFine/test/berlin/berlin_000023_000019_gtFine_color.png',\n",
              " 'gtFine/test/berlin/berlin_000023_000019_gtFine_instanceIds.png',\n",
              " 'gtFine/test/berlin/berlin_000023_000019_gtFine_labelIds.png',\n",
              " 'gtFine/test/berlin/berlin_000023_000019_gtFine_polygons.json',\n",
              " 'gtFine/test/berlin/berlin_000024_000019_gtFine_color.png',\n",
              " 'gtFine/test/berlin/berlin_000024_000019_gtFine_instanceIds.png',\n",
              " 'gtFine/test/berlin/berlin_000024_000019_gtFine_labelIds.png',\n",
              " 'gtFine/test/berlin/berlin_000024_000019_gtFine_polygons.json',\n",
              " 'gtFine/test/berlin/berlin_000025_000019_gtFine_color.png',\n",
              " 'gtFine/test/berlin/berlin_000025_000019_gtFine_instanceIds.png',\n",
              " 'gtFine/test/berlin/berlin_000025_000019_gtFine_labelIds.png',\n",
              " 'gtFine/test/berlin/berlin_000025_000019_gtFine_polygons.json',\n",
              " 'gtFine/test/berlin/berlin_000026_000019_gtFine_color.png',\n",
              " 'gtFine/test/berlin/berlin_000026_000019_gtFine_instanceIds.png',\n",
              " 'gtFine/test/berlin/berlin_000026_000019_gtFine_labelIds.png',\n",
              " 'gtFine/test/berlin/berlin_000026_000019_gtFine_polygons.json',\n",
              " 'gtFine/test/berlin/berlin_000027_000019_gtFine_color.png',\n",
              " 'gtFine/test/berlin/berlin_000027_000019_gtFine_instanceIds.png',\n",
              " 'gtFine/test/berlin/berlin_000027_000019_gtFine_labelIds.png',\n",
              " 'gtFine/test/berlin/berlin_000027_000019_gtFine_polygons.json',\n",
              " 'gtFine/test/berlin/berlin_000028_000019_gtFine_color.png',\n",
              " 'gtFine/test/berlin/berlin_000028_000019_gtFine_instanceIds.png',\n",
              " 'gtFine/test/berlin/berlin_000028_000019_gtFine_labelIds.png',\n",
              " 'gtFine/test/berlin/berlin_000028_000019_gtFine_polygons.json',\n",
              " 'gtFine/test/berlin/berlin_000029_000019_gtFine_color.png',\n",
              " 'gtFine/test/berlin/berlin_000029_000019_gtFine_instanceIds.png',\n",
              " 'gtFine/test/berlin/berlin_000029_000019_gtFine_labelIds.png',\n",
              " 'gtFine/test/berlin/berlin_000029_000019_gtFine_polygons.json',\n",
              " 'gtFine/test/berlin/berlin_000030_000019_gtFine_color.png',\n",
              " 'gtFine/test/berlin/berlin_000030_000019_gtFine_instanceIds.png',\n",
              " 'gtFine/test/berlin/berlin_000030_000019_gtFine_labelIds.png',\n",
              " 'gtFine/test/berlin/berlin_000030_000019_gtFine_polygons.json',\n",
              " 'gtFine/test/berlin/berlin_000031_000019_gtFine_color.png',\n",
              " 'gtFine/test/berlin/berlin_000031_000019_gtFine_instanceIds.png',\n",
              " 'gtFine/test/berlin/berlin_000031_000019_gtFine_labelIds.png',\n",
              " 'gtFine/test/berlin/berlin_000031_000019_gtFine_polygons.json',\n",
              " 'gtFine/test/berlin/berlin_000032_000019_gtFine_color.png',\n",
              " 'gtFine/test/berlin/berlin_000032_000019_gtFine_instanceIds.png',\n",
              " 'gtFine/test/berlin/berlin_000032_000019_gtFine_labelIds.png',\n",
              " 'gtFine/test/berlin/berlin_000032_000019_gtFine_polygons.json',\n",
              " 'gtFine/test/berlin/berlin_000033_000019_gtFine_color.png',\n",
              " 'gtFine/test/berlin/berlin_000033_000019_gtFine_instanceIds.png',\n",
              " 'gtFine/test/berlin/berlin_000033_000019_gtFine_labelIds.png',\n",
              " 'gtFine/test/berlin/berlin_000033_000019_gtFine_polygons.json',\n",
              " 'gtFine/test/berlin/berlin_000034_000019_gtFine_color.png',\n",
              " 'gtFine/test/berlin/berlin_000034_000019_gtFine_instanceIds.png',\n",
              " 'gtFine/test/berlin/berlin_000034_000019_gtFine_labelIds.png',\n",
              " 'gtFine/test/berlin/berlin_000034_000019_gtFine_polygons.json',\n",
              " 'gtFine/test/berlin/berlin_000035_000019_gtFine_color.png',\n",
              " 'gtFine/test/berlin/berlin_000035_000019_gtFine_instanceIds.png',\n",
              " 'gtFine/test/berlin/berlin_000035_000019_gtFine_labelIds.png',\n",
              " 'gtFine/test/berlin/berlin_000035_000019_gtFine_polygons.json',\n",
              " 'gtFine/test/berlin/berlin_000036_000019_gtFine_color.png',\n",
              " 'gtFine/test/berlin/berlin_000036_000019_gtFine_instanceIds.png',\n",
              " 'gtFine/test/berlin/berlin_000036_000019_gtFine_labelIds.png',\n",
              " 'gtFine/test/berlin/berlin_000036_000019_gtFine_polygons.json',\n",
              " 'gtFine/test/berlin/berlin_000037_000019_gtFine_color.png',\n",
              " 'gtFine/test/berlin/berlin_000037_000019_gtFine_instanceIds.png',\n",
              " 'gtFine/test/berlin/berlin_000037_000019_gtFine_labelIds.png',\n",
              " 'gtFine/test/berlin/berlin_000037_000019_gtFine_polygons.json',\n",
              " 'gtFine/test/berlin/berlin_000038_000019_gtFine_color.png',\n",
              " 'gtFine/test/berlin/berlin_000038_000019_gtFine_instanceIds.png',\n",
              " 'gtFine/test/berlin/berlin_000038_000019_gtFine_labelIds.png',\n",
              " 'gtFine/test/berlin/berlin_000038_000019_gtFine_polygons.json',\n",
              " 'gtFine/test/berlin/berlin_000039_000019_gtFine_color.png',\n",
              " 'gtFine/test/berlin/berlin_000039_000019_gtFine_instanceIds.png',\n",
              " 'gtFine/test/berlin/berlin_000039_000019_gtFine_labelIds.png',\n",
              " 'gtFine/test/berlin/berlin_000039_000019_gtFine_polygons.json',\n",
              " 'gtFine/test/berlin/berlin_000040_000019_gtFine_color.png',\n",
              " 'gtFine/test/berlin/berlin_000040_000019_gtFine_instanceIds.png',\n",
              " 'gtFine/test/berlin/berlin_000040_000019_gtFine_labelIds.png',\n",
              " 'gtFine/test/berlin/berlin_000040_000019_gtFine_polygons.json',\n",
              " 'gtFine/test/berlin/berlin_000041_000019_gtFine_color.png',\n",
              " 'gtFine/test/berlin/berlin_000041_000019_gtFine_instanceIds.png',\n",
              " 'gtFine/test/berlin/berlin_000041_000019_gtFine_labelIds.png',\n",
              " 'gtFine/test/berlin/berlin_000041_000019_gtFine_polygons.json',\n",
              " 'gtFine/test/berlin/berlin_000042_000019_gtFine_color.png',\n",
              " 'gtFine/test/berlin/berlin_000042_000019_gtFine_instanceIds.png',\n",
              " 'gtFine/test/berlin/berlin_000042_000019_gtFine_labelIds.png',\n",
              " 'gtFine/test/berlin/berlin_000042_000019_gtFine_polygons.json',\n",
              " 'gtFine/test/berlin/berlin_000043_000019_gtFine_color.png',\n",
              " 'gtFine/test/berlin/berlin_000043_000019_gtFine_instanceIds.png',\n",
              " 'gtFine/test/berlin/berlin_000043_000019_gtFine_labelIds.png',\n",
              " 'gtFine/test/berlin/berlin_000043_000019_gtFine_polygons.json',\n",
              " 'gtFine/test/berlin/berlin_000044_000019_gtFine_color.png',\n",
              " 'gtFine/test/berlin/berlin_000044_000019_gtFine_instanceIds.png',\n",
              " 'gtFine/test/berlin/berlin_000044_000019_gtFine_labelIds.png',\n",
              " 'gtFine/test/berlin/berlin_000044_000019_gtFine_polygons.json',\n",
              " 'gtFine/test/berlin/berlin_000045_000019_gtFine_color.png',\n",
              " 'gtFine/test/berlin/berlin_000045_000019_gtFine_instanceIds.png',\n",
              " 'gtFine/test/berlin/berlin_000045_000019_gtFine_labelIds.png',\n",
              " 'gtFine/test/berlin/berlin_000045_000019_gtFine_polygons.json',\n",
              " 'gtFine/test/berlin/berlin_000046_000019_gtFine_color.png',\n",
              " 'gtFine/test/berlin/berlin_000046_000019_gtFine_instanceIds.png',\n",
              " 'gtFine/test/berlin/berlin_000046_000019_gtFine_labelIds.png',\n",
              " 'gtFine/test/berlin/berlin_000046_000019_gtFine_polygons.json',\n",
              " 'gtFine/test/berlin/berlin_000047_000019_gtFine_color.png',\n",
              " 'gtFine/test/berlin/berlin_000047_000019_gtFine_instanceIds.png',\n",
              " 'gtFine/test/berlin/berlin_000047_000019_gtFine_labelIds.png',\n",
              " 'gtFine/test/berlin/berlin_000047_000019_gtFine_polygons.json',\n",
              " 'gtFine/test/berlin/berlin_000048_000019_gtFine_color.png',\n",
              " 'gtFine/test/berlin/berlin_000048_000019_gtFine_instanceIds.png',\n",
              " 'gtFine/test/berlin/berlin_000048_000019_gtFine_labelIds.png',\n",
              " 'gtFine/test/berlin/berlin_000048_000019_gtFine_polygons.json',\n",
              " 'gtFine/test/berlin/berlin_000049_000019_gtFine_color.png',\n",
              " 'gtFine/test/berlin/berlin_000049_000019_gtFine_instanceIds.png',\n",
              " 'gtFine/test/berlin/berlin_000049_000019_gtFine_labelIds.png',\n",
              " 'gtFine/test/berlin/berlin_000049_000019_gtFine_polygons.json',\n",
              " 'gtFine/test/berlin/berlin_000050_000019_gtFine_color.png',\n",
              " 'gtFine/test/berlin/berlin_000050_000019_gtFine_instanceIds.png',\n",
              " 'gtFine/test/berlin/berlin_000050_000019_gtFine_labelIds.png',\n",
              " 'gtFine/test/berlin/berlin_000050_000019_gtFine_polygons.json',\n",
              " 'gtFine/test/berlin/berlin_000051_000019_gtFine_color.png',\n",
              " 'gtFine/test/berlin/berlin_000051_000019_gtFine_instanceIds.png',\n",
              " 'gtFine/test/berlin/berlin_000051_000019_gtFine_labelIds.png',\n",
              " 'gtFine/test/berlin/berlin_000051_000019_gtFine_polygons.json',\n",
              " 'gtFine/test/berlin/berlin_000052_000019_gtFine_color.png',\n",
              " 'gtFine/test/berlin/berlin_000052_000019_gtFine_instanceIds.png',\n",
              " 'gtFine/test/berlin/berlin_000052_000019_gtFine_labelIds.png',\n",
              " 'gtFine/test/berlin/berlin_000052_000019_gtFine_polygons.json',\n",
              " 'gtFine/test/berlin/berlin_000053_000019_gtFine_color.png',\n",
              " 'gtFine/test/berlin/berlin_000053_000019_gtFine_instanceIds.png',\n",
              " 'gtFine/test/berlin/berlin_000053_000019_gtFine_labelIds.png',\n",
              " 'gtFine/test/berlin/berlin_000053_000019_gtFine_polygons.json',\n",
              " 'gtFine/test/berlin/berlin_000054_000019_gtFine_color.png',\n",
              " 'gtFine/test/berlin/berlin_000054_000019_gtFine_instanceIds.png',\n",
              " 'gtFine/test/berlin/berlin_000054_000019_gtFine_labelIds.png',\n",
              " 'gtFine/test/berlin/berlin_000054_000019_gtFine_polygons.json',\n",
              " 'gtFine/test/berlin/berlin_000055_000019_gtFine_color.png',\n",
              " 'gtFine/test/berlin/berlin_000055_000019_gtFine_instanceIds.png',\n",
              " 'gtFine/test/berlin/berlin_000055_000019_gtFine_labelIds.png',\n",
              " 'gtFine/test/berlin/berlin_000055_000019_gtFine_polygons.json',\n",
              " 'gtFine/test/berlin/berlin_000056_000019_gtFine_color.png',\n",
              " 'gtFine/test/berlin/berlin_000056_000019_gtFine_instanceIds.png',\n",
              " 'gtFine/test/berlin/berlin_000056_000019_gtFine_labelIds.png',\n",
              " 'gtFine/test/berlin/berlin_000056_000019_gtFine_polygons.json',\n",
              " 'gtFine/test/berlin/berlin_000057_000019_gtFine_color.png',\n",
              " 'gtFine/test/berlin/berlin_000057_000019_gtFine_instanceIds.png',\n",
              " 'gtFine/test/berlin/berlin_000057_000019_gtFine_labelIds.png',\n",
              " 'gtFine/test/berlin/berlin_000057_000019_gtFine_polygons.json',\n",
              " 'gtFine/test/berlin/berlin_000058_000019_gtFine_color.png',\n",
              " 'gtFine/test/berlin/berlin_000058_000019_gtFine_instanceIds.png',\n",
              " 'gtFine/test/berlin/berlin_000058_000019_gtFine_labelIds.png',\n",
              " 'gtFine/test/berlin/berlin_000058_000019_gtFine_polygons.json',\n",
              " 'gtFine/test/berlin/berlin_000059_000019_gtFine_color.png',\n",
              " 'gtFine/test/berlin/berlin_000059_000019_gtFine_instanceIds.png',\n",
              " 'gtFine/test/berlin/berlin_000059_000019_gtFine_labelIds.png',\n",
              " 'gtFine/test/berlin/berlin_000059_000019_gtFine_polygons.json',\n",
              " 'gtFine/test/berlin/berlin_000060_000019_gtFine_color.png',\n",
              " 'gtFine/test/berlin/berlin_000060_000019_gtFine_instanceIds.png',\n",
              " 'gtFine/test/berlin/berlin_000060_000019_gtFine_labelIds.png',\n",
              " 'gtFine/test/berlin/berlin_000060_000019_gtFine_polygons.json',\n",
              " 'gtFine/test/berlin/berlin_000061_000019_gtFine_color.png',\n",
              " 'gtFine/test/berlin/berlin_000061_000019_gtFine_instanceIds.png',\n",
              " 'gtFine/test/berlin/berlin_000061_000019_gtFine_labelIds.png',\n",
              " 'gtFine/test/berlin/berlin_000061_000019_gtFine_polygons.json',\n",
              " 'gtFine/test/berlin/berlin_000062_000019_gtFine_color.png',\n",
              " 'gtFine/test/berlin/berlin_000062_000019_gtFine_instanceIds.png',\n",
              " 'gtFine/test/berlin/berlin_000062_000019_gtFine_labelIds.png',\n",
              " 'gtFine/test/berlin/berlin_000062_000019_gtFine_polygons.json',\n",
              " 'gtFine/test/berlin/berlin_000063_000019_gtFine_color.png',\n",
              " 'gtFine/test/berlin/berlin_000063_000019_gtFine_instanceIds.png',\n",
              " 'gtFine/test/berlin/berlin_000063_000019_gtFine_labelIds.png',\n",
              " 'gtFine/test/berlin/berlin_000063_000019_gtFine_polygons.json',\n",
              " 'gtFine/test/berlin/berlin_000064_000019_gtFine_color.png',\n",
              " 'gtFine/test/berlin/berlin_000064_000019_gtFine_instanceIds.png',\n",
              " 'gtFine/test/berlin/berlin_000064_000019_gtFine_labelIds.png',\n",
              " 'gtFine/test/berlin/berlin_000064_000019_gtFine_polygons.json',\n",
              " 'gtFine/test/berlin/berlin_000065_000019_gtFine_color.png',\n",
              " 'gtFine/test/berlin/berlin_000065_000019_gtFine_instanceIds.png',\n",
              " 'gtFine/test/berlin/berlin_000065_000019_gtFine_labelIds.png',\n",
              " 'gtFine/test/berlin/berlin_000065_000019_gtFine_polygons.json',\n",
              " 'gtFine/test/berlin/berlin_000066_000019_gtFine_color.png',\n",
              " 'gtFine/test/berlin/berlin_000066_000019_gtFine_instanceIds.png',\n",
              " 'gtFine/test/berlin/berlin_000066_000019_gtFine_labelIds.png',\n",
              " 'gtFine/test/berlin/berlin_000066_000019_gtFine_polygons.json',\n",
              " 'gtFine/test/berlin/berlin_000067_000019_gtFine_color.png',\n",
              " 'gtFine/test/berlin/berlin_000067_000019_gtFine_instanceIds.png',\n",
              " 'gtFine/test/berlin/berlin_000067_000019_gtFine_labelIds.png',\n",
              " 'gtFine/test/berlin/berlin_000067_000019_gtFine_polygons.json',\n",
              " 'gtFine/test/berlin/berlin_000068_000019_gtFine_color.png',\n",
              " 'gtFine/test/berlin/berlin_000068_000019_gtFine_instanceIds.png',\n",
              " 'gtFine/test/berlin/berlin_000068_000019_gtFine_labelIds.png',\n",
              " 'gtFine/test/berlin/berlin_000068_000019_gtFine_polygons.json',\n",
              " 'gtFine/test/berlin/berlin_000069_000019_gtFine_color.png',\n",
              " 'gtFine/test/berlin/berlin_000069_000019_gtFine_instanceIds.png',\n",
              " 'gtFine/test/berlin/berlin_000069_000019_gtFine_labelIds.png',\n",
              " 'gtFine/test/berlin/berlin_000069_000019_gtFine_polygons.json',\n",
              " 'gtFine/test/berlin/berlin_000070_000019_gtFine_color.png',\n",
              " 'gtFine/test/berlin/berlin_000070_000019_gtFine_instanceIds.png',\n",
              " 'gtFine/test/berlin/berlin_000070_000019_gtFine_labelIds.png',\n",
              " 'gtFine/test/berlin/berlin_000070_000019_gtFine_polygons.json',\n",
              " 'gtFine/test/berlin/berlin_000071_000019_gtFine_color.png',\n",
              " 'gtFine/test/berlin/berlin_000071_000019_gtFine_instanceIds.png',\n",
              " 'gtFine/test/berlin/berlin_000071_000019_gtFine_labelIds.png',\n",
              " 'gtFine/test/berlin/berlin_000071_000019_gtFine_polygons.json',\n",
              " 'gtFine/test/berlin/berlin_000072_000019_gtFine_color.png',\n",
              " 'gtFine/test/berlin/berlin_000072_000019_gtFine_instanceIds.png',\n",
              " 'gtFine/test/berlin/berlin_000072_000019_gtFine_labelIds.png',\n",
              " 'gtFine/test/berlin/berlin_000072_000019_gtFine_polygons.json',\n",
              " 'gtFine/test/berlin/berlin_000073_000019_gtFine_color.png',\n",
              " 'gtFine/test/berlin/berlin_000073_000019_gtFine_instanceIds.png',\n",
              " 'gtFine/test/berlin/berlin_000073_000019_gtFine_labelIds.png',\n",
              " 'gtFine/test/berlin/berlin_000073_000019_gtFine_polygons.json',\n",
              " 'gtFine/test/berlin/berlin_000074_000019_gtFine_color.png',\n",
              " 'gtFine/test/berlin/berlin_000074_000019_gtFine_instanceIds.png',\n",
              " 'gtFine/test/berlin/berlin_000074_000019_gtFine_labelIds.png',\n",
              " 'gtFine/test/berlin/berlin_000074_000019_gtFine_polygons.json',\n",
              " 'gtFine/test/berlin/berlin_000075_000019_gtFine_color.png',\n",
              " 'gtFine/test/berlin/berlin_000075_000019_gtFine_instanceIds.png',\n",
              " 'gtFine/test/berlin/berlin_000075_000019_gtFine_labelIds.png',\n",
              " 'gtFine/test/berlin/berlin_000075_000019_gtFine_polygons.json',\n",
              " 'gtFine/test/berlin/berlin_000076_000019_gtFine_color.png',\n",
              " 'gtFine/test/berlin/berlin_000076_000019_gtFine_instanceIds.png',\n",
              " 'gtFine/test/berlin/berlin_000076_000019_gtFine_labelIds.png',\n",
              " 'gtFine/test/berlin/berlin_000076_000019_gtFine_polygons.json',\n",
              " 'gtFine/test/berlin/berlin_000077_000019_gtFine_color.png',\n",
              " 'gtFine/test/berlin/berlin_000077_000019_gtFine_instanceIds.png',\n",
              " 'gtFine/test/berlin/berlin_000077_000019_gtFine_labelIds.png',\n",
              " 'gtFine/test/berlin/berlin_000077_000019_gtFine_polygons.json',\n",
              " 'gtFine/test/berlin/berlin_000078_000019_gtFine_color.png',\n",
              " 'gtFine/test/berlin/berlin_000078_000019_gtFine_instanceIds.png',\n",
              " 'gtFine/test/berlin/berlin_000078_000019_gtFine_labelIds.png',\n",
              " 'gtFine/test/berlin/berlin_000078_000019_gtFine_polygons.json',\n",
              " 'gtFine/test/berlin/berlin_000079_000019_gtFine_color.png',\n",
              " 'gtFine/test/berlin/berlin_000079_000019_gtFine_instanceIds.png',\n",
              " 'gtFine/test/berlin/berlin_000079_000019_gtFine_labelIds.png',\n",
              " 'gtFine/test/berlin/berlin_000079_000019_gtFine_polygons.json',\n",
              " 'gtFine/test/berlin/berlin_000080_000019_gtFine_color.png',\n",
              " 'gtFine/test/berlin/berlin_000080_000019_gtFine_instanceIds.png',\n",
              " 'gtFine/test/berlin/berlin_000080_000019_gtFine_labelIds.png',\n",
              " 'gtFine/test/berlin/berlin_000080_000019_gtFine_polygons.json',\n",
              " 'gtFine/test/berlin/berlin_000081_000019_gtFine_color.png',\n",
              " 'gtFine/test/berlin/berlin_000081_000019_gtFine_instanceIds.png',\n",
              " 'gtFine/test/berlin/berlin_000081_000019_gtFine_labelIds.png',\n",
              " 'gtFine/test/berlin/berlin_000081_000019_gtFine_polygons.json',\n",
              " 'gtFine/test/berlin/berlin_000082_000019_gtFine_color.png',\n",
              " 'gtFine/test/berlin/berlin_000082_000019_gtFine_instanceIds.png',\n",
              " 'gtFine/test/berlin/berlin_000082_000019_gtFine_labelIds.png',\n",
              " 'gtFine/test/berlin/berlin_000082_000019_gtFine_polygons.json',\n",
              " 'gtFine/test/berlin/berlin_000083_000019_gtFine_color.png',\n",
              " 'gtFine/test/berlin/berlin_000083_000019_gtFine_instanceIds.png',\n",
              " 'gtFine/test/berlin/berlin_000083_000019_gtFine_labelIds.png',\n",
              " 'gtFine/test/berlin/berlin_000083_000019_gtFine_polygons.json',\n",
              " 'gtFine/test/berlin/berlin_000084_000019_gtFine_color.png',\n",
              " 'gtFine/test/berlin/berlin_000084_000019_gtFine_instanceIds.png',\n",
              " 'gtFine/test/berlin/berlin_000084_000019_gtFine_labelIds.png',\n",
              " 'gtFine/test/berlin/berlin_000084_000019_gtFine_polygons.json',\n",
              " 'gtFine/test/berlin/berlin_000085_000019_gtFine_color.png',\n",
              " 'gtFine/test/berlin/berlin_000085_000019_gtFine_instanceIds.png',\n",
              " 'gtFine/test/berlin/berlin_000085_000019_gtFine_labelIds.png',\n",
              " 'gtFine/test/berlin/berlin_000085_000019_gtFine_polygons.json',\n",
              " 'gtFine/test/berlin/berlin_000086_000019_gtFine_color.png',\n",
              " 'gtFine/test/berlin/berlin_000086_000019_gtFine_instanceIds.png',\n",
              " 'gtFine/test/berlin/berlin_000086_000019_gtFine_labelIds.png',\n",
              " 'gtFine/test/berlin/berlin_000086_000019_gtFine_polygons.json',\n",
              " 'gtFine/test/berlin/berlin_000087_000019_gtFine_color.png',\n",
              " 'gtFine/test/berlin/berlin_000087_000019_gtFine_instanceIds.png',\n",
              " 'gtFine/test/berlin/berlin_000087_000019_gtFine_labelIds.png',\n",
              " 'gtFine/test/berlin/berlin_000087_000019_gtFine_polygons.json',\n",
              " 'gtFine/test/berlin/berlin_000088_000019_gtFine_color.png',\n",
              " 'gtFine/test/berlin/berlin_000088_000019_gtFine_instanceIds.png',\n",
              " 'gtFine/test/berlin/berlin_000088_000019_gtFine_labelIds.png',\n",
              " 'gtFine/test/berlin/berlin_000088_000019_gtFine_polygons.json',\n",
              " 'gtFine/test/berlin/berlin_000089_000019_gtFine_color.png',\n",
              " 'gtFine/test/berlin/berlin_000089_000019_gtFine_instanceIds.png',\n",
              " 'gtFine/test/berlin/berlin_000089_000019_gtFine_labelIds.png',\n",
              " 'gtFine/test/berlin/berlin_000089_000019_gtFine_polygons.json',\n",
              " 'gtFine/test/berlin/berlin_000090_000019_gtFine_color.png',\n",
              " 'gtFine/test/berlin/berlin_000090_000019_gtFine_instanceIds.png',\n",
              " 'gtFine/test/berlin/berlin_000090_000019_gtFine_labelIds.png',\n",
              " 'gtFine/test/berlin/berlin_000090_000019_gtFine_polygons.json',\n",
              " 'gtFine/test/berlin/berlin_000091_000019_gtFine_color.png',\n",
              " 'gtFine/test/berlin/berlin_000091_000019_gtFine_instanceIds.png',\n",
              " 'gtFine/test/berlin/berlin_000091_000019_gtFine_labelIds.png',\n",
              " 'gtFine/test/berlin/berlin_000091_000019_gtFine_polygons.json',\n",
              " 'gtFine/test/berlin/berlin_000092_000019_gtFine_color.png',\n",
              " 'gtFine/test/berlin/berlin_000092_000019_gtFine_instanceIds.png',\n",
              " 'gtFine/test/berlin/berlin_000092_000019_gtFine_labelIds.png',\n",
              " 'gtFine/test/berlin/berlin_000092_000019_gtFine_polygons.json',\n",
              " 'gtFine/test/berlin/berlin_000093_000019_gtFine_color.png',\n",
              " 'gtFine/test/berlin/berlin_000093_000019_gtFine_instanceIds.png',\n",
              " 'gtFine/test/berlin/berlin_000093_000019_gtFine_labelIds.png',\n",
              " 'gtFine/test/berlin/berlin_000093_000019_gtFine_polygons.json',\n",
              " 'gtFine/test/berlin/berlin_000094_000019_gtFine_color.png',\n",
              " 'gtFine/test/berlin/berlin_000094_000019_gtFine_instanceIds.png',\n",
              " 'gtFine/test/berlin/berlin_000094_000019_gtFine_labelIds.png',\n",
              " 'gtFine/test/berlin/berlin_000094_000019_gtFine_polygons.json',\n",
              " 'gtFine/test/berlin/berlin_000095_000019_gtFine_color.png',\n",
              " 'gtFine/test/berlin/berlin_000095_000019_gtFine_instanceIds.png',\n",
              " 'gtFine/test/berlin/berlin_000095_000019_gtFine_labelIds.png',\n",
              " 'gtFine/test/berlin/berlin_000095_000019_gtFine_polygons.json',\n",
              " 'gtFine/test/berlin/berlin_000096_000019_gtFine_color.png',\n",
              " 'gtFine/test/berlin/berlin_000096_000019_gtFine_instanceIds.png',\n",
              " 'gtFine/test/berlin/berlin_000096_000019_gtFine_labelIds.png',\n",
              " 'gtFine/test/berlin/berlin_000096_000019_gtFine_polygons.json',\n",
              " 'gtFine/test/berlin/berlin_000097_000019_gtFine_color.png',\n",
              " 'gtFine/test/berlin/berlin_000097_000019_gtFine_instanceIds.png',\n",
              " 'gtFine/test/berlin/berlin_000097_000019_gtFine_labelIds.png',\n",
              " 'gtFine/test/berlin/berlin_000097_000019_gtFine_polygons.json',\n",
              " 'gtFine/test/berlin/berlin_000098_000019_gtFine_color.png',\n",
              " 'gtFine/test/berlin/berlin_000098_000019_gtFine_instanceIds.png',\n",
              " 'gtFine/test/berlin/berlin_000098_000019_gtFine_labelIds.png',\n",
              " 'gtFine/test/berlin/berlin_000098_000019_gtFine_polygons.json',\n",
              " 'gtFine/test/berlin/berlin_000099_000019_gtFine_color.png',\n",
              " 'gtFine/test/berlin/berlin_000099_000019_gtFine_instanceIds.png',\n",
              " 'gtFine/test/berlin/berlin_000099_000019_gtFine_labelIds.png',\n",
              " 'gtFine/test/berlin/berlin_000099_000019_gtFine_polygons.json',\n",
              " 'gtFine/test/berlin/berlin_000100_000019_gtFine_color.png',\n",
              " 'gtFine/test/berlin/berlin_000100_000019_gtFine_instanceIds.png',\n",
              " 'gtFine/test/berlin/berlin_000100_000019_gtFine_labelIds.png',\n",
              " 'gtFine/test/berlin/berlin_000100_000019_gtFine_polygons.json',\n",
              " 'gtFine/test/berlin/berlin_000101_000019_gtFine_color.png',\n",
              " 'gtFine/test/berlin/berlin_000101_000019_gtFine_instanceIds.png',\n",
              " 'gtFine/test/berlin/berlin_000101_000019_gtFine_labelIds.png',\n",
              " 'gtFine/test/berlin/berlin_000101_000019_gtFine_polygons.json',\n",
              " 'gtFine/test/berlin/berlin_000102_000019_gtFine_color.png',\n",
              " 'gtFine/test/berlin/berlin_000102_000019_gtFine_instanceIds.png',\n",
              " 'gtFine/test/berlin/berlin_000102_000019_gtFine_labelIds.png',\n",
              " 'gtFine/test/berlin/berlin_000102_000019_gtFine_polygons.json',\n",
              " 'gtFine/test/berlin/berlin_000103_000019_gtFine_color.png',\n",
              " 'gtFine/test/berlin/berlin_000103_000019_gtFine_instanceIds.png',\n",
              " 'gtFine/test/berlin/berlin_000103_000019_gtFine_labelIds.png',\n",
              " 'gtFine/test/berlin/berlin_000103_000019_gtFine_polygons.json',\n",
              " 'gtFine/test/berlin/berlin_000104_000019_gtFine_color.png',\n",
              " 'gtFine/test/berlin/berlin_000104_000019_gtFine_instanceIds.png',\n",
              " 'gtFine/test/berlin/berlin_000104_000019_gtFine_labelIds.png',\n",
              " 'gtFine/test/berlin/berlin_000104_000019_gtFine_polygons.json',\n",
              " 'gtFine/test/berlin/berlin_000105_000019_gtFine_color.png',\n",
              " 'gtFine/test/berlin/berlin_000105_000019_gtFine_instanceIds.png',\n",
              " 'gtFine/test/berlin/berlin_000105_000019_gtFine_labelIds.png',\n",
              " 'gtFine/test/berlin/berlin_000105_000019_gtFine_polygons.json',\n",
              " 'gtFine/test/berlin/berlin_000106_000019_gtFine_color.png',\n",
              " 'gtFine/test/berlin/berlin_000106_000019_gtFine_instanceIds.png',\n",
              " 'gtFine/test/berlin/berlin_000106_000019_gtFine_labelIds.png',\n",
              " 'gtFine/test/berlin/berlin_000106_000019_gtFine_polygons.json',\n",
              " 'gtFine/test/berlin/berlin_000107_000019_gtFine_color.png',\n",
              " 'gtFine/test/berlin/berlin_000107_000019_gtFine_instanceIds.png',\n",
              " 'gtFine/test/berlin/berlin_000107_000019_gtFine_labelIds.png',\n",
              " 'gtFine/test/berlin/berlin_000107_000019_gtFine_polygons.json',\n",
              " 'gtFine/test/berlin/berlin_000108_000019_gtFine_color.png',\n",
              " 'gtFine/test/berlin/berlin_000108_000019_gtFine_instanceIds.png',\n",
              " 'gtFine/test/berlin/berlin_000108_000019_gtFine_labelIds.png',\n",
              " 'gtFine/test/berlin/berlin_000108_000019_gtFine_polygons.json',\n",
              " 'gtFine/test/berlin/berlin_000109_000019_gtFine_color.png',\n",
              " 'gtFine/test/berlin/berlin_000109_000019_gtFine_instanceIds.png',\n",
              " 'gtFine/test/berlin/berlin_000109_000019_gtFine_labelIds.png',\n",
              " 'gtFine/test/berlin/berlin_000109_000019_gtFine_polygons.json',\n",
              " 'gtFine/test/berlin/berlin_000110_000019_gtFine_color.png',\n",
              " 'gtFine/test/berlin/berlin_000110_000019_gtFine_instanceIds.png',\n",
              " 'gtFine/test/berlin/berlin_000110_000019_gtFine_labelIds.png',\n",
              " 'gtFine/test/berlin/berlin_000110_000019_gtFine_polygons.json',\n",
              " 'gtFine/test/berlin/berlin_000111_000019_gtFine_color.png',\n",
              " 'gtFine/test/berlin/berlin_000111_000019_gtFine_instanceIds.png',\n",
              " 'gtFine/test/berlin/berlin_000111_000019_gtFine_labelIds.png',\n",
              " 'gtFine/test/berlin/berlin_000111_000019_gtFine_polygons.json',\n",
              " 'gtFine/test/berlin/berlin_000112_000019_gtFine_color.png',\n",
              " 'gtFine/test/berlin/berlin_000112_000019_gtFine_instanceIds.png',\n",
              " 'gtFine/test/berlin/berlin_000112_000019_gtFine_labelIds.png',\n",
              " 'gtFine/test/berlin/berlin_000112_000019_gtFine_polygons.json',\n",
              " 'gtFine/test/berlin/berlin_000113_000019_gtFine_color.png',\n",
              " 'gtFine/test/berlin/berlin_000113_000019_gtFine_instanceIds.png',\n",
              " 'gtFine/test/berlin/berlin_000113_000019_gtFine_labelIds.png',\n",
              " 'gtFine/test/berlin/berlin_000113_000019_gtFine_polygons.json',\n",
              " 'gtFine/test/berlin/berlin_000114_000019_gtFine_color.png',\n",
              " 'gtFine/test/berlin/berlin_000114_000019_gtFine_instanceIds.png',\n",
              " 'gtFine/test/berlin/berlin_000114_000019_gtFine_labelIds.png',\n",
              " 'gtFine/test/berlin/berlin_000114_000019_gtFine_polygons.json',\n",
              " 'gtFine/test/berlin/berlin_000115_000019_gtFine_color.png',\n",
              " 'gtFine/test/berlin/berlin_000115_000019_gtFine_instanceIds.png',\n",
              " 'gtFine/test/berlin/berlin_000115_000019_gtFine_labelIds.png',\n",
              " 'gtFine/test/berlin/berlin_000115_000019_gtFine_polygons.json',\n",
              " 'gtFine/test/berlin/berlin_000116_000019_gtFine_color.png',\n",
              " 'gtFine/test/berlin/berlin_000116_000019_gtFine_instanceIds.png',\n",
              " 'gtFine/test/berlin/berlin_000116_000019_gtFine_labelIds.png',\n",
              " 'gtFine/test/berlin/berlin_000116_000019_gtFine_polygons.json',\n",
              " 'gtFine/test/berlin/berlin_000117_000019_gtFine_color.png',\n",
              " 'gtFine/test/berlin/berlin_000117_000019_gtFine_instanceIds.png',\n",
              " 'gtFine/test/berlin/berlin_000117_000019_gtFine_labelIds.png',\n",
              " 'gtFine/test/berlin/berlin_000117_000019_gtFine_polygons.json',\n",
              " 'gtFine/test/berlin/berlin_000118_000019_gtFine_color.png',\n",
              " 'gtFine/test/berlin/berlin_000118_000019_gtFine_instanceIds.png',\n",
              " 'gtFine/test/berlin/berlin_000118_000019_gtFine_labelIds.png',\n",
              " 'gtFine/test/berlin/berlin_000118_000019_gtFine_polygons.json',\n",
              " 'gtFine/test/berlin/berlin_000119_000019_gtFine_color.png',\n",
              " 'gtFine/test/berlin/berlin_000119_000019_gtFine_instanceIds.png',\n",
              " 'gtFine/test/berlin/berlin_000119_000019_gtFine_labelIds.png',\n",
              " 'gtFine/test/berlin/berlin_000119_000019_gtFine_polygons.json',\n",
              " 'gtFine/test/berlin/berlin_000120_000019_gtFine_color.png',\n",
              " 'gtFine/test/berlin/berlin_000120_000019_gtFine_instanceIds.png',\n",
              " 'gtFine/test/berlin/berlin_000120_000019_gtFine_labelIds.png',\n",
              " 'gtFine/test/berlin/berlin_000120_000019_gtFine_polygons.json',\n",
              " 'gtFine/test/berlin/berlin_000121_000019_gtFine_color.png',\n",
              " 'gtFine/test/berlin/berlin_000121_000019_gtFine_instanceIds.png',\n",
              " 'gtFine/test/berlin/berlin_000121_000019_gtFine_labelIds.png',\n",
              " 'gtFine/test/berlin/berlin_000121_000019_gtFine_polygons.json',\n",
              " 'gtFine/test/berlin/berlin_000122_000019_gtFine_color.png',\n",
              " 'gtFine/test/berlin/berlin_000122_000019_gtFine_instanceIds.png',\n",
              " 'gtFine/test/berlin/berlin_000122_000019_gtFine_labelIds.png',\n",
              " 'gtFine/test/berlin/berlin_000122_000019_gtFine_polygons.json',\n",
              " 'gtFine/test/berlin/berlin_000123_000019_gtFine_color.png',\n",
              " 'gtFine/test/berlin/berlin_000123_000019_gtFine_instanceIds.png',\n",
              " 'gtFine/test/berlin/berlin_000123_000019_gtFine_labelIds.png',\n",
              " 'gtFine/test/berlin/berlin_000123_000019_gtFine_polygons.json',\n",
              " 'gtFine/test/berlin/berlin_000124_000019_gtFine_color.png',\n",
              " 'gtFine/test/berlin/berlin_000124_000019_gtFine_instanceIds.png',\n",
              " 'gtFine/test/berlin/berlin_000124_000019_gtFine_labelIds.png',\n",
              " 'gtFine/test/berlin/berlin_000124_000019_gtFine_polygons.json',\n",
              " 'gtFine/test/berlin/berlin_000125_000019_gtFine_color.png',\n",
              " 'gtFine/test/berlin/berlin_000125_000019_gtFine_instanceIds.png',\n",
              " 'gtFine/test/berlin/berlin_000125_000019_gtFine_labelIds.png',\n",
              " 'gtFine/test/berlin/berlin_000125_000019_gtFine_polygons.json',\n",
              " 'gtFine/test/berlin/berlin_000126_000019_gtFine_color.png',\n",
              " 'gtFine/test/berlin/berlin_000126_000019_gtFine_instanceIds.png',\n",
              " 'gtFine/test/berlin/berlin_000126_000019_gtFine_labelIds.png',\n",
              " 'gtFine/test/berlin/berlin_000126_000019_gtFine_polygons.json',\n",
              " 'gtFine/test/berlin/berlin_000127_000019_gtFine_color.png',\n",
              " 'gtFine/test/berlin/berlin_000127_000019_gtFine_instanceIds.png',\n",
              " 'gtFine/test/berlin/berlin_000127_000019_gtFine_labelIds.png',\n",
              " 'gtFine/test/berlin/berlin_000127_000019_gtFine_polygons.json',\n",
              " 'gtFine/test/berlin/berlin_000128_000019_gtFine_color.png',\n",
              " 'gtFine/test/berlin/berlin_000128_000019_gtFine_instanceIds.png',\n",
              " 'gtFine/test/berlin/berlin_000128_000019_gtFine_labelIds.png',\n",
              " 'gtFine/test/berlin/berlin_000128_000019_gtFine_polygons.json',\n",
              " 'gtFine/test/berlin/berlin_000129_000019_gtFine_color.png',\n",
              " 'gtFine/test/berlin/berlin_000129_000019_gtFine_instanceIds.png',\n",
              " 'gtFine/test/berlin/berlin_000129_000019_gtFine_labelIds.png',\n",
              " 'gtFine/test/berlin/berlin_000129_000019_gtFine_polygons.json',\n",
              " 'gtFine/test/berlin/berlin_000130_000019_gtFine_color.png',\n",
              " 'gtFine/test/berlin/berlin_000130_000019_gtFine_instanceIds.png',\n",
              " 'gtFine/test/berlin/berlin_000130_000019_gtFine_labelIds.png',\n",
              " 'gtFine/test/berlin/berlin_000130_000019_gtFine_polygons.json',\n",
              " 'gtFine/test/berlin/berlin_000131_000019_gtFine_color.png',\n",
              " 'gtFine/test/berlin/berlin_000131_000019_gtFine_instanceIds.png',\n",
              " 'gtFine/test/berlin/berlin_000131_000019_gtFine_labelIds.png',\n",
              " 'gtFine/test/berlin/berlin_000131_000019_gtFine_polygons.json',\n",
              " 'gtFine/test/berlin/berlin_000132_000019_gtFine_color.png',\n",
              " 'gtFine/test/berlin/berlin_000132_000019_gtFine_instanceIds.png',\n",
              " 'gtFine/test/berlin/berlin_000132_000019_gtFine_labelIds.png',\n",
              " 'gtFine/test/berlin/berlin_000132_000019_gtFine_polygons.json',\n",
              " 'gtFine/test/berlin/berlin_000133_000019_gtFine_color.png',\n",
              " 'gtFine/test/berlin/berlin_000133_000019_gtFine_instanceIds.png',\n",
              " 'gtFine/test/berlin/berlin_000133_000019_gtFine_labelIds.png',\n",
              " 'gtFine/test/berlin/berlin_000133_000019_gtFine_polygons.json',\n",
              " 'gtFine/test/berlin/berlin_000134_000019_gtFine_color.png',\n",
              " 'gtFine/test/berlin/berlin_000134_000019_gtFine_instanceIds.png',\n",
              " 'gtFine/test/berlin/berlin_000134_000019_gtFine_labelIds.png',\n",
              " 'gtFine/test/berlin/berlin_000134_000019_gtFine_polygons.json',\n",
              " 'gtFine/test/berlin/berlin_000135_000019_gtFine_color.png',\n",
              " 'gtFine/test/berlin/berlin_000135_000019_gtFine_instanceIds.png',\n",
              " 'gtFine/test/berlin/berlin_000135_000019_gtFine_labelIds.png',\n",
              " 'gtFine/test/berlin/berlin_000135_000019_gtFine_polygons.json',\n",
              " 'gtFine/test/berlin/berlin_000136_000019_gtFine_color.png',\n",
              " 'gtFine/test/berlin/berlin_000136_000019_gtFine_instanceIds.png',\n",
              " 'gtFine/test/berlin/berlin_000136_000019_gtFine_labelIds.png',\n",
              " 'gtFine/test/berlin/berlin_000136_000019_gtFine_polygons.json',\n",
              " 'gtFine/test/berlin/berlin_000137_000019_gtFine_color.png',\n",
              " 'gtFine/test/berlin/berlin_000137_000019_gtFine_instanceIds.png',\n",
              " 'gtFine/test/berlin/berlin_000137_000019_gtFine_labelIds.png',\n",
              " 'gtFine/test/berlin/berlin_000137_000019_gtFine_polygons.json',\n",
              " 'gtFine/test/berlin/berlin_000138_000019_gtFine_color.png',\n",
              " 'gtFine/test/berlin/berlin_000138_000019_gtFine_instanceIds.png',\n",
              " 'gtFine/test/berlin/berlin_000138_000019_gtFine_labelIds.png',\n",
              " 'gtFine/test/berlin/berlin_000138_000019_gtFine_polygons.json',\n",
              " 'gtFine/test/berlin/berlin_000139_000019_gtFine_color.png',\n",
              " 'gtFine/test/berlin/berlin_000139_000019_gtFine_instanceIds.png',\n",
              " 'gtFine/test/berlin/berlin_000139_000019_gtFine_labelIds.png',\n",
              " 'gtFine/test/berlin/berlin_000139_000019_gtFine_polygons.json',\n",
              " 'gtFine/test/berlin/berlin_000140_000019_gtFine_color.png',\n",
              " 'gtFine/test/berlin/berlin_000140_000019_gtFine_instanceIds.png',\n",
              " 'gtFine/test/berlin/berlin_000140_000019_gtFine_labelIds.png',\n",
              " 'gtFine/test/berlin/berlin_000140_000019_gtFine_polygons.json',\n",
              " 'gtFine/test/berlin/berlin_000141_000019_gtFine_color.png',\n",
              " 'gtFine/test/berlin/berlin_000141_000019_gtFine_instanceIds.png',\n",
              " 'gtFine/test/berlin/berlin_000141_000019_gtFine_labelIds.png',\n",
              " 'gtFine/test/berlin/berlin_000141_000019_gtFine_polygons.json',\n",
              " 'gtFine/test/berlin/berlin_000142_000019_gtFine_color.png',\n",
              " 'gtFine/test/berlin/berlin_000142_000019_gtFine_instanceIds.png',\n",
              " 'gtFine/test/berlin/berlin_000142_000019_gtFine_labelIds.png',\n",
              " 'gtFine/test/berlin/berlin_000142_000019_gtFine_polygons.json',\n",
              " 'gtFine/test/berlin/berlin_000143_000019_gtFine_color.png',\n",
              " 'gtFine/test/berlin/berlin_000143_000019_gtFine_instanceIds.png',\n",
              " 'gtFine/test/berlin/berlin_000143_000019_gtFine_labelIds.png',\n",
              " 'gtFine/test/berlin/berlin_000143_000019_gtFine_polygons.json',\n",
              " 'gtFine/test/berlin/berlin_000144_000019_gtFine_color.png',\n",
              " 'gtFine/test/berlin/berlin_000144_000019_gtFine_instanceIds.png',\n",
              " 'gtFine/test/berlin/berlin_000144_000019_gtFine_labelIds.png',\n",
              " 'gtFine/test/berlin/berlin_000144_000019_gtFine_polygons.json',\n",
              " 'gtFine/test/berlin/berlin_000145_000019_gtFine_color.png',\n",
              " 'gtFine/test/berlin/berlin_000145_000019_gtFine_instanceIds.png',\n",
              " 'gtFine/test/berlin/berlin_000145_000019_gtFine_labelIds.png',\n",
              " 'gtFine/test/berlin/berlin_000145_000019_gtFine_polygons.json',\n",
              " 'gtFine/test/berlin/berlin_000146_000019_gtFine_color.png',\n",
              " 'gtFine/test/berlin/berlin_000146_000019_gtFine_instanceIds.png',\n",
              " 'gtFine/test/berlin/berlin_000146_000019_gtFine_labelIds.png',\n",
              " 'gtFine/test/berlin/berlin_000146_000019_gtFine_polygons.json',\n",
              " 'gtFine/test/berlin/berlin_000147_000019_gtFine_color.png',\n",
              " 'gtFine/test/berlin/berlin_000147_000019_gtFine_instanceIds.png',\n",
              " 'gtFine/test/berlin/berlin_000147_000019_gtFine_labelIds.png',\n",
              " 'gtFine/test/berlin/berlin_000147_000019_gtFine_polygons.json',\n",
              " 'gtFine/test/berlin/berlin_000148_000019_gtFine_color.png',\n",
              " 'gtFine/test/berlin/berlin_000148_000019_gtFine_instanceIds.png',\n",
              " 'gtFine/test/berlin/berlin_000148_000019_gtFine_labelIds.png',\n",
              " 'gtFine/test/berlin/berlin_000148_000019_gtFine_polygons.json',\n",
              " 'gtFine/test/berlin/berlin_000149_000019_gtFine_color.png',\n",
              " 'gtFine/test/berlin/berlin_000149_000019_gtFine_instanceIds.png',\n",
              " 'gtFine/test/berlin/berlin_000149_000019_gtFine_labelIds.png',\n",
              " 'gtFine/test/berlin/berlin_000149_000019_gtFine_polygons.json',\n",
              " 'gtFine/test/berlin/berlin_000150_000019_gtFine_color.png',\n",
              " 'gtFine/test/berlin/berlin_000150_000019_gtFine_instanceIds.png',\n",
              " 'gtFine/test/berlin/berlin_000150_000019_gtFine_labelIds.png',\n",
              " 'gtFine/test/berlin/berlin_000150_000019_gtFine_polygons.json',\n",
              " 'gtFine/test/berlin/berlin_000151_000019_gtFine_color.png',\n",
              " 'gtFine/test/berlin/berlin_000151_000019_gtFine_instanceIds.png',\n",
              " 'gtFine/test/berlin/berlin_000151_000019_gtFine_labelIds.png',\n",
              " 'gtFine/test/berlin/berlin_000151_000019_gtFine_polygons.json',\n",
              " 'gtFine/test/berlin/berlin_000152_000019_gtFine_color.png',\n",
              " 'gtFine/test/berlin/berlin_000152_000019_gtFine_instanceIds.png',\n",
              " 'gtFine/test/berlin/berlin_000152_000019_gtFine_labelIds.png',\n",
              " 'gtFine/test/berlin/berlin_000152_000019_gtFine_polygons.json',\n",
              " 'gtFine/test/berlin/berlin_000153_000019_gtFine_color.png',\n",
              " 'gtFine/test/berlin/berlin_000153_000019_gtFine_instanceIds.png',\n",
              " 'gtFine/test/berlin/berlin_000153_000019_gtFine_labelIds.png',\n",
              " 'gtFine/test/berlin/berlin_000153_000019_gtFine_polygons.json',\n",
              " 'gtFine/test/berlin/berlin_000154_000019_gtFine_color.png',\n",
              " 'gtFine/test/berlin/berlin_000154_000019_gtFine_instanceIds.png',\n",
              " 'gtFine/test/berlin/berlin_000154_000019_gtFine_labelIds.png',\n",
              " 'gtFine/test/berlin/berlin_000154_000019_gtFine_polygons.json',\n",
              " 'gtFine/test/berlin/berlin_000155_000019_gtFine_color.png',\n",
              " 'gtFine/test/berlin/berlin_000155_000019_gtFine_instanceIds.png',\n",
              " 'gtFine/test/berlin/berlin_000155_000019_gtFine_labelIds.png',\n",
              " 'gtFine/test/berlin/berlin_000155_000019_gtFine_polygons.json',\n",
              " 'gtFine/test/berlin/berlin_000156_000019_gtFine_color.png',\n",
              " 'gtFine/test/berlin/berlin_000156_000019_gtFine_instanceIds.png',\n",
              " 'gtFine/test/berlin/berlin_000156_000019_gtFine_labelIds.png',\n",
              " 'gtFine/test/berlin/berlin_000156_000019_gtFine_polygons.json',\n",
              " 'gtFine/test/berlin/berlin_000157_000019_gtFine_color.png',\n",
              " 'gtFine/test/berlin/berlin_000157_000019_gtFine_instanceIds.png',\n",
              " 'gtFine/test/berlin/berlin_000157_000019_gtFine_labelIds.png',\n",
              " 'gtFine/test/berlin/berlin_000157_000019_gtFine_polygons.json',\n",
              " 'gtFine/test/berlin/berlin_000158_000019_gtFine_color.png',\n",
              " 'gtFine/test/berlin/berlin_000158_000019_gtFine_instanceIds.png',\n",
              " 'gtFine/test/berlin/berlin_000158_000019_gtFine_labelIds.png',\n",
              " 'gtFine/test/berlin/berlin_000158_000019_gtFine_polygons.json',\n",
              " 'gtFine/test/berlin/berlin_000159_000019_gtFine_color.png',\n",
              " 'gtFine/test/berlin/berlin_000159_000019_gtFine_instanceIds.png',\n",
              " 'gtFine/test/berlin/berlin_000159_000019_gtFine_labelIds.png',\n",
              " 'gtFine/test/berlin/berlin_000159_000019_gtFine_polygons.json',\n",
              " 'gtFine/test/berlin/berlin_000160_000019_gtFine_color.png',\n",
              " 'gtFine/test/berlin/berlin_000160_000019_gtFine_instanceIds.png',\n",
              " 'gtFine/test/berlin/berlin_000160_000019_gtFine_labelIds.png',\n",
              " 'gtFine/test/berlin/berlin_000160_000019_gtFine_polygons.json',\n",
              " 'gtFine/test/berlin/berlin_000161_000019_gtFine_color.png',\n",
              " 'gtFine/test/berlin/berlin_000161_000019_gtFine_instanceIds.png',\n",
              " 'gtFine/test/berlin/berlin_000161_000019_gtFine_labelIds.png',\n",
              " 'gtFine/test/berlin/berlin_000161_000019_gtFine_polygons.json',\n",
              " 'gtFine/test/berlin/berlin_000162_000019_gtFine_color.png',\n",
              " 'gtFine/test/berlin/berlin_000162_000019_gtFine_instanceIds.png',\n",
              " 'gtFine/test/berlin/berlin_000162_000019_gtFine_labelIds.png',\n",
              " 'gtFine/test/berlin/berlin_000162_000019_gtFine_polygons.json',\n",
              " 'gtFine/test/berlin/berlin_000163_000019_gtFine_color.png',\n",
              " 'gtFine/test/berlin/berlin_000163_000019_gtFine_instanceIds.png',\n",
              " 'gtFine/test/berlin/berlin_000163_000019_gtFine_labelIds.png',\n",
              " 'gtFine/test/berlin/berlin_000163_000019_gtFine_polygons.json',\n",
              " 'gtFine/test/berlin/berlin_000164_000019_gtFine_color.png',\n",
              " 'gtFine/test/berlin/berlin_000164_000019_gtFine_instanceIds.png',\n",
              " 'gtFine/test/berlin/berlin_000164_000019_gtFine_labelIds.png',\n",
              " 'gtFine/test/berlin/berlin_000164_000019_gtFine_polygons.json',\n",
              " 'gtFine/test/berlin/berlin_000165_000019_gtFine_color.png',\n",
              " 'gtFine/test/berlin/berlin_000165_000019_gtFine_instanceIds.png',\n",
              " 'gtFine/test/berlin/berlin_000165_000019_gtFine_labelIds.png',\n",
              " 'gtFine/test/berlin/berlin_000165_000019_gtFine_polygons.json',\n",
              " 'gtFine/test/berlin/berlin_000166_000019_gtFine_color.png',\n",
              " 'gtFine/test/berlin/berlin_000166_000019_gtFine_instanceIds.png',\n",
              " 'gtFine/test/berlin/berlin_000166_000019_gtFine_labelIds.png',\n",
              " 'gtFine/test/berlin/berlin_000166_000019_gtFine_polygons.json',\n",
              " 'gtFine/test/berlin/berlin_000167_000019_gtFine_color.png',\n",
              " 'gtFine/test/berlin/berlin_000167_000019_gtFine_instanceIds.png',\n",
              " 'gtFine/test/berlin/berlin_000167_000019_gtFine_labelIds.png',\n",
              " 'gtFine/test/berlin/berlin_000167_000019_gtFine_polygons.json',\n",
              " 'gtFine/test/berlin/berlin_000168_000019_gtFine_color.png',\n",
              " 'gtFine/test/berlin/berlin_000168_000019_gtFine_instanceIds.png',\n",
              " 'gtFine/test/berlin/berlin_000168_000019_gtFine_labelIds.png',\n",
              " 'gtFine/test/berlin/berlin_000168_000019_gtFine_polygons.json',\n",
              " 'gtFine/test/berlin/berlin_000169_000019_gtFine_color.png',\n",
              " 'gtFine/test/berlin/berlin_000169_000019_gtFine_instanceIds.png',\n",
              " 'gtFine/test/berlin/berlin_000169_000019_gtFine_labelIds.png',\n",
              " 'gtFine/test/berlin/berlin_000169_000019_gtFine_polygons.json',\n",
              " 'gtFine/test/berlin/berlin_000170_000019_gtFine_color.png',\n",
              " 'gtFine/test/berlin/berlin_000170_000019_gtFine_instanceIds.png',\n",
              " 'gtFine/test/berlin/berlin_000170_000019_gtFine_labelIds.png',\n",
              " 'gtFine/test/berlin/berlin_000170_000019_gtFine_polygons.json',\n",
              " 'gtFine/test/berlin/berlin_000171_000019_gtFine_color.png',\n",
              " 'gtFine/test/berlin/berlin_000171_000019_gtFine_instanceIds.png',\n",
              " 'gtFine/test/berlin/berlin_000171_000019_gtFine_labelIds.png',\n",
              " 'gtFine/test/berlin/berlin_000171_000019_gtFine_polygons.json',\n",
              " 'gtFine/test/berlin/berlin_000172_000019_gtFine_color.png',\n",
              " 'gtFine/test/berlin/berlin_000172_000019_gtFine_instanceIds.png',\n",
              " 'gtFine/test/berlin/berlin_000172_000019_gtFine_labelIds.png',\n",
              " 'gtFine/test/berlin/berlin_000172_000019_gtFine_polygons.json',\n",
              " 'gtFine/test/berlin/berlin_000173_000019_gtFine_color.png',\n",
              " 'gtFine/test/berlin/berlin_000173_000019_gtFine_instanceIds.png',\n",
              " 'gtFine/test/berlin/berlin_000173_000019_gtFine_labelIds.png',\n",
              " 'gtFine/test/berlin/berlin_000173_000019_gtFine_polygons.json',\n",
              " 'gtFine/test/berlin/berlin_000174_000019_gtFine_color.png',\n",
              " 'gtFine/test/berlin/berlin_000174_000019_gtFine_instanceIds.png',\n",
              " 'gtFine/test/berlin/berlin_000174_000019_gtFine_labelIds.png',\n",
              " 'gtFine/test/berlin/berlin_000174_000019_gtFine_polygons.json',\n",
              " 'gtFine/test/berlin/berlin_000175_000019_gtFine_color.png',\n",
              " 'gtFine/test/berlin/berlin_000175_000019_gtFine_instanceIds.png',\n",
              " 'gtFine/test/berlin/berlin_000175_000019_gtFine_labelIds.png',\n",
              " 'gtFine/test/berlin/berlin_000175_000019_gtFine_polygons.json',\n",
              " 'gtFine/test/berlin/berlin_000176_000019_gtFine_color.png',\n",
              " 'gtFine/test/berlin/berlin_000176_000019_gtFine_instanceIds.png',\n",
              " 'gtFine/test/berlin/berlin_000176_000019_gtFine_labelIds.png',\n",
              " 'gtFine/test/berlin/berlin_000176_000019_gtFine_polygons.json',\n",
              " 'gtFine/test/berlin/berlin_000177_000019_gtFine_color.png',\n",
              " 'gtFine/test/berlin/berlin_000177_000019_gtFine_instanceIds.png',\n",
              " 'gtFine/test/berlin/berlin_000177_000019_gtFine_labelIds.png',\n",
              " 'gtFine/test/berlin/berlin_000177_000019_gtFine_polygons.json',\n",
              " 'gtFine/test/berlin/berlin_000178_000019_gtFine_color.png',\n",
              " 'gtFine/test/berlin/berlin_000178_000019_gtFine_instanceIds.png',\n",
              " 'gtFine/test/berlin/berlin_000178_000019_gtFine_labelIds.png',\n",
              " 'gtFine/test/berlin/berlin_000178_000019_gtFine_polygons.json',\n",
              " 'gtFine/test/berlin/berlin_000179_000019_gtFine_color.png',\n",
              " 'gtFine/test/berlin/berlin_000179_000019_gtFine_instanceIds.png',\n",
              " 'gtFine/test/berlin/berlin_000179_000019_gtFine_labelIds.png',\n",
              " 'gtFine/test/berlin/berlin_000179_000019_gtFine_polygons.json',\n",
              " 'gtFine/test/berlin/berlin_000180_000019_gtFine_color.png',\n",
              " 'gtFine/test/berlin/berlin_000180_000019_gtFine_instanceIds.png',\n",
              " 'gtFine/test/berlin/berlin_000180_000019_gtFine_labelIds.png',\n",
              " 'gtFine/test/berlin/berlin_000180_000019_gtFine_polygons.json',\n",
              " 'gtFine/test/berlin/berlin_000181_000019_gtFine_color.png',\n",
              " 'gtFine/test/berlin/berlin_000181_000019_gtFine_instanceIds.png',\n",
              " 'gtFine/test/berlin/berlin_000181_000019_gtFine_labelIds.png',\n",
              " 'gtFine/test/berlin/berlin_000181_000019_gtFine_polygons.json',\n",
              " 'gtFine/test/berlin/berlin_000182_000019_gtFine_color.png',\n",
              " 'gtFine/test/berlin/berlin_000182_000019_gtFine_instanceIds.png',\n",
              " 'gtFine/test/berlin/berlin_000182_000019_gtFine_labelIds.png',\n",
              " 'gtFine/test/berlin/berlin_000182_000019_gtFine_polygons.json',\n",
              " 'gtFine/test/berlin/berlin_000183_000019_gtFine_color.png',\n",
              " 'gtFine/test/berlin/berlin_000183_000019_gtFine_instanceIds.png',\n",
              " 'gtFine/test/berlin/berlin_000183_000019_gtFine_labelIds.png',\n",
              " 'gtFine/test/berlin/berlin_000183_000019_gtFine_polygons.json',\n",
              " 'gtFine/test/berlin/berlin_000184_000019_gtFine_color.png',\n",
              " 'gtFine/test/berlin/berlin_000184_000019_gtFine_instanceIds.png',\n",
              " 'gtFine/test/berlin/berlin_000184_000019_gtFine_labelIds.png',\n",
              " 'gtFine/test/berlin/berlin_000184_000019_gtFine_polygons.json',\n",
              " 'gtFine/test/berlin/berlin_000185_000019_gtFine_color.png',\n",
              " 'gtFine/test/berlin/berlin_000185_000019_gtFine_instanceIds.png',\n",
              " 'gtFine/test/berlin/berlin_000185_000019_gtFine_labelIds.png',\n",
              " 'gtFine/test/berlin/berlin_000185_000019_gtFine_polygons.json',\n",
              " 'gtFine/test/berlin/berlin_000186_000019_gtFine_color.png',\n",
              " 'gtFine/test/berlin/berlin_000186_000019_gtFine_instanceIds.png',\n",
              " 'gtFine/test/berlin/berlin_000186_000019_gtFine_labelIds.png',\n",
              " 'gtFine/test/berlin/berlin_000186_000019_gtFine_polygons.json',\n",
              " 'gtFine/test/berlin/berlin_000187_000019_gtFine_color.png',\n",
              " 'gtFine/test/berlin/berlin_000187_000019_gtFine_instanceIds.png',\n",
              " 'gtFine/test/berlin/berlin_000187_000019_gtFine_labelIds.png',\n",
              " 'gtFine/test/berlin/berlin_000187_000019_gtFine_polygons.json',\n",
              " 'gtFine/test/berlin/berlin_000188_000019_gtFine_color.png',\n",
              " 'gtFine/test/berlin/berlin_000188_000019_gtFine_instanceIds.png',\n",
              " 'gtFine/test/berlin/berlin_000188_000019_gtFine_labelIds.png',\n",
              " 'gtFine/test/berlin/berlin_000188_000019_gtFine_polygons.json',\n",
              " 'gtFine/test/berlin/berlin_000189_000019_gtFine_color.png',\n",
              " 'gtFine/test/berlin/berlin_000189_000019_gtFine_instanceIds.png',\n",
              " 'gtFine/test/berlin/berlin_000189_000019_gtFine_labelIds.png',\n",
              " 'gtFine/test/berlin/berlin_000189_000019_gtFine_polygons.json',\n",
              " 'gtFine/test/berlin/berlin_000190_000019_gtFine_color.png',\n",
              " 'gtFine/test/berlin/berlin_000190_000019_gtFine_instanceIds.png',\n",
              " 'gtFine/test/berlin/berlin_000190_000019_gtFine_labelIds.png',\n",
              " 'gtFine/test/berlin/berlin_000190_000019_gtFine_polygons.json',\n",
              " 'gtFine/test/berlin/berlin_000191_000019_gtFine_color.png',\n",
              " 'gtFine/test/berlin/berlin_000191_000019_gtFine_instanceIds.png',\n",
              " 'gtFine/test/berlin/berlin_000191_000019_gtFine_labelIds.png',\n",
              " 'gtFine/test/berlin/berlin_000191_000019_gtFine_polygons.json',\n",
              " 'gtFine/test/berlin/berlin_000192_000019_gtFine_color.png',\n",
              " 'gtFine/test/berlin/berlin_000192_000019_gtFine_instanceIds.png',\n",
              " 'gtFine/test/berlin/berlin_000192_000019_gtFine_labelIds.png',\n",
              " 'gtFine/test/berlin/berlin_000192_000019_gtFine_polygons.json',\n",
              " 'gtFine/test/berlin/berlin_000193_000019_gtFine_color.png',\n",
              " 'gtFine/test/berlin/berlin_000193_000019_gtFine_instanceIds.png',\n",
              " 'gtFine/test/berlin/berlin_000193_000019_gtFine_labelIds.png',\n",
              " 'gtFine/test/berlin/berlin_000193_000019_gtFine_polygons.json',\n",
              " 'gtFine/test/berlin/berlin_000194_000019_gtFine_color.png',\n",
              " 'gtFine/test/berlin/berlin_000194_000019_gtFine_instanceIds.png',\n",
              " 'gtFine/test/berlin/berlin_000194_000019_gtFine_labelIds.png',\n",
              " 'gtFine/test/berlin/berlin_000194_000019_gtFine_polygons.json',\n",
              " 'gtFine/test/berlin/berlin_000195_000019_gtFine_color.png',\n",
              " 'gtFine/test/berlin/berlin_000195_000019_gtFine_instanceIds.png',\n",
              " 'gtFine/test/berlin/berlin_000195_000019_gtFine_labelIds.png',\n",
              " 'gtFine/test/berlin/berlin_000195_000019_gtFine_polygons.json',\n",
              " 'gtFine/test/berlin/berlin_000196_000019_gtFine_color.png',\n",
              " 'gtFine/test/berlin/berlin_000196_000019_gtFine_instanceIds.png',\n",
              " 'gtFine/test/berlin/berlin_000196_000019_gtFine_labelIds.png',\n",
              " 'gtFine/test/berlin/berlin_000196_000019_gtFine_polygons.json',\n",
              " 'gtFine/test/berlin/berlin_000197_000019_gtFine_color.png',\n",
              " 'gtFine/test/berlin/berlin_000197_000019_gtFine_instanceIds.png',\n",
              " 'gtFine/test/berlin/berlin_000197_000019_gtFine_labelIds.png',\n",
              " 'gtFine/test/berlin/berlin_000197_000019_gtFine_polygons.json',\n",
              " 'gtFine/test/berlin/berlin_000198_000019_gtFine_color.png',\n",
              " 'gtFine/test/berlin/berlin_000198_000019_gtFine_instanceIds.png',\n",
              " 'gtFine/test/berlin/berlin_000198_000019_gtFine_labelIds.png',\n",
              " 'gtFine/test/berlin/berlin_000198_000019_gtFine_polygons.json',\n",
              " 'gtFine/test/berlin/berlin_000199_000019_gtFine_color.png',\n",
              " 'gtFine/test/berlin/berlin_000199_000019_gtFine_instanceIds.png',\n",
              " 'gtFine/test/berlin/berlin_000199_000019_gtFine_labelIds.png',\n",
              " 'gtFine/test/berlin/berlin_000199_000019_gtFine_polygons.json',\n",
              " 'gtFine/test/berlin/berlin_000200_000019_gtFine_color.png',\n",
              " 'gtFine/test/berlin/berlin_000200_000019_gtFine_instanceIds.png',\n",
              " 'gtFine/test/berlin/berlin_000200_000019_gtFine_labelIds.png',\n",
              " 'gtFine/test/berlin/berlin_000200_000019_gtFine_polygons.json',\n",
              " 'gtFine/test/berlin/berlin_000201_000019_gtFine_color.png',\n",
              " 'gtFine/test/berlin/berlin_000201_000019_gtFine_instanceIds.png',\n",
              " 'gtFine/test/berlin/berlin_000201_000019_gtFine_labelIds.png',\n",
              " 'gtFine/test/berlin/berlin_000201_000019_gtFine_polygons.json',\n",
              " 'gtFine/test/berlin/berlin_000202_000019_gtFine_color.png',\n",
              " 'gtFine/test/berlin/berlin_000202_000019_gtFine_instanceIds.png',\n",
              " 'gtFine/test/berlin/berlin_000202_000019_gtFine_labelIds.png',\n",
              " 'gtFine/test/berlin/berlin_000202_000019_gtFine_polygons.json',\n",
              " 'gtFine/test/berlin/berlin_000203_000019_gtFine_color.png',\n",
              " 'gtFine/test/berlin/berlin_000203_000019_gtFine_instanceIds.png',\n",
              " 'gtFine/test/berlin/berlin_000203_000019_gtFine_labelIds.png',\n",
              " 'gtFine/test/berlin/berlin_000203_000019_gtFine_polygons.json',\n",
              " 'gtFine/test/berlin/berlin_000204_000019_gtFine_color.png',\n",
              " 'gtFine/test/berlin/berlin_000204_000019_gtFine_instanceIds.png',\n",
              " 'gtFine/test/berlin/berlin_000204_000019_gtFine_labelIds.png',\n",
              " 'gtFine/test/berlin/berlin_000204_000019_gtFine_polygons.json',\n",
              " 'gtFine/test/berlin/berlin_000205_000019_gtFine_color.png',\n",
              " 'gtFine/test/berlin/berlin_000205_000019_gtFine_instanceIds.png',\n",
              " 'gtFine/test/berlin/berlin_000205_000019_gtFine_labelIds.png',\n",
              " 'gtFine/test/berlin/berlin_000205_000019_gtFine_polygons.json',\n",
              " 'gtFine/test/berlin/berlin_000206_000019_gtFine_color.png',\n",
              " 'gtFine/test/berlin/berlin_000206_000019_gtFine_instanceIds.png',\n",
              " 'gtFine/test/berlin/berlin_000206_000019_gtFine_labelIds.png',\n",
              " 'gtFine/test/berlin/berlin_000206_000019_gtFine_polygons.json',\n",
              " 'gtFine/test/berlin/berlin_000207_000019_gtFine_color.png',\n",
              " 'gtFine/test/berlin/berlin_000207_000019_gtFine_instanceIds.png',\n",
              " 'gtFine/test/berlin/berlin_000207_000019_gtFine_labelIds.png',\n",
              " 'gtFine/test/berlin/berlin_000207_000019_gtFine_polygons.json',\n",
              " 'gtFine/test/berlin/berlin_000208_000019_gtFine_color.png',\n",
              " 'gtFine/test/berlin/berlin_000208_000019_gtFine_instanceIds.png',\n",
              " 'gtFine/test/berlin/berlin_000208_000019_gtFine_labelIds.png',\n",
              " 'gtFine/test/berlin/berlin_000208_000019_gtFine_polygons.json',\n",
              " 'gtFine/test/berlin/berlin_000209_000019_gtFine_color.png',\n",
              " 'gtFine/test/berlin/berlin_000209_000019_gtFine_instanceIds.png',\n",
              " 'gtFine/test/berlin/berlin_000209_000019_gtFine_labelIds.png',\n",
              " 'gtFine/test/berlin/berlin_000209_000019_gtFine_polygons.json',\n",
              " 'gtFine/test/berlin/berlin_000210_000019_gtFine_color.png',\n",
              " 'gtFine/test/berlin/berlin_000210_000019_gtFine_instanceIds.png',\n",
              " 'gtFine/test/berlin/berlin_000210_000019_gtFine_labelIds.png',\n",
              " 'gtFine/test/berlin/berlin_000210_000019_gtFine_polygons.json',\n",
              " 'gtFine/test/berlin/berlin_000211_000019_gtFine_color.png',\n",
              " 'gtFine/test/berlin/berlin_000211_000019_gtFine_instanceIds.png',\n",
              " 'gtFine/test/berlin/berlin_000211_000019_gtFine_labelIds.png',\n",
              " 'gtFine/test/berlin/berlin_000211_000019_gtFine_polygons.json',\n",
              " 'gtFine/test/berlin/berlin_000212_000019_gtFine_color.png',\n",
              " 'gtFine/test/berlin/berlin_000212_000019_gtFine_instanceIds.png',\n",
              " 'gtFine/test/berlin/berlin_000212_000019_gtFine_labelIds.png',\n",
              " 'gtFine/test/berlin/berlin_000212_000019_gtFine_polygons.json',\n",
              " 'gtFine/test/berlin/berlin_000213_000019_gtFine_color.png',\n",
              " 'gtFine/test/berlin/berlin_000213_000019_gtFine_instanceIds.png',\n",
              " 'gtFine/test/berlin/berlin_000213_000019_gtFine_labelIds.png',\n",
              " 'gtFine/test/berlin/berlin_000213_000019_gtFine_polygons.json',\n",
              " 'gtFine/test/berlin/berlin_000214_000019_gtFine_color.png',\n",
              " 'gtFine/test/berlin/berlin_000214_000019_gtFine_instanceIds.png',\n",
              " 'gtFine/test/berlin/berlin_000214_000019_gtFine_labelIds.png',\n",
              " 'gtFine/test/berlin/berlin_000214_000019_gtFine_polygons.json',\n",
              " 'gtFine/test/berlin/berlin_000215_000019_gtFine_color.png',\n",
              " 'gtFine/test/berlin/berlin_000215_000019_gtFine_instanceIds.png',\n",
              " 'gtFine/test/berlin/berlin_000215_000019_gtFine_labelIds.png',\n",
              " 'gtFine/test/berlin/berlin_000215_000019_gtFine_polygons.json',\n",
              " 'gtFine/test/berlin/berlin_000216_000019_gtFine_color.png',\n",
              " 'gtFine/test/berlin/berlin_000216_000019_gtFine_instanceIds.png',\n",
              " 'gtFine/test/berlin/berlin_000216_000019_gtFine_labelIds.png',\n",
              " 'gtFine/test/berlin/berlin_000216_000019_gtFine_polygons.json',\n",
              " 'gtFine/test/berlin/berlin_000217_000019_gtFine_color.png',\n",
              " 'gtFine/test/berlin/berlin_000217_000019_gtFine_instanceIds.png',\n",
              " 'gtFine/test/berlin/berlin_000217_000019_gtFine_labelIds.png',\n",
              " 'gtFine/test/berlin/berlin_000217_000019_gtFine_polygons.json',\n",
              " 'gtFine/test/berlin/berlin_000218_000019_gtFine_color.png',\n",
              " 'gtFine/test/berlin/berlin_000218_000019_gtFine_instanceIds.png',\n",
              " 'gtFine/test/berlin/berlin_000218_000019_gtFine_labelIds.png',\n",
              " 'gtFine/test/berlin/berlin_000218_000019_gtFine_polygons.json',\n",
              " 'gtFine/test/berlin/berlin_000219_000019_gtFine_color.png',\n",
              " 'gtFine/test/berlin/berlin_000219_000019_gtFine_instanceIds.png',\n",
              " 'gtFine/test/berlin/berlin_000219_000019_gtFine_labelIds.png',\n",
              " 'gtFine/test/berlin/berlin_000219_000019_gtFine_polygons.json',\n",
              " 'gtFine/test/berlin/berlin_000220_000019_gtFine_color.png',\n",
              " 'gtFine/test/berlin/berlin_000220_000019_gtFine_instanceIds.png',\n",
              " 'gtFine/test/berlin/berlin_000220_000019_gtFine_labelIds.png',\n",
              " 'gtFine/test/berlin/berlin_000220_000019_gtFine_polygons.json',\n",
              " 'gtFine/test/berlin/berlin_000221_000019_gtFine_color.png',\n",
              " 'gtFine/test/berlin/berlin_000221_000019_gtFine_instanceIds.png',\n",
              " 'gtFine/test/berlin/berlin_000221_000019_gtFine_labelIds.png',\n",
              " 'gtFine/test/berlin/berlin_000221_000019_gtFine_polygons.json',\n",
              " 'gtFine/test/berlin/berlin_000222_000019_gtFine_color.png',\n",
              " 'gtFine/test/berlin/berlin_000222_000019_gtFine_instanceIds.png',\n",
              " 'gtFine/test/berlin/berlin_000222_000019_gtFine_labelIds.png',\n",
              " 'gtFine/test/berlin/berlin_000222_000019_gtFine_polygons.json',\n",
              " 'gtFine/test/berlin/berlin_000223_000019_gtFine_color.png',\n",
              " 'gtFine/test/berlin/berlin_000223_000019_gtFine_instanceIds.png',\n",
              " 'gtFine/test/berlin/berlin_000223_000019_gtFine_labelIds.png',\n",
              " 'gtFine/test/berlin/berlin_000223_000019_gtFine_polygons.json',\n",
              " 'gtFine/test/berlin/berlin_000224_000019_gtFine_color.png',\n",
              " 'gtFine/test/berlin/berlin_000224_000019_gtFine_instanceIds.png',\n",
              " 'gtFine/test/berlin/berlin_000224_000019_gtFine_labelIds.png',\n",
              " 'gtFine/test/berlin/berlin_000224_000019_gtFine_polygons.json',\n",
              " 'gtFine/test/berlin/berlin_000225_000019_gtFine_color.png',\n",
              " 'gtFine/test/berlin/berlin_000225_000019_gtFine_instanceIds.png',\n",
              " 'gtFine/test/berlin/berlin_000225_000019_gtFine_labelIds.png',\n",
              " 'gtFine/test/berlin/berlin_000225_000019_gtFine_polygons.json',\n",
              " 'gtFine/test/berlin/berlin_000226_000019_gtFine_color.png',\n",
              " 'gtFine/test/berlin/berlin_000226_000019_gtFine_instanceIds.png',\n",
              " 'gtFine/test/berlin/berlin_000226_000019_gtFine_labelIds.png',\n",
              " 'gtFine/test/berlin/berlin_000226_000019_gtFine_polygons.json',\n",
              " 'gtFine/test/berlin/berlin_000227_000019_gtFine_color.png',\n",
              " 'gtFine/test/berlin/berlin_000227_000019_gtFine_instanceIds.png',\n",
              " 'gtFine/test/berlin/berlin_000227_000019_gtFine_labelIds.png',\n",
              " 'gtFine/test/berlin/berlin_000227_000019_gtFine_polygons.json',\n",
              " 'gtFine/test/berlin/berlin_000228_000019_gtFine_color.png',\n",
              " 'gtFine/test/berlin/berlin_000228_000019_gtFine_instanceIds.png',\n",
              " 'gtFine/test/berlin/berlin_000228_000019_gtFine_labelIds.png',\n",
              " 'gtFine/test/berlin/berlin_000228_000019_gtFine_polygons.json',\n",
              " 'gtFine/test/berlin/berlin_000229_000019_gtFine_color.png',\n",
              " 'gtFine/test/berlin/berlin_000229_000019_gtFine_instanceIds.png',\n",
              " 'gtFine/test/berlin/berlin_000229_000019_gtFine_labelIds.png',\n",
              " 'gtFine/test/berlin/berlin_000229_000019_gtFine_polygons.json',\n",
              " 'gtFine/test/berlin/berlin_000230_000019_gtFine_color.png',\n",
              " 'gtFine/test/berlin/berlin_000230_000019_gtFine_instanceIds.png',\n",
              " 'gtFine/test/berlin/berlin_000230_000019_gtFine_labelIds.png',\n",
              " 'gtFine/test/berlin/berlin_000230_000019_gtFine_polygons.json',\n",
              " 'gtFine/test/berlin/berlin_000231_000019_gtFine_color.png',\n",
              " 'gtFine/test/berlin/berlin_000231_000019_gtFine_instanceIds.png',\n",
              " 'gtFine/test/berlin/berlin_000231_000019_gtFine_labelIds.png',\n",
              " 'gtFine/test/berlin/berlin_000231_000019_gtFine_polygons.json',\n",
              " 'gtFine/test/berlin/berlin_000232_000019_gtFine_color.png',\n",
              " 'gtFine/test/berlin/berlin_000232_000019_gtFine_instanceIds.png',\n",
              " 'gtFine/test/berlin/berlin_000232_000019_gtFine_labelIds.png',\n",
              " 'gtFine/test/berlin/berlin_000232_000019_gtFine_polygons.json',\n",
              " 'gtFine/test/berlin/berlin_000233_000019_gtFine_color.png',\n",
              " 'gtFine/test/berlin/berlin_000233_000019_gtFine_instanceIds.png',\n",
              " 'gtFine/test/berlin/berlin_000233_000019_gtFine_labelIds.png',\n",
              " 'gtFine/test/berlin/berlin_000233_000019_gtFine_polygons.json',\n",
              " 'gtFine/test/berlin/berlin_000234_000019_gtFine_color.png',\n",
              " 'gtFine/test/berlin/berlin_000234_000019_gtFine_instanceIds.png',\n",
              " 'gtFine/test/berlin/berlin_000234_000019_gtFine_labelIds.png',\n",
              " 'gtFine/test/berlin/berlin_000234_000019_gtFine_polygons.json',\n",
              " 'gtFine/test/berlin/berlin_000235_000019_gtFine_color.png',\n",
              " 'gtFine/test/berlin/berlin_000235_000019_gtFine_instanceIds.png',\n",
              " 'gtFine/test/berlin/berlin_000235_000019_gtFine_labelIds.png',\n",
              " 'gtFine/test/berlin/berlin_000235_000019_gtFine_polygons.json',\n",
              " 'gtFine/test/berlin/berlin_000236_000019_gtFine_color.png',\n",
              " 'gtFine/test/berlin/berlin_000236_000019_gtFine_instanceIds.png',\n",
              " 'gtFine/test/berlin/berlin_000236_000019_gtFine_labelIds.png',\n",
              " 'gtFine/test/berlin/berlin_000236_000019_gtFine_polygons.json',\n",
              " 'gtFine/test/berlin/berlin_000237_000019_gtFine_color.png',\n",
              " 'gtFine/test/berlin/berlin_000237_000019_gtFine_instanceIds.png',\n",
              " 'gtFine/test/berlin/berlin_000237_000019_gtFine_labelIds.png',\n",
              " 'gtFine/test/berlin/berlin_000237_000019_gtFine_polygons.json',\n",
              " 'gtFine/test/berlin/berlin_000238_000019_gtFine_color.png',\n",
              " 'gtFine/test/berlin/berlin_000238_000019_gtFine_instanceIds.png',\n",
              " 'gtFine/test/berlin/berlin_000238_000019_gtFine_labelIds.png',\n",
              " 'gtFine/test/berlin/berlin_000238_000019_gtFine_polygons.json',\n",
              " 'gtFine/test/berlin/berlin_000239_000019_gtFine_color.png',\n",
              " 'gtFine/test/berlin/berlin_000239_000019_gtFine_instanceIds.png',\n",
              " 'gtFine/test/berlin/berlin_000239_000019_gtFine_labelIds.png',\n",
              " 'gtFine/test/berlin/berlin_000239_000019_gtFine_polygons.json',\n",
              " 'gtFine/test/berlin/berlin_000240_000019_gtFine_color.png',\n",
              " 'gtFine/test/berlin/berlin_000240_000019_gtFine_instanceIds.png',\n",
              " 'gtFine/test/berlin/berlin_000240_000019_gtFine_labelIds.png',\n",
              " 'gtFine/test/berlin/berlin_000240_000019_gtFine_polygons.json',\n",
              " 'gtFine/test/berlin/berlin_000241_000019_gtFine_color.png',\n",
              " 'gtFine/test/berlin/berlin_000241_000019_gtFine_instanceIds.png',\n",
              " 'gtFine/test/berlin/berlin_000241_000019_gtFine_labelIds.png',\n",
              " 'gtFine/test/berlin/berlin_000241_000019_gtFine_polygons.json',\n",
              " 'gtFine/test/berlin/berlin_000242_000019_gtFine_color.png',\n",
              " 'gtFine/test/berlin/berlin_000242_000019_gtFine_instanceIds.png',\n",
              " 'gtFine/test/berlin/berlin_000242_000019_gtFine_labelIds.png',\n",
              " 'gtFine/test/berlin/berlin_000242_000019_gtFine_polygons.json',\n",
              " 'gtFine/test/berlin/berlin_000243_000019_gtFine_color.png',\n",
              " 'gtFine/test/berlin/berlin_000243_000019_gtFine_instanceIds.png',\n",
              " 'gtFine/test/berlin/berlin_000243_000019_gtFine_labelIds.png',\n",
              " 'gtFine/test/berlin/berlin_000243_000019_gtFine_polygons.json',\n",
              " 'gtFine/test/berlin/berlin_000244_000019_gtFine_color.png',\n",
              " 'gtFine/test/berlin/berlin_000244_000019_gtFine_instanceIds.png',\n",
              " 'gtFine/test/berlin/berlin_000244_000019_gtFine_labelIds.png',\n",
              " 'gtFine/test/berlin/berlin_000244_000019_gtFine_polygons.json',\n",
              " 'gtFine/test/berlin/berlin_000245_000019_gtFine_color.png',\n",
              " 'gtFine/test/berlin/berlin_000245_000019_gtFine_instanceIds.png',\n",
              " 'gtFine/test/berlin/berlin_000245_000019_gtFine_labelIds.png',\n",
              " 'gtFine/test/berlin/berlin_000245_000019_gtFine_polygons.json',\n",
              " 'gtFine/test/berlin/berlin_000246_000019_gtFine_color.png',\n",
              " 'gtFine/test/berlin/berlin_000246_000019_gtFine_instanceIds.png',\n",
              " 'gtFine/test/berlin/berlin_000246_000019_gtFine_labelIds.png',\n",
              " 'gtFine/test/berlin/berlin_000246_000019_gtFine_polygons.json',\n",
              " 'gtFine/test/berlin/berlin_000247_000019_gtFine_color.png',\n",
              " 'gtFine/test/berlin/berlin_000247_000019_gtFine_instanceIds.png',\n",
              " 'gtFine/test/berlin/berlin_000247_000019_gtFine_labelIds.png',\n",
              " 'gtFine/test/berlin/berlin_000247_000019_gtFine_polygons.json',\n",
              " 'gtFine/test/berlin/berlin_000248_000019_gtFine_color.png',\n",
              " 'gtFine/test/berlin/berlin_000248_000019_gtFine_instanceIds.png',\n",
              " 'gtFine/test/berlin/berlin_000248_000019_gtFine_labelIds.png',\n",
              " 'gtFine/test/berlin/berlin_000248_000019_gtFine_polygons.json',\n",
              " 'gtFine/test/berlin/berlin_000249_000019_gtFine_color.png',\n",
              " ...]"
            ]
          },
          "metadata": {},
          "execution_count": 10
        }
      ]
    },
    {
      "cell_type": "markdown",
      "metadata": {
        "id": "6PWPg6m0b6Xj"
      },
      "source": [
        "### Downloading"
      ]
    },
    {
      "cell_type": "code",
      "execution_count": null,
      "metadata": {
        "id": "pnOARhgTb-Ue"
      },
      "outputs": [],
      "source": [
        "sample = dobj.gtfine_data.get_filtered_list(\n",
        "    filter = lambda x : x.startswith('gtFine/train') and x.endswith('gtFine_labelIds.png')\n",
        "    # destination_path = \"\",\n",
        "    # rate = 9999,\n",
        ")[:10]"
      ]
    },
    {
      "cell_type": "code",
      "source": [
        "result = dobj.gtfine_data.download_in_parallel(\n",
        "    file_list=sample,\n",
        "    destination_path = \"\",\n",
        "    rate = 9999,\n",
        ")"
      ],
      "metadata": {
        "id": "nRLdPDdcT9zk"
      },
      "execution_count": null,
      "outputs": []
    },
    {
      "cell_type": "code",
      "source": [
        "result"
      ],
      "metadata": {
        "colab": {
          "base_uri": "https://localhost:8080/"
        },
        "id": "ecXi1-PwUfNc",
        "outputId": "24109998-2a41-48bd-fd6b-ab57bdd8be92"
      },
      "execution_count": null,
      "outputs": [
        {
          "output_type": "execute_result",
          "data": {
            "text/plain": [
              "{'Success': 10, 'Fails': 0, 'retries': 3}"
            ]
          },
          "metadata": {},
          "execution_count": 16
        }
      ]
    },
    {
      "cell_type": "code",
      "source": [],
      "metadata": {
        "colab": {
          "base_uri": "https://localhost:8080/"
        },
        "id": "obkizfipU1lR",
        "outputId": "f8895e14-1da9-485b-d94e-a85ebd9ebec3"
      },
      "execution_count": null,
      "outputs": [
        {
          "output_type": "execute_result",
          "data": {
            "text/plain": [
              "26"
            ]
          },
          "metadata": {},
          "execution_count": 23
        }
      ]
    },
    {
      "cell_type": "code",
      "source": [
        "for s in sample:\n",
        "    img = cv2.imread(s)\n",
        "    # cv2_imshow(img)\n",
        "    print(img.max(),img.min())"
      ],
      "metadata": {
        "colab": {
          "base_uri": "https://localhost:8080/"
        },
        "id": "gphw1EYST5C2",
        "outputId": "5e74ded7-4845-4be9-e068-2da3d4b7256a"
      },
      "execution_count": null,
      "outputs": [
        {
          "output_type": "stream",
          "name": "stdout",
          "text": [
            "33 0\n",
            "26 0\n",
            "33 0\n",
            "26 0\n",
            "33 0\n",
            "32 1\n",
            "26 0\n",
            "26 1\n",
            "32 0\n",
            "32 1\n"
          ]
        }
      ]
    },
    {
      "cell_type": "code",
      "execution_count": null,
      "metadata": {
        "id": "WOYFwdaYl9N1"
      },
      "outputs": [],
      "source": [
        "dobj.leftimg.get_file_contents()"
      ]
    },
    {
      "cell_type": "markdown",
      "metadata": {
        "id": "R8UnCntlT_oQ"
      },
      "source": [
        "## Direct Download"
      ]
    },
    {
      "cell_type": "code",
      "execution_count": null,
      "metadata": {
        "id": "HIoLmStZlKGn"
      },
      "outputs": [],
      "source": [
        "from cityscapesscripts.download import downloader"
      ]
    },
    {
      "cell_type": "code",
      "execution_count": null,
      "metadata": {
        "colab": {
          "base_uri": "https://localhost:8080/"
        },
        "id": "5Te534vNUL5J",
        "outputId": "965bc3f5-4428-47e6-d7c7-1f3165829d0c"
      },
      "outputs": [
        {
          "output_type": "stream",
          "name": "stdout",
          "text": [
            "The following packages are available for download.\n",
            "Please refer to https://www.cityscapes-dataset.com/downloads/ for additional packages and instructions on properly citing third party packages.\n",
            " gtFine_trainvaltest.zip -> 241MB\n",
            " gtCoarse.zip -> 1.3GB\n",
            " leftImg8bit_trainvaltest.zip -> 11GB\n",
            " leftImg8bit_trainextra.zip -> 44GB\n",
            " rightImg8bit_trainvaltest.zip -> 11GB\n",
            " rightImg8bit_trainextra.zip -> 44GB\n",
            " disparity_trainvaltest.zip -> 3.5GB\n",
            " disparity_trainextra.zip -> 15GB\n",
            " camera_trainvaltest.zip -> 2MB\n",
            " camera_trainextra.zip -> 8MB\n",
            " vehicle_trainvaltest.zip -> 2MB\n",
            " vehicle_trainextra.zip -> 7MB\n",
            " leftImg8bit_demoVideo.zip -> 6.6GB\n",
            " all_demoVideo.zip -> 59GB\n",
            " leftImg8bit_blurred.zip -> 11GB\n",
            " leftImg8bit_sequence_trainvaltest.zip -> 324GB\n",
            " timestamp_sequence.zip -> 40MB\n",
            " vehicle_sequence.zip -> 56MB\n",
            " rightImg8bit_sequence_trainvaltest.zip -> 322GB\n",
            " disparity_sequence_trainvaltest.zip -> 106GB\n",
            " leftImg8bit_allFrames_frankfurt.zip -> 241GB\n",
            " timestamp_allFrames_frankfurt.zip -> 29MB\n",
            " vehicle_allFrames_frankfurt.zip -> 38MB\n",
            " leftImg16bit_trainvaltest.zip -> 37GB\n",
            " rightImg8bit_allFrames_frankfurt.zip -> 242GB\n",
            " leftImg16bit_trainextra.zip -> 149GB\n",
            " rightImg16bit_trainvaltest.zip -> 37GB\n",
            " rightImg16bit_trainextra.zip -> 149GB\n",
            " gtBbox3d_trainvaltest.zip -> 6.6MB (third party)\n",
            " gtBbox_cityPersons_trainval.zip -> 2.2MB (third party)\n",
            " gtFinePanopticParts_trainval.zip -> 474MB (third party)\n",
            " leftImg8bit_trainval_foggyDBF.zip -> 20GB (third party)\n",
            " leftImg8bit_trainvaltest_foggy.zip -> 30GB (third party)\n",
            " leftImg8bit_trainextra_foggy.zip -> 40GB (third party)\n",
            " leftImg8bit_trainval_rain.zip -> 21GB (third party)\n"
          ]
        }
      ],
      "source": [
        "# view datasets\n",
        "downloader.list_available_packages(session = session)"
      ]
    },
    {
      "cell_type": "code",
      "execution_count": null,
      "metadata": {
        "id": "Krcga9c5Ueyx"
      },
      "outputs": [],
      "source": [
        "# Saving name of datasets in variables\n",
        "images_dataset = 'leftImg8bit_trainvaltest.zip'\n",
        "segmentation_dataset = 'gtFine_trainvaltest.zip'"
      ]
    },
    {
      "cell_type": "code",
      "execution_count": null,
      "metadata": {
        "colab": {
          "base_uri": "https://localhost:8080/"
        },
        "id": "8rWkVqhSUrlt",
        "outputId": "dc6ad313-051f-4e7c-8299-f54071859cf1"
      },
      "outputs": [
        {
          "output_type": "stream",
          "name": "stdout",
          "text": [
            "Downloading cityscapes package 'leftImg8bit_trainvaltest.zip' to '/content/leftImg8bit_trainvaltest.zip'\n"
          ]
        },
        {
          "output_type": "stream",
          "name": "stderr",
          "text": [
            "Download progress:  98%|█████████▊| 10.8G/11.0G [09:36<00:10, 20.1MB/s]\n"
          ]
        },
        {
          "output_type": "stream",
          "name": "stdout",
          "text": [
            "Downloading cityscapes package 'gtFine_trainvaltest.zip' to '/content/gtFine_trainvaltest.zip'\n"
          ]
        },
        {
          "output_type": "stream",
          "name": "stderr",
          "text": [
            "Download progress: 100%|█████████▉| 241M/241M [01:10<00:00, 3.60MB/s]\n"
          ]
        }
      ],
      "source": [
        "downloader.download_packages(\n",
        "    session = session,\n",
        "    package_names=[\n",
        "        images_dataset,\n",
        "        segmentation_dataset,\n",
        "    ],\n",
        "    destination_path = '/content/',\n",
        "    resume = True,\n",
        ")"
      ]
    },
    {
      "cell_type": "markdown",
      "metadata": {
        "id": "Jndzp5r2vI9S"
      },
      "source": [
        "## Extraction"
      ]
    },
    {
      "cell_type": "code",
      "execution_count": null,
      "metadata": {
        "id": "2f39OLXzVRHo"
      },
      "outputs": [],
      "source": [
        "import zipfile\n",
        "import multiprocessing\n",
        "\n",
        "class Extracter:\n",
        "    def __init__(\n",
        "            self,\n",
        "            path : str = \"\"\n",
        "    ):\n",
        "        self.path = path\n",
        "        self.files_list = None\n",
        "\n",
        "    def _check_files_list(self):\n",
        "        if not self.files_list :\n",
        "            self.files_list = self.get_files_list()\n",
        "\n",
        "    def extract_with_filter(\n",
        "            self,\n",
        "            filter,\n",
        "            destination_path : str = \"\"\n",
        "    ):\n",
        "        self._check_files_list()\n",
        "        temp = [f for f in self.files_list if filter(f)]\n",
        "        return self.extract_listed_files(\n",
        "            temp,destination_path\n",
        "        )\n",
        "\n",
        "    def extract_listed_files(self, files_to_extract, destination_path = \"\"):\n",
        "        self._check_files_list()\n",
        "        lock = multiprocessing.Lock()\n",
        "        arr = multiprocessing.Array('i',[0,0,0])\n",
        "        def _extract(z,file_name,destination_path,arr, *args):\n",
        "            retries = 3\n",
        "            while retries:\n",
        "                try:\n",
        "                    z.extract(file_name,destination_path,*args)\n",
        "                    with arr.get_lock():\n",
        "                        arr[0]+=1\n",
        "                        # print(f\"Task {file_name} extracted succesfully\")\n",
        "                    return\n",
        "                except Exception as e:\n",
        "                    retries -= 1\n",
        "                    with arr.get_lock():\n",
        "                        # print(f\"Task {file_name} generated an exception: {e}\")\n",
        "                        arr[1] += 1\n",
        "            with arr.get_lock():\n",
        "                arr[2] += 1\n",
        "        processes = []\n",
        "        with zipfile.ZipFile(self.path, 'r') as zip_ref:\n",
        "            # List all files in the zip\n",
        "            all_files = zip_ref.namelist()\n",
        "\n",
        "            for file in files_to_extract:\n",
        "                pr = multiprocessing.Process(target = _extract, args = [zip_ref,file,destination_path,arr])\n",
        "                processes.append(pr)\n",
        "                pr.start()\n",
        "\n",
        "            for pr in processes:\n",
        "                pr.join()\n",
        "        return {\n",
        "            \"success\" : arr[0],\n",
        "            \"retries\" : arr[1],\n",
        "            \"fail\" : arr[2]\n",
        "        }\n",
        "\n",
        "    def extract_all(self):\n",
        "        with zipfile.ZipFile(self.path,'r') as z:\n",
        "            z.extractall()\n",
        "\n",
        "    def get_files_list(self):\n",
        "        with zipfile.ZipFile(self.path,'r') as z:\n",
        "            return sorted(z.namelist())"
      ]
    },
    {
      "cell_type": "code",
      "execution_count": null,
      "metadata": {
        "id": "Funai04OXeVd"
      },
      "outputs": [],
      "source": [
        "class exObj:\n",
        "    segments = Extracter('/content/gtFine_trainvaltest.zip')\n",
        "    images = Extracter('/content/leftImg8bit_trainvaltest.zip')"
      ]
    },
    {
      "cell_type": "code",
      "execution_count": null,
      "metadata": {
        "colab": {
          "base_uri": "https://localhost:8080/"
        },
        "id": "QCAoGUISruO3",
        "outputId": "a4d74a67-f76c-4be9-d6e3-cfd39bad272f"
      },
      "outputs": [
        {
          "name": "stderr",
          "output_type": "stream",
          "text": [
            "/usr/lib/python3.10/multiprocessing/popen_fork.py:66: RuntimeWarning: os.fork() was called. os.fork() is incompatible with multithreaded code, and JAX is multithreaded, so this will likely lead to a deadlock.\n",
            "  self.pid = os.fork()\n"
          ]
        }
      ],
      "source": [
        "# exObj.segments.extract_with_filter(\n",
        "#     filter = lambda x : x,\n",
        "# )"
      ]
    },
    {
      "cell_type": "code",
      "execution_count": null,
      "metadata": {
        "id": "diGGz2Zjs7S7"
      },
      "outputs": [],
      "source": [
        "exObj.images.extract_all()\n",
        "exObj.segments.extract_all()"
      ]
    },
    {
      "cell_type": "code",
      "execution_count": null,
      "metadata": {
        "id": "2pIB4tqNcTQw"
      },
      "outputs": [],
      "source": [
        "import cv2\n",
        "arr = cv2.imread('/content/gtFine/test/bielefeld/bielefeld_000000_000321_gtFine_color.png')"
      ]
    },
    {
      "cell_type": "code",
      "execution_count": null,
      "metadata": {
        "colab": {
          "base_uri": "https://localhost:8080/"
        },
        "id": "fAjmp0yxvWIF",
        "outputId": "ded5ee8c-bc3a-4ad4-e8df-5df65ab0f93e"
      },
      "outputs": [
        {
          "data": {
            "text/plain": [
              "0"
            ]
          },
          "execution_count": 121,
          "metadata": {},
          "output_type": "execute_result"
        }
      ],
      "source": [
        "arr.max()"
      ]
    },
    {
      "cell_type": "code",
      "execution_count": null,
      "metadata": {
        "colab": {
          "base_uri": "https://localhost:8080/"
        },
        "id": "QkJJlAIFvV_v",
        "outputId": "bfe946a4-dd9d-46dd-a80e-cabf4da31b72"
      },
      "outputs": [
        {
          "data": {
            "text/plain": [
              "0"
            ]
          },
          "execution_count": 122,
          "metadata": {},
          "output_type": "execute_result"
        }
      ],
      "source": [
        "arr.min()"
      ]
    },
    {
      "cell_type": "code",
      "execution_count": null,
      "metadata": {
        "colab": {
          "base_uri": "https://localhost:8080/"
        },
        "id": "Zx8uVICscZbu",
        "outputId": "b1272cd4-4e11-4ad6-c287-184b9240a159"
      },
      "outputs": [
        {
          "data": {
            "text/plain": [
              "0"
            ]
          },
          "execution_count": 78,
          "metadata": {},
          "output_type": "execute_result"
        }
      ],
      "source": [
        "arr.max()"
      ]
    },
    {
      "cell_type": "markdown",
      "metadata": {
        "id": "-f4xPpSbz6qw"
      },
      "source": [
        "# Data Exploration"
      ]
    },
    {
      "cell_type": "code",
      "execution_count": null,
      "metadata": {
        "collapsed": true,
        "id": "r_XhVXmxdHF0"
      },
      "outputs": [],
      "source": [
        "import matplotlib.pyplot as plt\n",
        "import matplotlib.image as mpimg\n",
        "import threading\n",
        "\n",
        "def display_images_in_grid(image_paths, grid_size):\n",
        "    \"\"\"\n",
        "    Display images in a grid.\n",
        "\n",
        "    Parameters:\n",
        "    image_paths (list): List of image file paths.\n",
        "    grid_size (tuple): Number of rows and columns in the grid.\n",
        "    \"\"\"\n",
        "    fig, axes = plt.subplots(grid_size[0], grid_size[1], figsize=(15, 10))\n",
        "    axes = axes.flatten()\n",
        "    lock = threading.Lock()\n",
        "    img_arr = [None] * len(image_paths)\n",
        "    def get_arr(i):\n",
        "        img = mpimg.imread(image_paths[i])\n",
        "        # with lock:\n",
        "        img_arr[i] = img\n",
        "\n",
        "    threads = []\n",
        "    for i, img_path in enumerate(image_paths):\n",
        "        th = threading.Thread(target = get_arr, args = [i])\n",
        "        threads.append(th)\n",
        "        th.start()\n",
        "    for th in threads:\n",
        "        th.join()\n",
        "\n",
        "    # print(image_paths)\n",
        "\n",
        "    for ax,arr in zip(axes,img_arr):\n",
        "        ax.imshow(arr)\n",
        "        ax.axis('off')\n",
        "    # Hide remaining axes if there are fewer images than grid cells\n",
        "    for ax in axes[len(image_paths):]:\n",
        "        ax.axis('off')\n",
        "\n",
        "    plt.tight_layout()\n",
        "    plt.show()"
      ]
    },
    {
      "cell_type": "code",
      "execution_count": null,
      "metadata": {
        "id": "OmEUkkycr8Ap"
      },
      "outputs": [],
      "source": [
        "_ = cv2.imread('gtFine/test/berlin/berlin_000000_000019_gtFine_color.png')\n",
        "cv2_imshow(_)"
      ]
    },
    {
      "cell_type": "code",
      "execution_count": null,
      "metadata": {
        "colab": {
          "base_uri": "https://localhost:8080/"
        },
        "id": "rUz9FC59r7xc",
        "outputId": "53be1b09-ef6c-407b-a621-86a4a4d46ebe"
      },
      "outputs": [
        {
          "data": {
            "text/plain": [
              "['rightImg8bit/test/berlin/berlin_000006_000019_rightImg8bit.png',\n",
              " 'rightImg8bit/test/berlin/berlin_000007_000019_rightImg8bit.png',\n",
              " 'rightImg8bit/test/berlin/berlin_000008_000019_rightImg8bit.png']"
            ]
          },
          "execution_count": 110,
          "metadata": {},
          "output_type": "execute_result"
        }
      ],
      "source": [
        "path_lists.image_file_names[10:13]"
      ]
    },
    {
      "cell_type": "code",
      "execution_count": null,
      "metadata": {
        "id": "eNf_zeDfCCQ5"
      },
      "outputs": [],
      "source": [
        "_ = leftimg.get_filtered_list(\n",
        "    lambda x : x.startswith('leftImg8bit/train/') and x.endswith('.png'),\n",
        "    start = 5, end = 10\n",
        "    )"
      ]
    },
    {
      "cell_type": "code",
      "execution_count": null,
      "metadata": {
        "colab": {
          "base_uri": "https://localhost:8080/"
        },
        "id": "RHzXWEmIBiJY",
        "outputId": "24a2e6f1-e73f-40d4-cc9a-d3445a851fd2"
      },
      "outputs": [
        {
          "name": "stdout",
          "output_type": "stream",
          "text": [
            "Task leftImg8bit/train/aachen/aachen_000005_000019_leftImg8bit.png downloaded succesfully\n",
            "Task leftImg8bit/train/aachen/aachen_000006_000019_leftImg8bit.png downloaded succesfully\n",
            "Task leftImg8bit/train/aachen/aachen_000007_000019_leftImg8bit.png downloaded succesfully\n",
            "Task leftImg8bit/train/aachen/aachen_000008_000019_leftImg8bit.png downloaded succesfully\n",
            "Task leftImg8bit/train/aachen/aachen_000009_000019_leftImg8bit.png downloaded succesfully\n"
          ]
        }
      ],
      "source": [
        "_ = leftimg.download_with_filter(\n",
        "    lambda x : x.startswith('leftImg8bit/train/') and x.endswith('.png'),\n",
        "    start = 5, end = 10\n",
        "    )"
      ]
    },
    {
      "cell_type": "code",
      "execution_count": null,
      "metadata": {
        "collapsed": true,
        "id": "2gUSzMdnkfYN"
      },
      "outputs": [],
      "source": [
        "display_images_in_grid(\n",
        "    leftimg.get_filtered_list(\n",
        "    lambda x : x.startswith('rightImg8bit/train/') and x.endswith('.png'),\n",
        "    start = 5, end = 10\n",
        "    ),\n",
        "    [3,2]\n",
        ")"
      ]
    },
    {
      "cell_type": "code",
      "execution_count": null,
      "metadata": {
        "colab": {
          "base_uri": "https://localhost:8080/",
          "height": 331
        },
        "id": "ag8H-JqecvlG",
        "outputId": "2b027a86-efc7-4455-861f-d431c1b36f0e"
      },
      "outputs": [
        {
          "data": {
            "image/png": "[encoded data removed]",
            "text/plain": [
              "<PIL.Image.Image image mode=RGB size=2048x1024>"
            ]
          },
          "metadata": {},
          "output_type": "display_data"
        }
      ],
      "source": [
        "from google.colab.patches import cv2_imshow\n",
        "cv2_imshow(arr)"
      ]
    },
    {
      "cell_type": "markdown",
      "metadata": {
        "id": "GgVVl3mAmsuU"
      },
      "source": [
        "# Data Preprocessing"
      ]
    },
    {
      "cell_type": "code",
      "execution_count": null,
      "metadata": {
        "colab": {
          "base_uri": "https://localhost:8080/"
        },
        "id": "tqxsJrEc1LHs",
        "outputId": "d041d755-2d00-4108-8f23-52694293e270"
      },
      "outputs": [
        {
          "data": {
            "text/plain": [
              "5032"
            ]
          },
          "execution_count": 22,
          "metadata": {},
          "output_type": "execute_result"
        }
      ],
      "source": []
    },
    {
      "cell_type": "markdown",
      "metadata": {
        "id": "lBm9CuEHm5Ei"
      },
      "source": [
        "## Input Pipeline"
      ]
    },
    {
      "cell_type": "code",
      "execution_count": null,
      "metadata": {
        "id": "alO2B5M01WA2"
      },
      "outputs": [],
      "source": [
        "output_files = [f for f in (exObj.images.get_files_list()) if f.endswith('.png')]"
      ]
    },
    {
      "cell_type": "code",
      "execution_count": null,
      "metadata": {
        "id": "zhG6lN0M1hU7"
      },
      "outputs": [],
      "source": [
        "train_x = [f for f in output_files if f.startswith('leftImg8bit/train')]\n",
        "val_x = [f for f in output_files if f.startswith('leftImg8bit/val')]\n",
        "# test_x = [f for f in output_files if f.startswith('leftImg8bit/test')]"
      ]
    },
    {
      "cell_type": "code",
      "execution_count": null,
      "metadata": {
        "id": "bwhs-sETDVIf"
      },
      "outputs": [],
      "source": [
        "train_y_label = [f for f in exObj.segments.get_files_list() if f.startswith('gtFine/train') and f.endswith('gtFine_labelIds.png')]\n",
        "val_y_label = [f for f in exObj.segments.get_files_list() if f.startswith('gtFine/val') and f.endswith('gtFine_labelIds.png')]\n",
        "# test_y_label = [f for f in exObj.segments.get_files_list() if f.startswith('gtFine/test') and f.endswith('gtFine_labelIds.png')]"
      ]
    },
    {
      "cell_type": "code",
      "execution_count": null,
      "metadata": {
        "id": "XNHEJiZYLqpy"
      },
      "outputs": [],
      "source": [
        "train_y_color = [f for f in exObj.segments.get_files_list() if f.startswith('gtFine/train') and f.endswith('gtFine_color.png')]\n",
        "val_y_color = [f for f in exObj.segments.get_files_list() if f.startswith('gtFine/val') and f.endswith('gtFine_color.png')]\n",
        "# test_y_color = [f for f in exObj.segments.get_files_list() if f.startswith('gtFine/test') and f.endswith('gtFine_color.png')]"
      ]
    },
    {
      "cell_type": "code",
      "execution_count": null,
      "metadata": {
        "id": "afyA8M1vLrEq"
      },
      "outputs": [],
      "source": [
        "train_y_label = [f for f in exObj.segments.get_files_list() if f.startswith('gtFine/train') and f.endswith('gtFine_labelIds.png')]\n",
        "val_y_label = [f for f in exObj.segments.get_files_list() if f.startswith('gtFine/val') and f.endswith('gtFine_labelIds.png')]\n",
        "# test_y_label = [f for f in exObj.segments.get_files_list() if f.startswith('gtFine/test') and f.endswith('gtFine_labelIds.png')]"
      ]
    },
    {
      "cell_type": "code",
      "execution_count": null,
      "metadata": {
        "colab": {
          "base_uri": "https://localhost:8080/"
        },
        "id": "7aingwGNWFNG",
        "outputId": "4cf90760-3995-4f45-df0f-2d37808dc0d8"
      },
      "outputs": [
        {
          "data": {
            "text/plain": [
              "500"
            ]
          },
          "execution_count": 8,
          "metadata": {},
          "output_type": "execute_result"
        }
      ],
      "source": [
        "len(val_y_label)"
      ]
    },
    {
      "cell_type": "markdown",
      "metadata": {
        "id": "zhKS7GUfLp5G"
      },
      "source": []
    },
    {
      "cell_type": "code",
      "execution_count": null,
      "metadata": {
        "colab": {
          "base_uri": "https://localhost:8080/"
        },
        "id": "DRLiN5dGKRZi",
        "outputId": "7f54b530-cafc-490b-ab6f-29b9731f888f"
      },
      "outputs": [
        {
          "data": {
            "text/plain": [
              "[]"
            ]
          },
          "execution_count": 71,
          "metadata": {},
          "output_type": "execute_result"
        }
      ],
      "source": []
    },
    {
      "cell_type": "code",
      "execution_count": null,
      "metadata": {
        "id": "VqZJWDPl3QJY"
      },
      "outputs": [],
      "source": [
        "import cv2\n",
        "from google.colab.patches import cv2_imshow"
      ]
    },
    {
      "cell_type": "code",
      "execution_count": null,
      "metadata": {
        "colab": {
          "base_uri": "https://localhost:8080/",
          "height": 273
        },
        "id": "mqI33paE4GjA",
        "outputId": "2cf23c50-cf71-4c0b-c568-d24de6e594b2"
      },
      "outputs": [
        {
          "output_type": "display_data",
          "data": {
            "text/plain": [
              "<PIL.Image.Image image mode=RGB size=512x256>"
            ],
            "image/png": "[encoded data removed]"
          },
          "metadata": {}
        }
      ],
      "source": [
        "i = cv2.imread(val_y_color[0])\n",
        "i = cv2.resize(i,(512,256))\n",
        "cv2_imshow(i)\n",
        "# i.shape"
      ]
    },
    {
      "cell_type": "code",
      "execution_count": null,
      "metadata": {
        "id": "9Aq0Y4QcNHxs"
      },
      "outputs": [],
      "source": [
        "import numpy as np"
      ]
    },
    {
      "cell_type": "code",
      "execution_count": null,
      "metadata": {
        "colab": {
          "base_uri": "https://localhost:8080/"
        },
        "id": "ES3N623QJVCk",
        "outputId": "909f34b0-6059-4da2-9451-949aaa6f7044"
      },
      "outputs": [
        {
          "data": {
            "text/plain": [
              "array([ 1,  3,  4,  5,  6,  7,  8,  9, 10, 11, 12, 13, 14, 15, 16, 17, 18,\n",
              "       19, 20, 21, 22, 23, 24, 25, 26, 27, 29, 30, 31, 33], dtype=uint8)"
            ]
          },
          "execution_count": 96,
          "metadata": {},
          "output_type": "execute_result"
        }
      ],
      "source": [
        "np.unique(i)"
      ]
    },
    {
      "cell_type": "code",
      "execution_count": null,
      "metadata": {
        "id": "A-lo8HI5mxJM"
      },
      "outputs": [],
      "source": [
        "import tensorflow as tf\n",
        "\n",
        "class Preprocessor:\n",
        "    def __init__(\n",
        "            self,\n",
        "            filepaths : list[str]\n",
        "    ):\n",
        "        self.filepaths = filepaths\n",
        "        self.dataset = None\n",
        "\n",
        "\n",
        "\n",
        "    @classmethod\n",
        "    def load_preprocess_y(cls,file_path):\n",
        "        image = tf.io.read_file(file_path)\n",
        "        image = tf.image.decode_jpeg(image, channels=1)\n",
        "        image = tf.image.resize(image, [128, 256], method=tf.image.ResizeMethod.NEAREST_NEIGHBOR)\n",
        "        return image\n",
        "\n",
        "\n",
        "    def get_dataset_iterator(self,func):\n",
        "        if self.dataset:\n",
        "            return self.dataset\n",
        "\n",
        "        self.dataset = tf.data.Dataset.from_tensor_slices(self.filepaths)\n",
        "\n",
        "        self.dataset = self.dataset.map(func, num_parallel_calls=tf.data.AUTOTUNE)\n",
        "\n",
        "        # self.dataset = self.dataset.cache()\n",
        "        # self.dataset = self.dataset.shuffle(buffer_size=1000)\n",
        "        # self.dataset = self.dataset.batch(32)\n",
        "        # self.dataset = self.dataset.prefetch(buffer_size=tf.data.AUTOTUNE)\n",
        "        return self.dataset\n",
        "\n",
        "def load_preprocess_x(file_path):\n",
        "    image = tf.io.read_file(file_path)\n",
        "    image = tf.image.decode_jpeg(image, channels=3)\n",
        "    image = tf.image.resize(image, [128, 256])\n",
        "    image = image / 255.0\n",
        "    return image"
      ]
    },
    {
      "cell_type": "code",
      "source": [],
      "metadata": {
        "id": "1jBsfQKXg39F"
      },
      "execution_count": null,
      "outputs": []
    },
    {
      "cell_type": "code",
      "execution_count": null,
      "metadata": {
        "id": "Ms9RY4yk6qHR"
      },
      "outputs": [],
      "source": [
        "train_ds_x = Preprocessor(train_x).get_dataset_iterator(load_preprocess_x)\n",
        "val_ds_x = Preprocessor(val_x).get_dataset_iterator(load_preprocess_x)\n",
        "# test_ds_x = Preprocessor(test_x).get_dataset_iterator()\n"
      ]
    },
    {
      "cell_type": "code",
      "source": [
        "train_y,val_y = train_y_label,val_y_label\n",
        "# train_y,val_y = train_y_color,val_y_color\n",
        "\n"
      ],
      "metadata": {
        "id": "3arWxH55PnDc"
      },
      "execution_count": null,
      "outputs": []
    },
    {
      "cell_type": "code",
      "execution_count": null,
      "metadata": {
        "id": "emqvUoZCR7Zl"
      },
      "outputs": [],
      "source": [
        "train_ds_y = Preprocessor(train_y).get_dataset_iterator(Preprocessor.load_preprocess_y)\n",
        "val_ds_y = Preprocessor(val_y).get_dataset_iterator(Preprocessor.load_preprocess_y)\n",
        "# test_ds_y = Preprocessor(test_x).get_dataset_iterator()"
      ]
    },
    {
      "cell_type": "code",
      "execution_count": null,
      "metadata": {
        "id": "fJWf2Y3iTnu3"
      },
      "outputs": [],
      "source": [
        "dataset_train = tf.data.Dataset.zip(train_ds_x, train_ds_y)\n",
        "dataset_val = tf.data.Dataset.zip(val_ds_x, val_ds_y)\n"
      ]
    },
    {
      "cell_type": "code",
      "execution_count": null,
      "metadata": {
        "id": "bfpPubsaZQV1"
      },
      "outputs": [],
      "source": []
    },
    {
      "cell_type": "code",
      "execution_count": null,
      "metadata": {
        "id": "ETKf3rXeT5G9"
      },
      "outputs": [],
      "source": [
        "def optimize_datasets(dataset):\n",
        "        # dataset = dataset.cache()\n",
        "        # dataset = dataset.shuffle(buffer_size=1000)\n",
        "        dataset = dataset.batch(32)\n",
        "        dataset = dataset.prefetch(buffer_size=2)\n",
        "        return dataset"
      ]
    },
    {
      "cell_type": "code",
      "execution_count": null,
      "metadata": {
        "id": "Zy3tj2tdUCN0"
      },
      "outputs": [],
      "source": [
        "dataset_train = optimize_datasets(dataset_train)\n",
        "dataset_val = optimize_datasets(dataset_val)"
      ]
    },
    {
      "cell_type": "code",
      "execution_count": null,
      "metadata": {
        "id": "cXkaSv2TZUXf"
      },
      "outputs": [],
      "source": [
        "temp = dataset_train.as_numpy_iterator().next()"
      ]
    },
    {
      "cell_type": "code",
      "execution_count": null,
      "metadata": {
        "id": "6z2JxZmzbEu8"
      },
      "outputs": [],
      "source": [
        "import numpy as np"
      ]
    },
    {
      "cell_type": "code",
      "source": [],
      "metadata": {
        "id": "etPAY2OFvTVE"
      },
      "execution_count": null,
      "outputs": []
    },
    {
      "cell_type": "code",
      "execution_count": null,
      "metadata": {
        "id": "Ac_S49BUaP3S"
      },
      "outputs": [],
      "source": [
        "x = (temp[0][2]*255).astype(np.int8)\n",
        "y = (temp[1][2]).astype(np.int8)"
      ]
    },
    {
      "cell_type": "code",
      "execution_count": null,
      "metadata": {
        "colab": {
          "base_uri": "https://localhost:8080/",
          "height": 145
        },
        "id": "hr5l0gNAbGoz",
        "outputId": "9cf4ba17-8115-4338-ee15-c2649a6c19d8"
      },
      "outputs": [
        {
          "output_type": "display_data",
          "data": {
            "text/plain": [
              "<PIL.Image.Image image mode=RGB size=256x128>"
            ],
            "image/png": "[encoded data removed]"
          },
          "metadata": {}
        }
      ],
      "source": [
        "cv2_imshow(x)"
      ]
    },
    {
      "cell_type": "code",
      "execution_count": null,
      "metadata": {
        "colab": {
          "base_uri": "https://localhost:8080/",
          "height": 145
        },
        "id": "HDefrT-RbLTG",
        "outputId": "f18e386d-d418-4427-f912-5b48445d0309"
      },
      "outputs": [
        {
          "output_type": "display_data",
          "data": {
            "text/plain": [
              "<PIL.Image.Image image mode=RGB size=256x128>"
            ],
            "image/png": "[encoded data removed]"
          },
          "metadata": {}
        }
      ],
      "source": [
        "cv2_imshow(y)"
      ]
    },
    {
      "cell_type": "code",
      "execution_count": null,
      "metadata": {
        "colab": {
          "base_uri": "https://localhost:8080/"
        },
        "id": "OMDS9XOAaFER",
        "outputId": "4dd887da-b4ad-451d-922c-29d373cdb3ac",
        "collapsed": true
      },
      "outputs": [
        {
          "data": {
            "text/plain": [
              "array([[[ 46.25,  61.75,  46.25],\n",
              "        [ 57.75,  74.  ,  59.25],\n",
              "        [ 54.  ,  73.25,  59.25],\n",
              "        ...,\n",
              "        [123.25, 151.25, 146.75],\n",
              "        [124.  , 154.  , 147.  ],\n",
              "        [124.  , 153.75, 147.5 ]],\n",
              "\n",
              "       [[ 18.75,  29.5 ,  28.25],\n",
              "        [ 42.25,  62.75,  52.75],\n",
              "        [ 47.25,  63.25,  50.25],\n",
              "        ...,\n",
              "        [121.  , 153.25, 146.5 ],\n",
              "        [124.25, 153.25, 144.75],\n",
              "        [127.  , 153.5 , 145.25]],\n",
              "\n",
              "       [[ 47.5 ,  59.5 ,  47.5 ],\n",
              "        [ 52.75,  69.5 ,  57.5 ],\n",
              "        [ 46.75,  62.75,  50.25],\n",
              "        ...,\n",
              "        [123.5 , 150.  , 142.75],\n",
              "        [124.5 , 151.5 , 146.5 ],\n",
              "        [125.75, 154.  , 143.75]],\n",
              "\n",
              "       ...,\n",
              "\n",
              "       [[ 29.25,  41.75,  36.25],\n",
              "        [ 29.  ,  41.75,  36.5 ],\n",
              "        [ 30.25,  42.  ,  37.  ],\n",
              "        ...,\n",
              "        [ 45.5 ,  61.25,  52.25],\n",
              "        [ 45.75,  62.  ,  55.  ],\n",
              "        [ 47.  ,  63.  ,  55.25]],\n",
              "\n",
              "       [[ 29.5 ,  41.  ,  35.5 ],\n",
              "        [ 29.75,  41.  ,  36.25],\n",
              "        [ 28.75,  41.75,  37.25],\n",
              "        ...,\n",
              "        [ 39.75,  55.5 ,  48.75],\n",
              "        [ 41.5 ,  55.25,  46.75],\n",
              "        [ 44.75,  59.75,  52.5 ]],\n",
              "\n",
              "       [[ 29.5 ,  40.5 ,  35.  ],\n",
              "        [ 29.75,  40.5 ,  34.5 ],\n",
              "        [ 28.75,  40.  ,  34.  ],\n",
              "        ...,\n",
              "        [ 39.5 ,  54.25,  46.75],\n",
              "        [ 36.5 ,  51.25,  44.  ],\n",
              "        [ 40.  ,  56.5 ,  47.5 ]]], dtype=float32)"
            ]
          },
          "execution_count": 17,
          "metadata": {},
          "output_type": "execute_result"
        }
      ],
      "source": [
        "temp[0][0]"
      ]
    },
    {
      "cell_type": "markdown",
      "source": [
        "# Data Distribution"
      ],
      "metadata": {
        "id": "rFykXPvtYzhC"
      }
    },
    {
      "cell_type": "code",
      "source": [
        "train_ds_y = optimize_datasets(train_ds_y)"
      ],
      "metadata": {
        "id": "hBA6TqDzYyrj"
      },
      "execution_count": null,
      "outputs": []
    },
    {
      "cell_type": "code",
      "source": [
        "img = train_ds_y.as_numpy_iterator().next()"
      ],
      "metadata": {
        "id": "77lTxza7bISJ"
      },
      "execution_count": null,
      "outputs": []
    },
    {
      "cell_type": "code",
      "source": [
        "train_ds_x = optimize_datasets(train_ds_x)"
      ],
      "metadata": {
        "id": "YgGc0I0DlVgP"
      },
      "execution_count": null,
      "outputs": []
    },
    {
      "cell_type": "code",
      "source": [
        "x_img = train_ds_x.as_numpy_iterator().next()"
      ],
      "metadata": {
        "id": "wWd6fXXPj_4s"
      },
      "execution_count": null,
      "outputs": []
    },
    {
      "cell_type": "code",
      "source": [
        "x_img.shape"
      ],
      "metadata": {
        "colab": {
          "base_uri": "https://localhost:8080/"
        },
        "id": "OMuW18HakVzM",
        "outputId": "c17828e6-eb32-4911-b9f7-337f7bb90b95"
      },
      "execution_count": null,
      "outputs": [
        {
          "output_type": "execute_result",
          "data": {
            "text/plain": [
              "(16, 128, 256, 3)"
            ]
          },
          "metadata": {},
          "execution_count": 108
        }
      ]
    },
    {
      "cell_type": "code",
      "source": [
        "cv2_imshow(x_img[1].astype(np.int8))"
      ],
      "metadata": {
        "colab": {
          "base_uri": "https://localhost:8080/",
          "height": 145
        },
        "id": "AR8-3VJOj-Eu",
        "outputId": "10342c34-d9c1-461b-d93d-23ce50f6cfa7"
      },
      "execution_count": null,
      "outputs": [
        {
          "output_type": "display_data",
          "data": {
            "text/plain": [
              "<PIL.Image.Image image mode=RGB size=256x128>"
            ],
            "image/png": "[encoded data removed]"
          },
          "metadata": {}
        }
      ]
    },
    {
      "cell_type": "code",
      "source": [
        "cv2_imshow(img[1].astype(np.int8))"
      ],
      "metadata": {
        "colab": {
          "base_uri": "https://localhost:8080/",
          "height": 145
        },
        "id": "TyfZ-ESbjx_g",
        "outputId": "f7ad30a2-1c0a-4890-84d6-4b9086b6d321"
      },
      "execution_count": null,
      "outputs": [
        {
          "output_type": "display_data",
          "data": {
            "text/plain": [
              "<PIL.Image.Image image mode=RGB size=256x128>"
            ],
            "image/png": "[encoded data removed]"
          },
          "metadata": {}
        }
      ]
    },
    {
      "cell_type": "code",
      "source": [
        "img.shape\n",
        "plt.subplots(8,8,)"
      ],
      "metadata": {
        "colab": {
          "base_uri": "https://localhost:8080/"
        },
        "id": "mJTb6faJdbQb",
        "outputId": "e1bb476b-fea1-45b9-ed40-7fc92176eda2"
      },
      "execution_count": null,
      "outputs": [
        {
          "output_type": "execute_result",
          "data": {
            "text/plain": [
              "(16, 128, 256, 3)"
            ]
          },
          "metadata": {},
          "execution_count": 68
        }
      ]
    },
    {
      "cell_type": "code",
      "source": [],
      "metadata": {
        "id": "nAAzUjBpdbKn"
      },
      "execution_count": null,
      "outputs": []
    },
    {
      "cell_type": "code",
      "source": [
        "img[:,:,:,:1].shape"
      ],
      "metadata": {
        "colab": {
          "base_uri": "https://localhost:8080/"
        },
        "id": "puSXev16bODB",
        "outputId": "6d766e05-6b6e-411f-b132-ce063fea9144"
      },
      "execution_count": null,
      "outputs": [
        {
          "output_type": "execute_result",
          "data": {
            "text/plain": [
              "(16, 128, 256, 1)"
            ]
          },
          "metadata": {},
          "execution_count": 60
        }
      ]
    },
    {
      "cell_type": "code",
      "source": [
        "from collections import defaultdict\n",
        "from pprint import pprint\n",
        "distribution = defaultdict(int)"
      ],
      "metadata": {
        "id": "1ENVoVtHaaDb"
      },
      "execution_count": null,
      "outputs": []
    },
    {
      "cell_type": "code",
      "source": [
        "for image in train_ds_y.as_numpy_iterator():\n",
        "    img = image[:,:,:,:1]\n",
        "    img.flatten()\n",
        "    labels,count = np.unique(img,return_counts=True)\n",
        "    for i,label in enumerate(labels):\n",
        "        distribution[label] += count[i]\n",
        "\n",
        "pprint(distribution)\n"
      ],
      "metadata": {
        "colab": {
          "base_uri": "https://localhost:8080/"
        },
        "id": "1bVsdrrTaWnp",
        "outputId": "1f1ee48c-b888-483d-9cd1-73749d158cde"
      },
      "execution_count": null,
      "outputs": [
        {
          "output_type": "stream",
          "name": "stdout",
          "text": [
            "defaultdict(<class 'int'>,\n",
            "            {0: 10719,\n",
            "             1: 4352021,\n",
            "             2: 1083726,\n",
            "             3: 2272900,\n",
            "             4: 1301879,\n",
            "             5: 277477,\n",
            "             6: 1177307,\n",
            "             7: 31735922,\n",
            "             8: 5226711,\n",
            "             9: 607517,\n",
            "             10: 174813,\n",
            "             11: 19542982,\n",
            "             12: 563136,\n",
            "             13: 753731,\n",
            "             14: 8538,\n",
            "             15: 277627,\n",
            "             16: 52064,\n",
            "             17: 1054631,\n",
            "             18: 7830,\n",
            "             19: 178316,\n",
            "             20: 473709,\n",
            "             21: 13638635,\n",
            "             22: 994338,\n",
            "             23: 3406053,\n",
            "             24: 1049810,\n",
            "             25: 116521,\n",
            "             26: 6013397,\n",
            "             27: 230206,\n",
            "             28: 202281,\n",
            "             29: 38831,\n",
            "             30: 20217,\n",
            "             31: 200259,\n",
            "             32: 84724,\n",
            "             33: 355972})\n"
          ]
        }
      ]
    },
    {
      "cell_type": "code",
      "source": [],
      "metadata": {
        "id": "ZRHK-8Iwjqg2"
      },
      "execution_count": null,
      "outputs": []
    },
    {
      "cell_type": "code",
      "source": [
        "\n",
        "# Extract labels and frequencies\n",
        "labels = list(distribution.keys())\n",
        "frequencies = list(distribution.values())\n",
        "\n",
        "# Create a bar plot\n",
        "plt.figure(figsize=(10, 6))\n",
        "plt.bar(labels, frequencies, color='skyblue')\n",
        "\n",
        "# Add labels and title\n",
        "plt.xlabel('Labels')\n",
        "plt.ylabel('Frequency')\n",
        "plt.title('Frequency Distribution of Labels')\n",
        "plt.grid(axis='y', linestyle='--', alpha=0.7)\n",
        "\n",
        "# Show the plot\n",
        "plt.show()"
      ],
      "metadata": {
        "colab": {
          "base_uri": "https://localhost:8080/",
          "height": 564
        },
        "id": "N43Hde8shz--",
        "outputId": "9baa85f5-74ee-4962-974f-04418ea3a62a"
      },
      "execution_count": null,
      "outputs": [
        {
          "output_type": "display_data",
          "data": {
            "text/plain": [
              "<Figure size 1000x600 with 1 Axes>"
            ],
            "image/png": "[encoded data removed]"
          },
          "metadata": {}
        }
      ]
    },
    {
      "cell_type": "markdown",
      "metadata": {
        "id": "RTDJ9Wu0wbRy"
      },
      "source": [
        "# NN"
      ]
    },
    {
      "cell_type": "markdown",
      "metadata": {
        "id": "zg4PfGrqwdOP"
      },
      "source": [
        "## Model"
      ]
    },
    {
      "cell_type": "code",
      "execution_count": null,
      "metadata": {
        "id": "_b3QRq0SZ_Jh"
      },
      "outputs": [],
      "source": [
        "img_x, img_y = 128,256"
      ]
    },
    {
      "cell_type": "markdown",
      "source": [
        "### Model 1"
      ],
      "metadata": {
        "id": "SMM_z_x7CfZM"
      }
    },
    {
      "cell_type": "code",
      "execution_count": null,
      "metadata": {
        "id": "IFyYuPVLZL1h"
      },
      "outputs": [],
      "source": [
        "inputs = keras.Input(shape = (img_x, img_y, 3))\n",
        "\n",
        "x3_conv = layers.Conv2D(20,3,padding = \"same\", activation = 'linear')(inputs)\n",
        "x3_relu = layers.ReLU()(x3_conv)\n",
        "x5_conv = layers.Conv2D(20,5,padding = \"same\", activation = 'linear')(x3_relu)\n",
        "s1 = layers.ReLU()(x5_conv)\n",
        "\n",
        "x3_conv = layers.Conv2D(20,3,padding = \"same\", activation = 'linear')(s1)\n",
        "x3_relu = layers.ReLU()(x3_conv)\n",
        "x5_conv = layers.Conv2D(20,5,padding = \"same\", activation = 'linear')(x3_relu)\n",
        "# feedback\n",
        "x5_relu = layers.ReLU()(x5_conv + s1)\n",
        "x3_conv = layers.Conv2D(20,3,padding = \"same\", activation = 'linear')(x5_relu)\n",
        "x3_relu = layers.ReLU()(x3_conv)\n",
        "x5_conv =  layers.Conv2D(20,5,padding = \"same\", activation = 'linear')(x3_relu)\n",
        "# feedback\n",
        "x5_relu = layers.ReLU()(x5_conv + s1 + x5_relu)\n",
        "x3_conv = layers.Conv2D(20,3,padding = \"same\", activation = 'linear')(x5_relu)\n",
        "x3_relu = layers.ReLU()(x3_conv)\n",
        "x5_conv =  layers.Conv2D(20,5,padding = \"same\", activation = 'linear')(x3_relu)\n",
        "#feedback\n",
        "x5_relu = layers.ReLU()(x5_conv + s1 + x5_relu)\n",
        "x3_conv = layers.Conv2D(20,3,padding = \"same\", activation = 'linear')(x5_relu)\n",
        "x3_relu = layers.ReLU()(x3_conv)\n",
        "x5_conv =  layers.Conv2D(20,5,padding = \"same\", activation = 'linear')(x3_relu)\n",
        "#feedback\n",
        "x5_relu = layers.ReLU()(x5_conv + s1 + x5_relu)\n",
        "x3_conv = layers.Conv2D(20,3,padding = \"same\", activation = 'linear')(x5_relu)\n",
        "x3_relu = layers.ReLU()(x3_conv)\n",
        "x5_conv =  layers.Conv2D(20,5,padding = \"same\", activation = 'linear')(x3_relu)\n",
        "#feedback\n",
        "x5_relu = layers.ReLU()(x5_conv + s1 + x5_relu)\n",
        "x3_conv = layers.Conv2D(20,3,padding = \"same\", activation = 'linear')(x5_relu)\n",
        "x3_relu = layers.ReLU()(x3_conv)\n",
        "x5_conv =  layers.Conv2D(20,5,padding = \"same\", activation = 'linear')(x3_relu)\n",
        "x5_relu = layers.ReLU()(x5_conv)\n",
        "\n",
        "x5_relu = layers.Conv2D(10,1)(x5_relu)\n",
        "x5_relu = layers.Conv2D(5,1)(x5_relu)\n",
        "outputs = layers.Conv2D(34,1)(x5_relu)"
      ]
    },
    {
      "cell_type": "code",
      "source": [],
      "metadata": {
        "id": "KHH9bFDxDYMb"
      },
      "execution_count": null,
      "outputs": []
    },
    {
      "cell_type": "markdown",
      "source": [
        "## Model 2"
      ],
      "metadata": {
        "id": "fggyXSrhCl2w"
      }
    },
    {
      "cell_type": "code",
      "source": [
        "def feature_module():\n",
        "    inputs = layers.Input(shape = (img_x,img_y,20))\n",
        "    x3_conv = layers.Conv2D(20,3,padding = \"same\", activation = 'linear')(inputs)\n",
        "    x3_relu = layers.ReLU()(x3_conv)\n",
        "    x1_conv = layers.Conv2D(40,1,padding = \"same\", activation = 'linear')(x3_relu)\n",
        "    x1_relu = layers.ReLU()(x1_conv)\n",
        "    x1_conv = layers.Conv2D(80,1,padding = \"same\", activation = 'linear')(x1_relu)\n",
        "    x1_relu = layers.ReLU()(x1_conv)\n",
        "    x1_conv = layers.Conv2D(160,1,padding = \"same\", activation = 'linear')(x1_relu)\n",
        "    x1_relu = layers.ReLU()(x1_conv)\n",
        "    x1_conv = layers.Conv2D(80,1,padding = \"same\", activation = 'linear')(x1_relu)\n",
        "    x1_relu = layers.ReLU()(x1_conv)\n",
        "    x1_conv = layers.Conv2D(40,1,padding = \"same\", activation = 'linear')(x1_relu)\n",
        "    x1_relu = layers.ReLU()(x1_conv)\n",
        "    outputs = layers.Conv2D(20,1,padding = \"same\", activation = 'linear')(x1_relu)\n",
        "\n",
        "    return keras.Model(inputs = inputs, outputs = outputs)\n",
        "\n",
        "fm = feature_module()"
      ],
      "metadata": {
        "id": "2qIbUoojIt06"
      },
      "execution_count": null,
      "outputs": []
    },
    {
      "cell_type": "code",
      "source": [
        "fm.summary()"
      ],
      "metadata": {
        "colab": {
          "base_uri": "https://localhost:8080/"
        },
        "id": "laC0EaW5N3fk",
        "outputId": "e47dd137-5b6f-43ed-e15a-eee6f5702024"
      },
      "execution_count": null,
      "outputs": [
        {
          "output_type": "stream",
          "name": "stdout",
          "text": [
            "Model: \"model\"\n",
            "_________________________________________________________________\n",
            " Layer (type)                Output Shape              Param #   \n",
            "=================================================================\n",
            " input_1 (InputLayer)        [(None, 128, 256, 20)]    0         \n",
            "                                                                 \n",
            " conv2d (Conv2D)             (None, 128, 256, 20)      3620      \n",
            "                                                                 \n",
            " re_lu (ReLU)                (None, 128, 256, 20)      0         \n",
            "                                                                 \n",
            " conv2d_1 (Conv2D)           (None, 128, 256, 40)      840       \n",
            "                                                                 \n",
            " re_lu_1 (ReLU)              (None, 128, 256, 40)      0         \n",
            "                                                                 \n",
            " conv2d_2 (Conv2D)           (None, 128, 256, 80)      3280      \n",
            "                                                                 \n",
            " re_lu_2 (ReLU)              (None, 128, 256, 80)      0         \n",
            "                                                                 \n",
            " conv2d_3 (Conv2D)           (None, 128, 256, 160)     12960     \n",
            "                                                                 \n",
            " re_lu_3 (ReLU)              (None, 128, 256, 160)     0         \n",
            "                                                                 \n",
            " conv2d_4 (Conv2D)           (None, 128, 256, 80)      12880     \n",
            "                                                                 \n",
            " re_lu_4 (ReLU)              (None, 128, 256, 80)      0         \n",
            "                                                                 \n",
            " conv2d_5 (Conv2D)           (None, 128, 256, 40)      3240      \n",
            "                                                                 \n",
            " re_lu_5 (ReLU)              (None, 128, 256, 40)      0         \n",
            "                                                                 \n",
            " conv2d_6 (Conv2D)           (None, 128, 256, 20)      820       \n",
            "                                                                 \n",
            "=================================================================\n",
            "Total params: 37640 (147.03 KB)\n",
            "Trainable params: 37640 (147.03 KB)\n",
            "Non-trainable params: 0 (0.00 Byte)\n",
            "_________________________________________________________________\n"
          ]
        }
      ]
    },
    {
      "cell_type": "code",
      "source": [
        "inputs = keras.Input(shape = (img_x, img_y, 3))\n",
        "# x5_conv = layers.Conv2D(20,3,padding = \"same\", activation = 'linear')(inputs)\n",
        "conv = layers.Conv2D(20,5, padding = \"same\", activation = 'relu')(inputs)\n",
        "fm1 = feature_module()(conv)\n",
        "relu = layers.ReLU()(fm1 + conv)\n",
        "fm1 = feature_module()(relu)\n",
        "relu = layers.ReLU()(fm1 + conv)\n",
        "fm1 = feature_module()(relu)\n",
        "relu = layers.ReLU()(fm1 + conv)\n",
        "relu = layers.Conv2D(10,1,activation = 'relu')(relu)\n",
        "relu = layers.Conv2D(5,1,activation = 'relu')(relu)\n",
        "outputs = layers.Conv2D(1,1)(relu)\n"
      ],
      "metadata": {
        "id": "UmTCX82HCok_"
      },
      "execution_count": null,
      "outputs": []
    },
    {
      "cell_type": "markdown",
      "source": [
        "## Compiling"
      ],
      "metadata": {
        "id": "iykt4yQoCj-V"
      }
    },
    {
      "cell_type": "code",
      "execution_count": null,
      "metadata": {
        "id": "EeUzDmPjadbp"
      },
      "outputs": [],
      "source": [
        "model = keras.Model(inputs = inputs, outputs = outputs)"
      ]
    },
    {
      "cell_type": "code",
      "execution_count": null,
      "metadata": {
        "colab": {
          "base_uri": "https://localhost:8080/"
        },
        "id": "aTSzMpi2a7rw",
        "outputId": "e6239ca2-1dae-4e40-b4c6-fb30293df642"
      },
      "outputs": [
        {
          "output_type": "stream",
          "name": "stdout",
          "text": [
            "Model: \"model_1\"\n",
            "__________________________________________________________________________________________________\n",
            " Layer (type)                Output Shape                 Param #   Connected to                  \n",
            "==================================================================================================\n",
            " input_4 (InputLayer)        [(None, 128, 256, 3)]        0         []                            \n",
            "                                                                                                  \n",
            " conv2d_46 (Conv2D)          (None, 128, 256, 20)         560       ['input_4[0][0]']             \n",
            "                                                                                                  \n",
            " re_lu_40 (ReLU)             (None, 128, 256, 20)         0         ['conv2d_46[0][0]']           \n",
            "                                                                                                  \n",
            " conv2d_47 (Conv2D)          (None, 128, 256, 20)         10020     ['re_lu_40[0][0]']            \n",
            "                                                                                                  \n",
            " re_lu_41 (ReLU)             (None, 128, 256, 20)         0         ['conv2d_47[0][0]']           \n",
            "                                                                                                  \n",
            " conv2d_48 (Conv2D)          (None, 128, 256, 20)         3620      ['re_lu_41[0][0]']            \n",
            "                                                                                                  \n",
            " re_lu_42 (ReLU)             (None, 128, 256, 20)         0         ['conv2d_48[0][0]']           \n",
            "                                                                                                  \n",
            " conv2d_49 (Conv2D)          (None, 128, 256, 20)         10020     ['re_lu_42[0][0]']            \n",
            "                                                                                                  \n",
            " tf.__operators__.add_23 (T  (None, 128, 256, 20)         0         ['conv2d_49[0][0]',           \n",
            " FOpLambda)                                                          're_lu_41[0][0]']            \n",
            "                                                                                                  \n",
            " re_lu_43 (ReLU)             (None, 128, 256, 20)         0         ['tf.__operators__.add_23[0][0\n",
            "                                                                    ]']                           \n",
            "                                                                                                  \n",
            " conv2d_50 (Conv2D)          (None, 128, 256, 20)         3620      ['re_lu_43[0][0]']            \n",
            "                                                                                                  \n",
            " re_lu_44 (ReLU)             (None, 128, 256, 20)         0         ['conv2d_50[0][0]']           \n",
            "                                                                                                  \n",
            " conv2d_51 (Conv2D)          (None, 128, 256, 20)         10020     ['re_lu_44[0][0]']            \n",
            "                                                                                                  \n",
            " tf.__operators__.add_24 (T  (None, 128, 256, 20)         0         ['conv2d_51[0][0]',           \n",
            " FOpLambda)                                                          're_lu_41[0][0]']            \n",
            "                                                                                                  \n",
            " tf.__operators__.add_25 (T  (None, 128, 256, 20)         0         ['tf.__operators__.add_24[0][0\n",
            " FOpLambda)                                                         ]',                           \n",
            "                                                                     're_lu_43[0][0]']            \n",
            "                                                                                                  \n",
            " re_lu_45 (ReLU)             (None, 128, 256, 20)         0         ['tf.__operators__.add_25[0][0\n",
            "                                                                    ]']                           \n",
            "                                                                                                  \n",
            " conv2d_52 (Conv2D)          (None, 128, 256, 20)         3620      ['re_lu_45[0][0]']            \n",
            "                                                                                                  \n",
            " re_lu_46 (ReLU)             (None, 128, 256, 20)         0         ['conv2d_52[0][0]']           \n",
            "                                                                                                  \n",
            " conv2d_53 (Conv2D)          (None, 128, 256, 20)         10020     ['re_lu_46[0][0]']            \n",
            "                                                                                                  \n",
            " tf.__operators__.add_26 (T  (None, 128, 256, 20)         0         ['conv2d_53[0][0]',           \n",
            " FOpLambda)                                                          're_lu_41[0][0]']            \n",
            "                                                                                                  \n",
            " tf.__operators__.add_27 (T  (None, 128, 256, 20)         0         ['tf.__operators__.add_26[0][0\n",
            " FOpLambda)                                                         ]',                           \n",
            "                                                                     're_lu_45[0][0]']            \n",
            "                                                                                                  \n",
            " re_lu_47 (ReLU)             (None, 128, 256, 20)         0         ['tf.__operators__.add_27[0][0\n",
            "                                                                    ]']                           \n",
            "                                                                                                  \n",
            " conv2d_54 (Conv2D)          (None, 128, 256, 20)         3620      ['re_lu_47[0][0]']            \n",
            "                                                                                                  \n",
            " re_lu_48 (ReLU)             (None, 128, 256, 20)         0         ['conv2d_54[0][0]']           \n",
            "                                                                                                  \n",
            " conv2d_55 (Conv2D)          (None, 128, 256, 20)         10020     ['re_lu_48[0][0]']            \n",
            "                                                                                                  \n",
            " tf.__operators__.add_28 (T  (None, 128, 256, 20)         0         ['conv2d_55[0][0]',           \n",
            " FOpLambda)                                                          're_lu_41[0][0]']            \n",
            "                                                                                                  \n",
            " tf.__operators__.add_29 (T  (None, 128, 256, 20)         0         ['tf.__operators__.add_28[0][0\n",
            " FOpLambda)                                                         ]',                           \n",
            "                                                                     're_lu_47[0][0]']            \n",
            "                                                                                                  \n",
            " re_lu_49 (ReLU)             (None, 128, 256, 20)         0         ['tf.__operators__.add_29[0][0\n",
            "                                                                    ]']                           \n",
            "                                                                                                  \n",
            " conv2d_56 (Conv2D)          (None, 128, 256, 20)         3620      ['re_lu_49[0][0]']            \n",
            "                                                                                                  \n",
            " re_lu_50 (ReLU)             (None, 128, 256, 20)         0         ['conv2d_56[0][0]']           \n",
            "                                                                                                  \n",
            " conv2d_57 (Conv2D)          (None, 128, 256, 20)         10020     ['re_lu_50[0][0]']            \n",
            "                                                                                                  \n",
            " tf.__operators__.add_30 (T  (None, 128, 256, 20)         0         ['conv2d_57[0][0]',           \n",
            " FOpLambda)                                                          're_lu_41[0][0]']            \n",
            "                                                                                                  \n",
            " tf.__operators__.add_31 (T  (None, 128, 256, 20)         0         ['tf.__operators__.add_30[0][0\n",
            " FOpLambda)                                                         ]',                           \n",
            "                                                                     're_lu_49[0][0]']            \n",
            "                                                                                                  \n",
            " re_lu_51 (ReLU)             (None, 128, 256, 20)         0         ['tf.__operators__.add_31[0][0\n",
            "                                                                    ]']                           \n",
            "                                                                                                  \n",
            " conv2d_58 (Conv2D)          (None, 128, 256, 20)         3620      ['re_lu_51[0][0]']            \n",
            "                                                                                                  \n",
            " re_lu_52 (ReLU)             (None, 128, 256, 20)         0         ['conv2d_58[0][0]']           \n",
            "                                                                                                  \n",
            " conv2d_59 (Conv2D)          (None, 128, 256, 20)         10020     ['re_lu_52[0][0]']            \n",
            "                                                                                                  \n",
            " re_lu_53 (ReLU)             (None, 128, 256, 20)         0         ['conv2d_59[0][0]']           \n",
            "                                                                                                  \n",
            " conv2d_60 (Conv2D)          (None, 128, 256, 10)         210       ['re_lu_53[0][0]']            \n",
            "                                                                                                  \n",
            " conv2d_61 (Conv2D)          (None, 128, 256, 5)          55        ['conv2d_60[0][0]']           \n",
            "                                                                                                  \n",
            " conv2d_62 (Conv2D)          (None, 128, 256, 34)         204       ['conv2d_61[0][0]']           \n",
            "                                                                                                  \n",
            "==================================================================================================\n",
            "Total params: 92889 (362.85 KB)\n",
            "Trainable params: 92889 (362.85 KB)\n",
            "Non-trainable params: 0 (0.00 Byte)\n",
            "__________________________________________________________________________________________________\n"
          ]
        }
      ],
      "source": [
        "model.summary()"
      ]
    },
    {
      "cell_type": "code",
      "execution_count": null,
      "metadata": {
        "id": "P_nPQJKjejRF"
      },
      "outputs": [],
      "source": [
        "model.compile(\n",
        "    optimizer='adam', loss=tf.keras.losses.SparseCategoricalCrossentropy()\n",
        ")"
      ]
    },
    {
      "cell_type": "code",
      "execution_count": null,
      "metadata": {
        "colab": {
          "base_uri": "https://localhost:8080/"
        },
        "id": "1ANS4T5NR0JG",
        "outputId": "4fa3195d-cdda-43a7-9c7b-ec3cc6d13612"
      },
      "outputs": [
        {
          "output_type": "stream",
          "name": "stdout",
          "text": [
            "93/93 [==============================] - 252s 3s/step - loss: 10.1425 - val_loss: 9.9322\n"
          ]
        },
        {
          "output_type": "execute_result",
          "data": {
            "text/plain": [
              "<keras.src.callbacks.History at 0x7dc72b393370>"
            ]
          },
          "metadata": {},
          "execution_count": 29
        }
      ],
      "source": [
        "model.fit(\n",
        "    x = dataset_train,\n",
        "    epochs = 1,\n",
        "    validation_data = dataset_val,\n",
        "\n",
        ")"
      ]
    },
    {
      "cell_type": "code",
      "source": [
        "model.save(\"First_model.keras\")"
      ],
      "metadata": {
        "id": "DCJOeIzK2Vb2"
      },
      "execution_count": null,
      "outputs": []
    },
    {
      "cell_type": "code",
      "source": [
        "dataset_train.as_numpy_iterator().next()[1].shape"
      ],
      "metadata": {
        "colab": {
          "base_uri": "https://localhost:8080/"
        },
        "id": "s3uegpl-UJZx",
        "outputId": "05028595-5374-4af9-e6e8-453fe8978fb6"
      },
      "execution_count": null,
      "outputs": [
        {
          "output_type": "execute_result",
          "data": {
            "text/plain": [
              "(32, 128, 256, 1)"
            ]
          },
          "metadata": {},
          "execution_count": 74
        }
      ]
    },
    {
      "cell_type": "code",
      "source": [
        "x,y = dataset_train.as_numpy_iterator().next()"
      ],
      "metadata": {
        "id": "ZpGx01KawRUD"
      },
      "execution_count": null,
      "outputs": []
    },
    {
      "cell_type": "code",
      "source": [
        "x.shape"
      ],
      "metadata": {
        "colab": {
          "base_uri": "https://localhost:8080/"
        },
        "id": "BrCRKZwqWj2P",
        "outputId": "e033cd41-f836-4dd2-e456-193612adbdb2"
      },
      "execution_count": null,
      "outputs": [
        {
          "output_type": "execute_result",
          "data": {
            "text/plain": [
              "(32, 128, 256, 3)"
            ]
          },
          "metadata": {},
          "execution_count": 61
        }
      ]
    },
    {
      "cell_type": "code",
      "source": [
        "keras.utils.array_to_img((x[0]*255).astype(np.int8))"
      ],
      "metadata": {
        "colab": {
          "base_uri": "https://localhost:8080/",
          "height": 145
        },
        "collapsed": true,
        "id": "hPCGD1_wwXol",
        "outputId": "9d33dc22-832b-44e3-8f36-045b1d9d0173"
      },
      "execution_count": null,
      "outputs": [
        {
          "output_type": "execute_result",
          "data": {
            "text/plain": [
              "<PIL.Image.Image image mode=RGB size=256x128>"
            ],
            "image/png": "[encoded data removed]"
          },
          "metadata": {},
          "execution_count": 76
        }
      ]
    },
    {
      "cell_type": "code",
      "source": [
        "keras.utils.array_to_img((y[2]).astype(np.int8))"
      ],
      "metadata": {
        "colab": {
          "base_uri": "https://localhost:8080/",
          "height": 145
        },
        "id": "SNhH_wbYUNFi",
        "outputId": "cf1392dc-39fd-43c2-92e1-6c1b618c7f18"
      },
      "execution_count": null,
      "outputs": [
        {
          "output_type": "execute_result",
          "data": {
            "text/plain": [
              "<PIL.Image.Image image mode=L size=256x128>"
            ],
            "image/png": "[encoded data removed]"
          },
          "metadata": {},
          "execution_count": 78
        }
      ]
    },
    {
      "cell_type": "code",
      "source": [
        "import numpy as np"
      ],
      "metadata": {
        "id": "VQB8psk_w1eR"
      },
      "execution_count": null,
      "outputs": []
    },
    {
      "cell_type": "code",
      "execution_count": null,
      "metadata": {
        "id": "f0ZNSZJEVDp4",
        "colab": {
          "base_uri": "https://localhost:8080/"
        },
        "outputId": "64813794-65e7-4b7a-ca00-7822262e492a"
      },
      "outputs": [
        {
          "output_type": "stream",
          "name": "stdout",
          "text": [
            "1/1 [==============================] - 0s 211ms/step\n"
          ]
        }
      ],
      "source": [
        "pred = model.predict(x)"
      ]
    },
    {
      "cell_type": "code",
      "source": [
        "keras.utils.array_to_img((pred[0]*255).astype(np.int8))"
      ],
      "metadata": {
        "colab": {
          "base_uri": "https://localhost:8080/",
          "height": 145
        },
        "id": "xxqX2RSKUwVw",
        "outputId": "2dbde38a-2065-4d75-e7be-a141c6d15061"
      },
      "execution_count": null,
      "outputs": [
        {
          "output_type": "execute_result",
          "data": {
            "text/plain": [
              "<PIL.Image.Image image mode=L size=256x128>"
            ],
            "image/png": "[encoded data removed]"
          },
          "metadata": {},
          "execution_count": 66
        }
      ]
    },
    {
      "cell_type": "code",
      "source": [
        "import cv2\n",
        "from google.colab.patches import cv2_imshow"
      ],
      "metadata": {
        "id": "GP5P2TpXw_zC"
      },
      "execution_count": null,
      "outputs": []
    },
    {
      "cell_type": "code",
      "source": [
        "cv2_imshow(y[0])"
      ],
      "metadata": {
        "colab": {
          "base_uri": "https://localhost:8080/",
          "height": 145
        },
        "id": "JxR_ZBCyxOso",
        "outputId": "c070be0a-6e27-4e6c-d9d0-d00fbde4c685"
      },
      "execution_count": null,
      "outputs": [
        {
          "output_type": "display_data",
          "data": {
            "text/plain": [
              "<PIL.Image.Image image mode=RGB size=256x128>"
            ],
            "image/png": "[encoded data removed]"
          },
          "metadata": {}
        }
      ]
    },
    {
      "cell_type": "code",
      "source": [
        "cv2_imshow(pred[0])"
      ],
      "metadata": {
        "colab": {
          "base_uri": "https://localhost:8080/",
          "height": 145
        },
        "id": "AXgGC4N0wmr-",
        "outputId": "de858d95-4271-492f-ce3f-e91f7b38ebe1"
      },
      "execution_count": null,
      "outputs": [
        {
          "output_type": "display_data",
          "data": {
            "text/plain": [
              "<PIL.Image.Image image mode=RGB size=256x128>"
            ],
            "image/png": "[encoded data removed]"
          },
          "metadata": {}
        }
      ]
    },
    {
      "cell_type": "code",
      "source": [
        "y[0]\n",
        "\\"
      ],
      "metadata": {
        "colab": {
          "base_uri": "https://localhost:8080/"
        },
        "id": "j47M63k63g70",
        "outputId": "4ef6ad9e-7701-4e56-d57d-945e809e0dde"
      },
      "execution_count": null,
      "outputs": [
        {
          "output_type": "execute_result",
          "data": {
            "text/plain": [
              "array([[[ 3.,  3.,  3.],\n",
              "        [ 3.,  3.,  3.],\n",
              "        [ 3.,  3.,  3.],\n",
              "        ...,\n",
              "        [ 3.,  3.,  3.],\n",
              "        [ 3.,  3.,  3.],\n",
              "        [ 3.,  3.,  3.]],\n",
              "\n",
              "       [[ 3.,  3.,  3.],\n",
              "        [23., 23., 23.],\n",
              "        [20., 20., 20.],\n",
              "        ...,\n",
              "        [21., 21., 21.],\n",
              "        [21., 21., 21.],\n",
              "        [ 3.,  3.,  3.]],\n",
              "\n",
              "       [[ 3.,  3.,  3.],\n",
              "        [23., 23., 23.],\n",
              "        [20., 20., 20.],\n",
              "        ...,\n",
              "        [21., 21., 21.],\n",
              "        [21., 21., 21.],\n",
              "        [ 3.,  3.,  3.]],\n",
              "\n",
              "       ...,\n",
              "\n",
              "       [[ 3.,  3.,  3.],\n",
              "        [ 7.,  7.,  7.],\n",
              "        [ 7.,  7.,  7.],\n",
              "        ...,\n",
              "        [ 7.,  7.,  7.],\n",
              "        [ 7.,  7.,  7.],\n",
              "        [ 3.,  3.,  3.]],\n",
              "\n",
              "       [[ 3.,  3.,  3.],\n",
              "        [ 7.,  7.,  7.],\n",
              "        [ 7.,  7.,  7.],\n",
              "        ...,\n",
              "        [ 7.,  7.,  7.],\n",
              "        [ 7.,  7.,  7.],\n",
              "        [ 3.,  3.,  3.]],\n",
              "\n",
              "       [[ 3.,  3.,  3.],\n",
              "        [ 3.,  3.,  3.],\n",
              "        [ 3.,  3.,  3.],\n",
              "        ...,\n",
              "        [ 3.,  3.,  3.],\n",
              "        [ 3.,  3.,  3.],\n",
              "        [ 3.,  3.,  3.]]], dtype=float32)"
            ]
          },
          "metadata": {},
          "execution_count": 92
        }
      ]
    },
    {
      "cell_type": "code",
      "source": [
        "pred.max()"
      ],
      "metadata": {
        "colab": {
          "base_uri": "https://localhost:8080/",
          "height": 141
        },
        "id": "aeqGTw_Iw8Ra",
        "outputId": "6771e828-c9a0-4902-9a68-0884a4a2d5a1"
      },
      "execution_count": null,
      "outputs": [
        {
          "output_type": "error",
          "ename": "NameError",
          "evalue": "name 'pred' is not defined",
          "traceback": [
            "\u001b[0;31m---------------------------------------------------------------------------\u001b[0m",
            "\u001b[0;31mNameError\u001b[0m                                 Traceback (most recent call last)",
            "\u001b[0;32m<ipython-input-1-49ff6158c635>\u001b[0m in \u001b[0;36m<cell line: 1>\u001b[0;34m()\u001b[0m\n\u001b[0;32m----> 1\u001b[0;31m \u001b[0mpred\u001b[0m\u001b[0;34m.\u001b[0m\u001b[0mmax\u001b[0m\u001b[0;34m(\u001b[0m\u001b[0;34m)\u001b[0m\u001b[0;34m\u001b[0m\u001b[0;34m\u001b[0m\u001b[0m\n\u001b[0m",
            "\u001b[0;31mNameError\u001b[0m: name 'pred' is not defined"
          ]
        }
      ]
    },
    {
      "cell_type": "code",
      "source": [],
      "metadata": {
        "id": "LIMd-kep3cyl"
      },
      "execution_count": null,
      "outputs": []
    }
  ],
  "metadata": {
    "colab": {
      "collapsed_sections": [
        "yi_ErWVkpUi2",
        "wyo0X_JmwWfS",
        "-f4xPpSbz6qw"
      ],
      "provenance": [],
      "gpuType": "T4",
      "toc_visible": true,
      "authorship_tag": "ABX9TyM9MBhWYZ797rOHm2QyMREp",
      "include_colab_link": true
    },
    "kernelspec": {
      "display_name": "Python 3",
      "name": "python3"
    },
    "language_info": {
      "name": "python"
    },
    "accelerator": "GPU"
  },
  "nbformat": 4,
  "nbformat_minor": 0
}