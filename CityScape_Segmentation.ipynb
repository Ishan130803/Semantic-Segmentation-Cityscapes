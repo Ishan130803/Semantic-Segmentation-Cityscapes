{
  "nbformat": 4,
  "nbformat_minor": 0,
  "metadata": {
    "colab": {
      "provenance": [],
      "collapsed_sections": [
        "yi_ErWVkpUi2",
        "wyo0X_JmwWfS",
        "2QUnLesgwZ1X",
        "JmuKluPLT7CH",
        "-f4xPpSbz6qw"
      ],
      "gpuType": "T4",
      "authorship_tag": "ABX9TyO0JkkTv4piuAGOEPgWLEDS",
      "include_colab_link": true
    },
    "kernelspec": {
      "name": "python3",
      "display_name": "Python 3"
    },
    "language_info": {
      "name": "python"
    },
    "accelerator": "GPU"
  },
  "cells": [
    {
      "cell_type": "markdown",
      "metadata": {
        "id": "view-in-github",
        "colab_type": "text"
      },
      "source": [
        "<a href=\"https://colab.research.google.com/github/Ishan130803/Semantic-Segmentation-Cityscapes/blob/main/CityScape_Segmentation.ipynb\" target=\"_parent\"><img src=\"https://colab.research.google.com/assets/colab-badge.svg\" alt=\"Open In Colab\"/></a>"
      ]
    },
    {
      "cell_type": "markdown",
      "source": [
        "# Console Simulator"
      ],
      "metadata": {
        "id": "yi_ErWVkpUi2"
      }
    },
    {
      "cell_type": "code",
      "source": [
        "sys.path"
      ],
      "metadata": {
        "colab": {
          "base_uri": "https://localhost:8080/"
        },
        "id": "PaxkX7wdp6-F",
        "outputId": "336e5340-3f14-4dbb-a6ab-f74bf8fce3fc"
      },
      "execution_count": null,
      "outputs": [
        {
          "output_type": "execute_result",
          "data": {
            "text/plain": [
              "['/content',\n",
              " '/env/python',\n",
              " '/usr/lib/python310.zip',\n",
              " '/usr/lib/python3.10',\n",
              " '/usr/lib/python3.10/lib-dynload',\n",
              " '',\n",
              " '/usr/local/lib/python3.10/dist-packages',\n",
              " '/usr/lib/python3/dist-packages',\n",
              " '/usr/local/lib/python3.10/dist-packages/IPython/extensions',\n",
              " '/root/.ipython',\n",
              " '/content/cityscapesScripts']"
            ]
          },
          "metadata": {},
          "execution_count": 6
        }
      ]
    },
    {
      "cell_type": "code",
      "source": [
        "import sys\n",
        "# sys.path.append('/content/cityscapesScripts')\n",
        "sys.path."
      ],
      "metadata": {
        "id": "XF_qijvjpyto"
      },
      "execution_count": null,
      "outputs": []
    },
    {
      "cell_type": "code",
      "source": [],
      "metadata": {
        "id": "Q101JSoKqeIG"
      },
      "execution_count": null,
      "outputs": []
    },
    {
      "cell_type": "code",
      "source": [
        "! git clone https://github.com/mcordts/cityscapesScripts"
      ],
      "metadata": {
        "colab": {
          "base_uri": "https://localhost:8080/"
        },
        "id": "maWXmsT5pq-d",
        "outputId": "de979d5d-26ea-411f-cdc2-ec59d8d52029"
      },
      "execution_count": null,
      "outputs": [
        {
          "output_type": "stream",
          "name": "stdout",
          "text": [
            "Cloning into 'cityscapesScripts'...\n",
            "remote: Enumerating objects: 648, done.\u001b[K\n",
            "remote: Counting objects: 100% (221/221), done.\u001b[K\n",
            "remote: Compressing objects: 100% (64/64), done.\u001b[K\n",
            "remote: Total 648 (delta 184), reused 165 (delta 155), pack-reused 427\u001b[K\n",
            "Receiving objects: 100% (648/648), 796.28 KiB | 3.46 MiB/s, done.\n",
            "Resolving deltas: 100% (370/370), done.\n"
          ]
        }
      ]
    },
    {
      "cell_type": "code",
      "source": [
        "import os\n",
        "os."
      ],
      "metadata": {
        "id": "CJRKifybrL2f"
      },
      "execution_count": null,
      "outputs": []
    },
    {
      "cell_type": "code",
      "source": [
        "!cd cityscapesScripts\n",
        "!cd sample_data\n",
        "!ls\n",
        "# !python setup.py"
      ],
      "metadata": {
        "colab": {
          "base_uri": "https://localhost:8080/"
        },
        "id": "TPsbw22NpXbk",
        "outputId": "69158a21-d2ef-4ad0-9bbd-73a34e4d233e"
      },
      "execution_count": null,
      "outputs": [
        {
          "output_type": "stream",
          "name": "stdout",
          "text": [
            "cityscapesScripts  sample_data\n"
          ]
        }
      ]
    },
    {
      "cell_type": "markdown",
      "source": [
        "# Prerequisite Installation"
      ],
      "metadata": {
        "id": "wyo0X_JmwWfS"
      }
    },
    {
      "cell_type": "code",
      "source": [
        "! pip install remotezip"
      ],
      "metadata": {
        "colab": {
          "base_uri": "https://localhost:8080/"
        },
        "id": "qQWERSC_wWTb",
        "outputId": "9c79a351-5109-4165-a4e9-11a6f440a4af"
      },
      "execution_count": null,
      "outputs": [
        {
          "output_type": "stream",
          "name": "stderr",
          "text": [
            "Exception in thread Thread-5 (attachment_entry):\n",
            "Traceback (most recent call last):\n",
            "  File \"/usr/local/lib/python3.10/dist-packages/debugpy/server/api.py\", line 237, in listen\n",
            "    sock, _ = endpoints_listener.accept()\n",
            "  File \"/usr/lib/python3.10/socket.py\", line 293, in accept\n",
            "    fd, addr = self._accept()\n",
            "TimeoutError: timed out\n",
            "\n",
            "During handling of the above exception, another exception occurred:\n",
            "\n",
            "Traceback (most recent call last):\n",
            "  File \"/usr/lib/python3.10/threading.py\", line 1016, in _bootstrap_inner\n",
            "    self.run()\n",
            "  File \"/usr/lib/python3.10/threading.py\", line 953, in run\n",
            "    self._target(*self._args, **self._kwargs)\n",
            "  File \"/usr/local/lib/python3.10/dist-packages/google/colab/_debugpy.py\", line 52, in attachment_entry\n",
            "    debugpy.listen(_dap_port)\n",
            "  File \"/usr/local/lib/python3.10/dist-packages/debugpy/public_api.py\", line 31, in wrapper\n",
            "    return wrapped(*args, **kwargs)\n",
            "  File \"/usr/local/lib/python3.10/dist-packages/debugpy/server/api.py\", line 143, in debug\n",
            "    log.reraise_exception(\"{0}() failed:\", func.__name__, level=\"info\")\n",
            "  File \"/usr/local/lib/python3.10/dist-packages/debugpy/server/api.py\", line 141, in debug\n",
            "    return func(address, settrace_kwargs, **kwargs)\n",
            "  File \"/usr/local/lib/python3.10/dist-packages/debugpy/server/api.py\", line 251, in listen\n",
            "    raise RuntimeError(\"timed out waiting for adapter to connect\")\n",
            "RuntimeError: timed out waiting for adapter to connect\n"
          ]
        },
        {
          "output_type": "stream",
          "name": "stdout",
          "text": [
            "Requirement already satisfied: remotezip in /usr/local/lib/python3.10/dist-packages (0.12.3)\n",
            "Requirement already satisfied: requests in /usr/local/lib/python3.10/dist-packages (from remotezip) (2.31.0)\n",
            "Requirement already satisfied: charset-normalizer<4,>=2 in /usr/local/lib/python3.10/dist-packages (from requests->remotezip) (3.3.2)\n",
            "Requirement already satisfied: idna<4,>=2.5 in /usr/local/lib/python3.10/dist-packages (from requests->remotezip) (3.7)\n",
            "Requirement already satisfied: urllib3<3,>=1.21.1 in /usr/local/lib/python3.10/dist-packages (from requests->remotezip) (2.0.7)\n",
            "Requirement already satisfied: certifi>=2017.4.17 in /usr/local/lib/python3.10/dist-packages (from requests->remotezip) (2024.2.2)\n"
          ]
        }
      ]
    },
    {
      "cell_type": "code",
      "source": [
        "! python -m pip install cityscapesscripts cityscapesscripts[gui]"
      ],
      "metadata": {
        "colab": {
          "base_uri": "https://localhost:8080/"
        },
        "id": "0dKFhtn4znZT",
        "outputId": "247a8886-2313-49ca-f8dc-1529682b450e"
      },
      "execution_count": null,
      "outputs": [
        {
          "output_type": "stream",
          "name": "stdout",
          "text": [
            "Requirement already satisfied: cityscapesscripts in /usr/local/lib/python3.10/dist-packages (2.2.3)\n",
            "Requirement already satisfied: numpy in /usr/local/lib/python3.10/dist-packages (from cityscapesscripts) (1.25.2)\n",
            "Requirement already satisfied: matplotlib in /usr/local/lib/python3.10/dist-packages (from cityscapesscripts) (3.7.1)\n",
            "Requirement already satisfied: pillow in /usr/local/lib/python3.10/dist-packages (from cityscapesscripts) (9.4.0)\n",
            "Requirement already satisfied: appdirs in /usr/local/lib/python3.10/dist-packages (from cityscapesscripts) (1.4.4)\n",
            "Requirement already satisfied: pyquaternion in /usr/local/lib/python3.10/dist-packages (from cityscapesscripts) (0.9.9)\n",
            "Requirement already satisfied: coloredlogs in /usr/local/lib/python3.10/dist-packages (from cityscapesscripts) (15.0.1)\n",
            "Requirement already satisfied: tqdm in /usr/local/lib/python3.10/dist-packages (from cityscapesscripts) (4.66.4)\n",
            "Requirement already satisfied: typing in /usr/local/lib/python3.10/dist-packages (from cityscapesscripts) (3.7.4.3)\n",
            "Requirement already satisfied: requests in /usr/local/lib/python3.10/dist-packages (from cityscapesscripts) (2.31.0)\n",
            "Requirement already satisfied: PyQt5 in /usr/local/lib/python3.10/dist-packages (from cityscapesscripts) (5.15.10)\n",
            "Requirement already satisfied: humanfriendly>=9.1 in /usr/local/lib/python3.10/dist-packages (from coloredlogs->cityscapesscripts) (10.0)\n",
            "Requirement already satisfied: contourpy>=1.0.1 in /usr/local/lib/python3.10/dist-packages (from matplotlib->cityscapesscripts) (1.2.1)\n",
            "Requirement already satisfied: cycler>=0.10 in /usr/local/lib/python3.10/dist-packages (from matplotlib->cityscapesscripts) (0.12.1)\n",
            "Requirement already satisfied: fonttools>=4.22.0 in /usr/local/lib/python3.10/dist-packages (from matplotlib->cityscapesscripts) (4.51.0)\n",
            "Requirement already satisfied: kiwisolver>=1.0.1 in /usr/local/lib/python3.10/dist-packages (from matplotlib->cityscapesscripts) (1.4.5)\n",
            "Requirement already satisfied: packaging>=20.0 in /usr/local/lib/python3.10/dist-packages (from matplotlib->cityscapesscripts) (24.0)\n",
            "Requirement already satisfied: pyparsing>=2.3.1 in /usr/local/lib/python3.10/dist-packages (from matplotlib->cityscapesscripts) (3.1.2)\n",
            "Requirement already satisfied: python-dateutil>=2.7 in /usr/local/lib/python3.10/dist-packages (from matplotlib->cityscapesscripts) (2.8.2)\n",
            "Requirement already satisfied: PyQt5-sip<13,>=12.13 in /usr/local/lib/python3.10/dist-packages (from PyQt5->cityscapesscripts) (12.13.0)\n",
            "Requirement already satisfied: PyQt5-Qt5>=5.15.2 in /usr/local/lib/python3.10/dist-packages (from PyQt5->cityscapesscripts) (5.15.2)\n",
            "Requirement already satisfied: charset-normalizer<4,>=2 in /usr/local/lib/python3.10/dist-packages (from requests->cityscapesscripts) (3.3.2)\n",
            "Requirement already satisfied: idna<4,>=2.5 in /usr/local/lib/python3.10/dist-packages (from requests->cityscapesscripts) (3.7)\n",
            "Requirement already satisfied: urllib3<3,>=1.21.1 in /usr/local/lib/python3.10/dist-packages (from requests->cityscapesscripts) (2.0.7)\n",
            "Requirement already satisfied: certifi>=2017.4.17 in /usr/local/lib/python3.10/dist-packages (from requests->cityscapesscripts) (2024.2.2)\n",
            "Requirement already satisfied: six>=1.5 in /usr/local/lib/python3.10/dist-packages (from python-dateutil>=2.7->matplotlib->cityscapesscripts) (1.16.0)\n"
          ]
        }
      ]
    },
    {
      "cell_type": "markdown",
      "source": [
        "# Imports"
      ],
      "metadata": {
        "id": "2QUnLesgwZ1X"
      }
    },
    {
      "cell_type": "code",
      "execution_count": null,
      "metadata": {
        "id": "9yf11lJK_Hol"
      },
      "outputs": [],
      "source": [
        "import tensorflow as tf\n",
        "from tensorflow import keras\n",
        "from keras import layers"
      ]
    },
    {
      "cell_type": "markdown",
      "source": [
        "# Dataset"
      ],
      "metadata": {
        "id": "-ogYanTawrLl"
      }
    },
    {
      "cell_type": "markdown",
      "source": [
        "## Initializing Session Object"
      ],
      "metadata": {
        "id": "qDtlbIsvba0h"
      }
    },
    {
      "cell_type": "code",
      "source": [
        "import cityscapesscripts"
      ],
      "metadata": {
        "id": "PwJT80VRz5JV"
      },
      "execution_count": null,
      "outputs": []
    },
    {
      "cell_type": "code",
      "source": [
        "from cityscapesscripts.download import downloader"
      ],
      "metadata": {
        "id": "9hANwQLD0Cvv"
      },
      "execution_count": null,
      "outputs": []
    },
    {
      "cell_type": "code",
      "source": [
        "session = downloader.login()"
      ],
      "metadata": {
        "id": "fSX_C_Qm1g4A"
      },
      "execution_count": null,
      "outputs": []
    },
    {
      "cell_type": "markdown",
      "source": [
        "## RemoteZip Approach"
      ],
      "metadata": {
        "id": "JmuKluPLT7CH"
      }
    },
    {
      "cell_type": "code",
      "source": [
        "import requests\n",
        "import zipfile\n",
        "import io\n",
        "from remotezip import RemoteZip\n",
        "import threading, multiprocessing\n",
        "import concurrent.futures\n",
        "import time\n",
        "\n",
        "class DataExplorer:\n",
        "    def __init__(\n",
        "            self,\n",
        "            name : str = \"\",\n",
        "            url : str = \"\",\n",
        "            session : requests.sessions.Session | None = None,\n",
        "    ):\n",
        "        self.name = name\n",
        "        self.url = url\n",
        "        self.session = session\n",
        "        self.files_list = []\n",
        "        self.cache_list = []\n",
        "\n",
        "    def _check_files_list(self):\n",
        "        if not self.files_list:\n",
        "            self.files_list = self.get_file_contents()\n",
        "\n",
        "    def get_filtered_list(self,filter,start = None,end = None,**kwargs):\n",
        "        self._check_files_list()\n",
        "        return [f for f in self.files_list if filter(f)][start:end]\n",
        "\n",
        "    def download_with_filter(\n",
        "            self,\n",
        "            filter,\n",
        "            destination_path : str = \"\",\n",
        "            **kwargs\n",
        "\n",
        "    ):\n",
        "        self._check_files_list()\n",
        "        self.cache_list = self.get_filtered_list(filter,**kwargs)\n",
        "        self.download_listed_files(self.cache_list,destination_path=destination_path)\n",
        "\n",
        "    def download_with_filter_parallel(\n",
        "            self,\n",
        "            filter,\n",
        "            destination_path : str = \"\",\n",
        "            **kwargs\n",
        "\n",
        "    ):\n",
        "        self._check_files_list()\n",
        "        self.cache_list = self.get_filtered_list(filter,**kwargs)\n",
        "        return self.download_in_parallel(self.cache_list,destination_path=destination_path,**kwargs)\n",
        "\n",
        "\n",
        "    def get_file_contents(self):\n",
        "        \"\"\"\n",
        "        returns list of file contents\n",
        "        url : url of the zip file\n",
        "        \"\"\"\n",
        "        with RemoteZip(self.url, session = self.session) as z:\n",
        "            zip_contents = z.namelist()\n",
        "            return sorted(zip_contents);\n",
        "\n",
        "    def download_listed_files(\n",
        "        self,file_list : list[str] | str,\n",
        "        destination_path : str = \"\",\n",
        "    ):\n",
        "        \"\"\"\n",
        "        file_list : list of files to be extracted\n",
        "        \"\"\"\n",
        "\n",
        "        with RemoteZip(self.url,session = self.session) as z:\n",
        "            for file in file_list:\n",
        "                try:\n",
        "                    z.extract(file,destination_path)\n",
        "                    print(f\"Task {file} downloaded succesfully\")\n",
        "                except Exception as e:\n",
        "                    print(f\"Task {file} generated an exception: {e}\")\n",
        "\n",
        "    def download_in_parallel(\n",
        "            self,file_list : list[str] | str,\n",
        "            destination_path : str = \"\",\n",
        "            rate = 200,\n",
        "            **kwargs\n",
        "    ):\n",
        "        \"\"\"\n",
        "        file_list : list of files to be extracted\n",
        "        url : url of the zip file\n",
        "        \"\"\"\n",
        "        count = 0\n",
        "        semaphore = multiprocessing.Semaphore(rate)\n",
        "        lock = multiprocessing.Lock()\n",
        "        logs = multiprocessing.Array('i', [0,0,0])\n",
        "        def _extract(z,file_name,destination_path,logs, *args):\n",
        "            retries = 3\n",
        "            while retries:\n",
        "                with semaphore:\n",
        "                    try:\n",
        "                        z.extract(file_name,destination_path,*args)\n",
        "                        with logs.get_lock():\n",
        "                            logs[0] += 1\n",
        "                            # print(f\"Task {file_name} downloaded succesfully\")\n",
        "                        return\n",
        "                    except Exception as e:\n",
        "                        with logs.get_lock():\n",
        "                            # print(f\"Task {file_name} generated an exception: {e}\")\n",
        "                            # print(f\"Retrying... {retries} retry remaining\")\n",
        "                            logs[2] += 1\n",
        "                        time.sleep(0.01)\n",
        "                    retries -= 1\n",
        "            with logs.get_lock():\n",
        "                logs[2] += 1\n",
        "\n",
        "        with RemoteZip(self.url,session = self.session) as z:\n",
        "            processes = []\n",
        "\n",
        "            for file in file_list:\n",
        "                process = multiprocessing.Process(target=_extract, args=(z,file,destination_path,logs))\n",
        "                processes.append(process)\n",
        "                process.start()\n",
        "                # time.sleep(0.01)\n",
        "\n",
        "\n",
        "            for thread in processes:\n",
        "                thread.join()\n",
        "\n",
        "            stats = {\n",
        "                \"Success\" : logs[0],\n",
        "                \"Fails\" : logs[1],\n",
        "                \"retries\" : logs[2]\n",
        "            }\n",
        "            return stats\n"
      ],
      "metadata": {
        "id": "GO67Bxaawq8b"
      },
      "execution_count": null,
      "outputs": []
    },
    {
      "cell_type": "markdown",
      "source": [
        "### Initialization of downloader objects"
      ],
      "metadata": {
        "id": "zLyT5gOvbAum"
      }
    },
    {
      "cell_type": "code",
      "source": [
        "class dobj:\n",
        "    gtfine_data = DataExplorer(\n",
        "        url = \"https://www.cityscapes-dataset.com/file-handling/?packageID=1\",\n",
        "        session=session,\n",
        "        name=\"gtfine\"\n",
        "    )\n",
        "    leftimg = DataExplorer(\n",
        "        url = \"https://www.cityscapes-dataset.com/file-handling/?packageID=3\",\n",
        "        session=session,\n",
        "        name=\"leftimg\"\n",
        "    )\n",
        "    rightimg = DataExplorer(\n",
        "        url = \"https://www.cityscapes-dataset.com/file-handling/?packageID=5\",\n",
        "        session=session,\n",
        "        name=\"rightimg\"\n",
        "    )"
      ],
      "metadata": {
        "id": "dw__6GylyZCq"
      },
      "execution_count": null,
      "outputs": []
    },
    {
      "cell_type": "markdown",
      "source": [
        "### Downloading"
      ],
      "metadata": {
        "id": "6PWPg6m0b6Xj"
      }
    },
    {
      "cell_type": "code",
      "source": [
        "dobj.gtfine_data.download_with_filter_parallel(\n",
        "    filter = lambda x : x,\n",
        "    destination_path = \"\",\n",
        "    rate = 9999,\n",
        ")"
      ],
      "metadata": {
        "colab": {
          "base_uri": "https://localhost:8080/"
        },
        "id": "pnOARhgTb-Ue",
        "outputId": "7ea7a0bb-8f58-47c5-ef9f-dbb288e84e8d"
      },
      "execution_count": null,
      "outputs": [
        {
          "output_type": "stream",
          "name": "stderr",
          "text": [
            "/usr/lib/python3.10/multiprocessing/popen_fork.py:66: RuntimeWarning: os.fork() was called. os.fork() is incompatible with multithreaded code, and JAX is multithreaded, so this will likely lead to a deadlock.\n",
            "  self.pid = os.fork()\n",
            "Process Process-5475:\n",
            "Process Process-5466:\n",
            "Process Process-5467:\n"
          ]
        }
      ]
    },
    {
      "cell_type": "code",
      "source": [
        "dobj.leftimg.get_file_contents()"
      ],
      "metadata": {
        "id": "WOYFwdaYl9N1"
      },
      "execution_count": null,
      "outputs": []
    },
    {
      "cell_type": "markdown",
      "source": [
        "## Direct Download"
      ],
      "metadata": {
        "id": "R8UnCntlT_oQ"
      }
    },
    {
      "cell_type": "code",
      "source": [
        "from cityscapesscripts.download import downloader"
      ],
      "metadata": {
        "id": "HIoLmStZlKGn"
      },
      "execution_count": null,
      "outputs": []
    },
    {
      "cell_type": "code",
      "source": [
        "# view datasets\n",
        "downloader.list_available_packages(session = session)"
      ],
      "metadata": {
        "id": "5Te534vNUL5J",
        "colab": {
          "base_uri": "https://localhost:8080/"
        },
        "outputId": "bf07616b-5e0f-4cce-cadd-b8b496bf076d"
      },
      "execution_count": null,
      "outputs": [
        {
          "output_type": "stream",
          "name": "stdout",
          "text": [
            "The following packages are available for download.\n",
            "Please refer to https://www.cityscapes-dataset.com/downloads/ for additional packages and instructions on properly citing third party packages.\n",
            " gtFine_trainvaltest.zip -> 241MB\n",
            " gtCoarse.zip -> 1.3GB\n",
            " leftImg8bit_trainvaltest.zip -> 11GB\n",
            " leftImg8bit_trainextra.zip -> 44GB\n",
            " rightImg8bit_trainvaltest.zip -> 11GB\n",
            " rightImg8bit_trainextra.zip -> 44GB\n",
            " disparity_trainvaltest.zip -> 3.5GB\n",
            " disparity_trainextra.zip -> 15GB\n",
            " camera_trainvaltest.zip -> 2MB\n",
            " camera_trainextra.zip -> 8MB\n",
            " vehicle_trainvaltest.zip -> 2MB\n",
            " vehicle_trainextra.zip -> 7MB\n",
            " leftImg8bit_demoVideo.zip -> 6.6GB\n",
            " all_demoVideo.zip -> 59GB\n",
            " leftImg8bit_blurred.zip -> 11GB\n",
            " leftImg8bit_sequence_trainvaltest.zip -> 324GB\n",
            " timestamp_sequence.zip -> 40MB\n",
            " vehicle_sequence.zip -> 56MB\n",
            " rightImg8bit_sequence_trainvaltest.zip -> 322GB\n",
            " disparity_sequence_trainvaltest.zip -> 106GB\n",
            " leftImg8bit_allFrames_frankfurt.zip -> 241GB\n",
            " timestamp_allFrames_frankfurt.zip -> 29MB\n",
            " vehicle_allFrames_frankfurt.zip -> 38MB\n",
            " leftImg16bit_trainvaltest.zip -> 37GB\n",
            " rightImg8bit_allFrames_frankfurt.zip -> 242GB\n",
            " leftImg16bit_trainextra.zip -> 149GB\n",
            " rightImg16bit_trainvaltest.zip -> 37GB\n",
            " rightImg16bit_trainextra.zip -> 149GB\n",
            " gtBbox3d_trainvaltest.zip -> 6.6MB (third party)\n",
            " gtBbox_cityPersons_trainval.zip -> 2.2MB (third party)\n",
            " gtFinePanopticParts_trainval.zip -> 474MB (third party)\n",
            " leftImg8bit_trainval_foggyDBF.zip -> 20GB (third party)\n",
            " leftImg8bit_trainvaltest_foggy.zip -> 30GB (third party)\n",
            " leftImg8bit_trainextra_foggy.zip -> 40GB (third party)\n",
            " leftImg8bit_trainval_rain.zip -> 21GB (third party)\n"
          ]
        }
      ]
    },
    {
      "cell_type": "code",
      "source": [
        "# Saving name of datasets in variables\n",
        "images_dataset = 'leftImg8bit_trainvaltest.zip'\n",
        "segmentation_dataset = 'gtFine_trainvaltest.zip'"
      ],
      "metadata": {
        "id": "Krcga9c5Ueyx"
      },
      "execution_count": null,
      "outputs": []
    },
    {
      "cell_type": "code",
      "source": [
        "downloader.download_packages(\n",
        "    session = session,\n",
        "    package_names=[\n",
        "        images_dataset,\n",
        "        # segmentation_dataset,\n",
        "    ],\n",
        "    destination_path = '/content/',\n",
        "    resume = True,\n",
        ")"
      ],
      "metadata": {
        "colab": {
          "base_uri": "https://localhost:8080/"
        },
        "id": "8rWkVqhSUrlt",
        "outputId": "5266d74f-6f9e-48b5-c7bb-ad9be8a7b9af"
      },
      "execution_count": null,
      "outputs": [
        {
          "output_type": "stream",
          "name": "stdout",
          "text": [
            "Downloading cityscapes package 'leftImg8bit_trainvaltest.zip' to '/content/leftImg8bit_trainvaltest.zip'\n"
          ]
        },
        {
          "output_type": "stream",
          "name": "stderr",
          "text": [
            "Download progress:  98%|█████████▊| 10.8G/11.0G [14:05<00:15, 13.7MB/s]\n"
          ]
        }
      ]
    },
    {
      "cell_type": "code",
      "source": [],
      "metadata": {
        "id": "ErfkBWL8XUV1"
      },
      "execution_count": null,
      "outputs": []
    },
    {
      "cell_type": "markdown",
      "source": [
        "## Extraction"
      ],
      "metadata": {
        "id": "Jndzp5r2vI9S"
      }
    },
    {
      "cell_type": "code",
      "source": [
        "import zipfile\n",
        "import multiprocessing\n",
        "\n",
        "class Extracter:\n",
        "    def __init__(\n",
        "            self,\n",
        "            path : str = \"\"\n",
        "    ):\n",
        "        self.path = path\n",
        "        self.files_list = None\n",
        "\n",
        "    def _check_files_list(self):\n",
        "        if not self.files_list :\n",
        "            self.files_list = self.get_files_list()\n",
        "\n",
        "    def extract_with_filter(\n",
        "            self,\n",
        "            filter,\n",
        "            destination_path : str = \"\"\n",
        "    ):\n",
        "        self._check_files_list()\n",
        "        temp = [f for f in self.files_list if filter(f)]\n",
        "        return self.extract_listed_files(\n",
        "            temp,destination_path\n",
        "        )\n",
        "\n",
        "    def extract_listed_files(self, files_to_extract, destination_path = \"\"):\n",
        "        self._check_files_list()\n",
        "        lock = multiprocessing.Lock()\n",
        "        arr = multiprocessing.Array('i',[0,0,0])\n",
        "        def _extract(z,file_name,destination_path,arr, *args):\n",
        "            retries = 3\n",
        "            while retries:\n",
        "                try:\n",
        "                    z.extract(file_name,destination_path,*args)\n",
        "                    with arr.get_lock():\n",
        "                        arr[0]+=1\n",
        "                        # print(f\"Task {file_name} extracted succesfully\")\n",
        "                    return\n",
        "                except Exception as e:\n",
        "                    retries -= 1\n",
        "                    with arr.get_lock():\n",
        "                        # print(f\"Task {file_name} generated an exception: {e}\")\n",
        "                        arr[1] += 1\n",
        "            with arr.get_lock():\n",
        "                arr[2] += 1\n",
        "        processes = []\n",
        "        with zipfile.ZipFile(self.path, 'r') as zip_ref:\n",
        "            # List all files in the zip\n",
        "            all_files = zip_ref.namelist()\n",
        "\n",
        "            for file in files_to_extract:\n",
        "                pr = multiprocessing.Process(target = _extract, args = [zip_ref,file,destination_path,arr])\n",
        "                processes.append(pr)\n",
        "                pr.start()\n",
        "\n",
        "            for pr in processes:\n",
        "                pr.join()\n",
        "        return {\n",
        "            \"success\" : arr[0],\n",
        "            \"retries\" : arr[1],\n",
        "            \"fail\" : arr[2]\n",
        "        }\n",
        "\n",
        "    def extract_all(self):\n",
        "        with zipfile.ZipFile(self.path,'r') as z:\n",
        "            z.extractall()\n",
        "\n",
        "    def get_files_list(self):\n",
        "        with zipfile.ZipFile(self.path,'r') as z:\n",
        "            return sorted(z.namelist())"
      ],
      "metadata": {
        "id": "2f39OLXzVRHo"
      },
      "execution_count": null,
      "outputs": []
    },
    {
      "cell_type": "code",
      "source": [
        "class exObj:\n",
        "    segments = Extracter('/content/gtFine_trainvaltest.zip')\n",
        "    images = Extracter('/content/leftImg8bit_trainvaltest.zip')"
      ],
      "metadata": {
        "id": "Funai04OXeVd"
      },
      "execution_count": null,
      "outputs": []
    },
    {
      "cell_type": "code",
      "source": [
        "# exObj.segments.extract_with_filter(\n",
        "#     filter = lambda x : x,\n",
        "# )"
      ],
      "metadata": {
        "colab": {
          "base_uri": "https://localhost:8080/"
        },
        "id": "QCAoGUISruO3",
        "outputId": "a4d74a67-f76c-4be9-d6e3-cfd39bad272f"
      },
      "execution_count": null,
      "outputs": [
        {
          "output_type": "stream",
          "name": "stderr",
          "text": [
            "/usr/lib/python3.10/multiprocessing/popen_fork.py:66: RuntimeWarning: os.fork() was called. os.fork() is incompatible with multithreaded code, and JAX is multithreaded, so this will likely lead to a deadlock.\n",
            "  self.pid = os.fork()\n"
          ]
        }
      ]
    },
    {
      "cell_type": "code",
      "source": [
        "# exObj.images.extract_all()\n",
        "# exObj.segments.extract_all()"
      ],
      "metadata": {
        "id": "diGGz2Zjs7S7"
      },
      "execution_count": null,
      "outputs": []
    },
    {
      "cell_type": "markdown",
      "source": [
        "i"
      ],
      "metadata": {
        "id": "pfKzYj9HtHHs"
      }
    },
    {
      "cell_type": "code",
      "source": [
        "import cv2\n",
        "arr = cv2.imread('/content/gtFine/test/bielefeld/bielefeld_000000_000321_gtFine_color.png')"
      ],
      "metadata": {
        "id": "2pIB4tqNcTQw"
      },
      "execution_count": null,
      "outputs": []
    },
    {
      "cell_type": "code",
      "source": [
        "arr.max()"
      ],
      "metadata": {
        "colab": {
          "base_uri": "https://localhost:8080/"
        },
        "id": "fAjmp0yxvWIF",
        "outputId": "ded5ee8c-bc3a-4ad4-e8df-5df65ab0f93e"
      },
      "execution_count": null,
      "outputs": [
        {
          "output_type": "execute_result",
          "data": {
            "text/plain": [
              "0"
            ]
          },
          "metadata": {},
          "execution_count": 121
        }
      ]
    },
    {
      "cell_type": "code",
      "source": [
        "arr.min()"
      ],
      "metadata": {
        "colab": {
          "base_uri": "https://localhost:8080/"
        },
        "id": "QkJJlAIFvV_v",
        "outputId": "bfe946a4-dd9d-46dd-a80e-cabf4da31b72"
      },
      "execution_count": null,
      "outputs": [
        {
          "output_type": "execute_result",
          "data": {
            "text/plain": [
              "0"
            ]
          },
          "metadata": {},
          "execution_count": 122
        }
      ]
    },
    {
      "cell_type": "code",
      "source": [
        "arr.max()"
      ],
      "metadata": {
        "colab": {
          "base_uri": "https://localhost:8080/"
        },
        "id": "Zx8uVICscZbu",
        "outputId": "b1272cd4-4e11-4ad6-c287-184b9240a159"
      },
      "execution_count": null,
      "outputs": [
        {
          "output_type": "execute_result",
          "data": {
            "text/plain": [
              "0"
            ]
          },
          "metadata": {},
          "execution_count": 78
        }
      ]
    },
    {
      "cell_type": "markdown",
      "source": [
        "# Data Exploration"
      ],
      "metadata": {
        "id": "-f4xPpSbz6qw"
      }
    },
    {
      "cell_type": "code",
      "source": [
        "import matplotlib.pyplot as plt\n",
        "import matplotlib.image as mpimg\n",
        "import threading\n",
        "\n",
        "def display_images_in_grid(image_paths, grid_size):\n",
        "    \"\"\"\n",
        "    Display images in a grid.\n",
        "\n",
        "    Parameters:\n",
        "    image_paths (list): List of image file paths.\n",
        "    grid_size (tuple): Number of rows and columns in the grid.\n",
        "    \"\"\"\n",
        "    fig, axes = plt.subplots(grid_size[0], grid_size[1], figsize=(15, 10))\n",
        "    axes = axes.flatten()\n",
        "    lock = threading.Lock()\n",
        "    img_arr = [None] * len(image_paths)\n",
        "    def get_arr(i):\n",
        "        img = mpimg.imread(image_paths[i])\n",
        "        # with lock:\n",
        "        img_arr[i] = img\n",
        "\n",
        "    threads = []\n",
        "    for i, img_path in enumerate(image_paths):\n",
        "        th = threading.Thread(target = get_arr, args = [i])\n",
        "        threads.append(th)\n",
        "        th.start()\n",
        "    for th in threads:\n",
        "        th.join()\n",
        "\n",
        "    # print(image_paths)\n",
        "\n",
        "    for ax,arr in zip(axes,img_arr):\n",
        "        ax.imshow(arr)\n",
        "        ax.axis('off')\n",
        "    # Hide remaining axes if there are fewer images than grid cells\n",
        "    for ax in axes[len(image_paths):]:\n",
        "        ax.axis('off')\n",
        "\n",
        "    plt.tight_layout()\n",
        "    plt.show()"
      ],
      "metadata": {
        "collapsed": true,
        "id": "r_XhVXmxdHF0"
      },
      "execution_count": null,
      "outputs": []
    },
    {
      "cell_type": "code",
      "source": [
        "_ = cv2.imread('gtFine/test/berlin/berlin_000000_000019_gtFine_color.png')\n",
        "cv2_imshow(_)"
      ],
      "metadata": {
        "id": "OmEUkkycr8Ap"
      },
      "execution_count": null,
      "outputs": []
    },
    {
      "cell_type": "code",
      "source": [
        "path_lists.image_file_names[10:13]"
      ],
      "metadata": {
        "colab": {
          "base_uri": "https://localhost:8080/"
        },
        "id": "rUz9FC59r7xc",
        "outputId": "53be1b09-ef6c-407b-a621-86a4a4d46ebe"
      },
      "execution_count": null,
      "outputs": [
        {
          "output_type": "execute_result",
          "data": {
            "text/plain": [
              "['rightImg8bit/test/berlin/berlin_000006_000019_rightImg8bit.png',\n",
              " 'rightImg8bit/test/berlin/berlin_000007_000019_rightImg8bit.png',\n",
              " 'rightImg8bit/test/berlin/berlin_000008_000019_rightImg8bit.png']"
            ]
          },
          "metadata": {},
          "execution_count": 110
        }
      ]
    },
    {
      "cell_type": "code",
      "source": [
        "_ = leftimg.get_filtered_list(\n",
        "    lambda x : x.startswith('leftImg8bit/train/') and x.endswith('.png'),\n",
        "    start = 5, end = 10\n",
        "    )"
      ],
      "metadata": {
        "id": "eNf_zeDfCCQ5"
      },
      "execution_count": null,
      "outputs": []
    },
    {
      "cell_type": "code",
      "source": [
        "_ = leftimg.download_with_filter(\n",
        "    lambda x : x.startswith('leftImg8bit/train/') and x.endswith('.png'),\n",
        "    start = 5, end = 10\n",
        "    )"
      ],
      "metadata": {
        "colab": {
          "base_uri": "https://localhost:8080/"
        },
        "id": "RHzXWEmIBiJY",
        "outputId": "24a2e6f1-e73f-40d4-cc9a-d3445a851fd2"
      },
      "execution_count": null,
      "outputs": [
        {
          "output_type": "stream",
          "name": "stdout",
          "text": [
            "Task leftImg8bit/train/aachen/aachen_000005_000019_leftImg8bit.png downloaded succesfully\n",
            "Task leftImg8bit/train/aachen/aachen_000006_000019_leftImg8bit.png downloaded succesfully\n",
            "Task leftImg8bit/train/aachen/aachen_000007_000019_leftImg8bit.png downloaded succesfully\n",
            "Task leftImg8bit/train/aachen/aachen_000008_000019_leftImg8bit.png downloaded succesfully\n",
            "Task leftImg8bit/train/aachen/aachen_000009_000019_leftImg8bit.png downloaded succesfully\n"
          ]
        }
      ]
    },
    {
      "cell_type": "code",
      "source": [
        "display_images_in_grid(\n",
        "    leftimg.get_filtered_list(\n",
        "    lambda x : x.startswith('rightImg8bit/train/') and x.endswith('.png'),\n",
        "    start = 5, end = 10\n",
        "    ),\n",
        "    [3,2]\n",
        ")"
      ],
      "metadata": {
        "id": "2gUSzMdnkfYN",
        "collapsed": true
      },
      "execution_count": null,
      "outputs": []
    },
    {
      "cell_type": "code",
      "source": [
        "from google.colab.patches import cv2_imshow\n",
        "cv2_imshow(arr)"
      ],
      "metadata": {
        "colab": {
          "base_uri": "https://localhost:8080/",
          "height": 331
        },
        "id": "ag8H-JqecvlG",
        "outputId": "2b027a86-efc7-4455-861f-d431c1b36f0e"
      },
      "execution_count": null,
      "outputs": [
        {
          "output_type": "display_data",
          "data": {
            "text/plain": [
              "<PIL.Image.Image image mode=RGB size=2048x1024>"
            ],
            "image/png": "[encoded data removed]"
          },
          "metadata": {}
        }
      ]
    },
    {
      "cell_type": "markdown",
      "source": [
        "# Data Preprocessing"
      ],
      "metadata": {
        "id": "GgVVl3mAmsuU"
      }
    },
    {
      "cell_type": "code",
      "source": [],
      "metadata": {
        "colab": {
          "base_uri": "https://localhost:8080/"
        },
        "id": "tqxsJrEc1LHs",
        "outputId": "d041d755-2d00-4108-8f23-52694293e270"
      },
      "execution_count": null,
      "outputs": [
        {
          "output_type": "execute_result",
          "data": {
            "text/plain": [
              "5032"
            ]
          },
          "metadata": {},
          "execution_count": 22
        }
      ]
    },
    {
      "cell_type": "markdown",
      "source": [
        "## Input Pipeline"
      ],
      "metadata": {
        "id": "lBm9CuEHm5Ei"
      }
    },
    {
      "cell_type": "code",
      "source": [
        "output_files = [f for f in (exObj.images.get_files_list()) if f.endswith('.png')]"
      ],
      "metadata": {
        "id": "alO2B5M01WA2",
        "colab": {
          "base_uri": "https://localhost:8080/",
          "height": 304
        },
        "outputId": "a3011f6f-54e2-47d1-a42b-79db93bc4dfa"
      },
      "execution_count": null,
      "outputs": [
        {
          "output_type": "error",
          "ename": "FileNotFoundError",
          "evalue": "[Errno 2] No such file or directory: '/content/leftImg8bit_trainvaltest.zip'",
          "traceback": [
            "\u001b[0;31m---------------------------------------------------------------------------\u001b[0m",
            "\u001b[0;31mFileNotFoundError\u001b[0m                         Traceback (most recent call last)",
            "\u001b[0;32m<ipython-input-4-180800999fd4>\u001b[0m in \u001b[0;36m<cell line: 1>\u001b[0;34m()\u001b[0m\n\u001b[0;32m----> 1\u001b[0;31m \u001b[0moutput_files\u001b[0m \u001b[0;34m=\u001b[0m \u001b[0;34m[\u001b[0m\u001b[0mf\u001b[0m \u001b[0;32mfor\u001b[0m \u001b[0mf\u001b[0m \u001b[0;32min\u001b[0m \u001b[0;34m(\u001b[0m\u001b[0mexObj\u001b[0m\u001b[0;34m.\u001b[0m\u001b[0mimages\u001b[0m\u001b[0;34m.\u001b[0m\u001b[0mget_files_list\u001b[0m\u001b[0;34m(\u001b[0m\u001b[0;34m)\u001b[0m\u001b[0;34m)\u001b[0m \u001b[0;32mif\u001b[0m \u001b[0mf\u001b[0m\u001b[0;34m.\u001b[0m\u001b[0mendswith\u001b[0m\u001b[0;34m(\u001b[0m\u001b[0;34m'.png'\u001b[0m\u001b[0;34m)\u001b[0m\u001b[0;34m]\u001b[0m\u001b[0;34m\u001b[0m\u001b[0;34m\u001b[0m\u001b[0m\n\u001b[0m",
            "\u001b[0;32m<ipython-input-2-6a2faddb7f98>\u001b[0m in \u001b[0;36mget_files_list\u001b[0;34m(self)\u001b[0m\n\u001b[1;32m     68\u001b[0m \u001b[0;34m\u001b[0m\u001b[0m\n\u001b[1;32m     69\u001b[0m     \u001b[0;32mdef\u001b[0m \u001b[0mget_files_list\u001b[0m\u001b[0;34m(\u001b[0m\u001b[0mself\u001b[0m\u001b[0;34m)\u001b[0m\u001b[0;34m:\u001b[0m\u001b[0;34m\u001b[0m\u001b[0;34m\u001b[0m\u001b[0m\n\u001b[0;32m---> 70\u001b[0;31m         \u001b[0;32mwith\u001b[0m \u001b[0mzipfile\u001b[0m\u001b[0;34m.\u001b[0m\u001b[0mZipFile\u001b[0m\u001b[0;34m(\u001b[0m\u001b[0mself\u001b[0m\u001b[0;34m.\u001b[0m\u001b[0mpath\u001b[0m\u001b[0;34m,\u001b[0m\u001b[0;34m'r'\u001b[0m\u001b[0;34m)\u001b[0m \u001b[0;32mas\u001b[0m \u001b[0mz\u001b[0m\u001b[0;34m:\u001b[0m\u001b[0;34m\u001b[0m\u001b[0;34m\u001b[0m\u001b[0m\n\u001b[0m\u001b[1;32m     71\u001b[0m             \u001b[0;32mreturn\u001b[0m \u001b[0msorted\u001b[0m\u001b[0;34m(\u001b[0m\u001b[0mz\u001b[0m\u001b[0;34m.\u001b[0m\u001b[0mnamelist\u001b[0m\u001b[0;34m(\u001b[0m\u001b[0;34m)\u001b[0m\u001b[0;34m)\u001b[0m\u001b[0;34m\u001b[0m\u001b[0;34m\u001b[0m\u001b[0m\n",
            "\u001b[0;32m/usr/lib/python3.10/zipfile.py\u001b[0m in \u001b[0;36m__init__\u001b[0;34m(self, file, mode, compression, allowZip64, compresslevel, strict_timestamps)\u001b[0m\n\u001b[1;32m   1249\u001b[0m             \u001b[0;32mwhile\u001b[0m \u001b[0;32mTrue\u001b[0m\u001b[0;34m:\u001b[0m\u001b[0;34m\u001b[0m\u001b[0;34m\u001b[0m\u001b[0m\n\u001b[1;32m   1250\u001b[0m                 \u001b[0;32mtry\u001b[0m\u001b[0;34m:\u001b[0m\u001b[0;34m\u001b[0m\u001b[0;34m\u001b[0m\u001b[0m\n\u001b[0;32m-> 1251\u001b[0;31m                     \u001b[0mself\u001b[0m\u001b[0;34m.\u001b[0m\u001b[0mfp\u001b[0m \u001b[0;34m=\u001b[0m \u001b[0mio\u001b[0m\u001b[0;34m.\u001b[0m\u001b[0mopen\u001b[0m\u001b[0;34m(\u001b[0m\u001b[0mfile\u001b[0m\u001b[0;34m,\u001b[0m \u001b[0mfilemode\u001b[0m\u001b[0;34m)\u001b[0m\u001b[0;34m\u001b[0m\u001b[0;34m\u001b[0m\u001b[0m\n\u001b[0m\u001b[1;32m   1252\u001b[0m                 \u001b[0;32mexcept\u001b[0m \u001b[0mOSError\u001b[0m\u001b[0;34m:\u001b[0m\u001b[0;34m\u001b[0m\u001b[0;34m\u001b[0m\u001b[0m\n\u001b[1;32m   1253\u001b[0m                     \u001b[0;32mif\u001b[0m \u001b[0mfilemode\u001b[0m \u001b[0;32min\u001b[0m \u001b[0mmodeDict\u001b[0m\u001b[0;34m:\u001b[0m\u001b[0;34m\u001b[0m\u001b[0;34m\u001b[0m\u001b[0m\n",
            "\u001b[0;31mFileNotFoundError\u001b[0m: [Errno 2] No such file or directory: '/content/leftImg8bit_trainvaltest.zip'"
          ]
        }
      ]
    },
    {
      "cell_type": "code",
      "source": [
        "output_files"
      ],
      "metadata": {
        "id": "2VVuwPRv1q9f"
      },
      "execution_count": null,
      "outputs": []
    },
    {
      "cell_type": "code",
      "source": [
        " 'gtFine/test/berlin/berlin_000235_000019_gtFine_color.png',\n",
        " 'gtFine/test/berlin/berlin_000235_000019_gtFine_instanceIds.png',\n",
        " 'gtFine/test/berlin/berlin_000235_000019_gtFine_labelIds.png',"
      ],
      "metadata": {
        "id": "f_lC8FspLcvB"
      },
      "execution_count": null,
      "outputs": []
    },
    {
      "cell_type": "code",
      "source": [
        "train_x = [f for f in output_files if f.startswith('leftImg8bit/train')]\n",
        "val_x = [f for f in output_files if f.startswith('leftImg8bit/val')]\n",
        "# test_x = [f for f in output_files if f.startswith('leftImg8bit/test')]"
      ],
      "metadata": {
        "id": "zhG6lN0M1hU7"
      },
      "execution_count": null,
      "outputs": []
    },
    {
      "cell_type": "code",
      "source": [
        "train_y_label = [f for f in exObj.segments.get_files_list() if f.startswith('gtFine/train') and f.endswith('gtFine_labelIds.png')]\n",
        "val_y_label = [f for f in exObj.segments.get_files_list() if f.startswith('gtFine/val') and f.endswith('gtFine_labelIds.png')]\n",
        "# test_y_label = [f for f in exObj.segments.get_files_list() if f.startswith('gtFine/test') and f.endswith('gtFine_labelIds.png')]"
      ],
      "metadata": {
        "id": "bwhs-sETDVIf",
        "colab": {
          "base_uri": "https://localhost:8080/",
          "height": 391
        },
        "outputId": "911a256e-a1f0-44b8-9562-55839ed19839"
      },
      "execution_count": null,
      "outputs": [
        {
          "output_type": "error",
          "ename": "FileNotFoundError",
          "evalue": "[Errno 2] No such file or directory: '/content/gtFine_trainvaltest.zip'",
          "traceback": [
            "\u001b[0;31m---------------------------------------------------------------------------\u001b[0m",
            "\u001b[0;31mFileNotFoundError\u001b[0m                         Traceback (most recent call last)",
            "\u001b[0;32m<ipython-input-5-afadb9bb6987>\u001b[0m in \u001b[0;36m<cell line: 1>\u001b[0;34m()\u001b[0m\n\u001b[0;32m----> 1\u001b[0;31m \u001b[0mtrain_y_label\u001b[0m \u001b[0;34m=\u001b[0m \u001b[0;34m[\u001b[0m\u001b[0mf\u001b[0m \u001b[0;32mfor\u001b[0m \u001b[0mf\u001b[0m \u001b[0;32min\u001b[0m \u001b[0mexObj\u001b[0m\u001b[0;34m.\u001b[0m\u001b[0msegments\u001b[0m\u001b[0;34m.\u001b[0m\u001b[0mget_files_list\u001b[0m\u001b[0;34m(\u001b[0m\u001b[0;34m)\u001b[0m \u001b[0;32mif\u001b[0m \u001b[0mf\u001b[0m\u001b[0;34m.\u001b[0m\u001b[0mstartswith\u001b[0m\u001b[0;34m(\u001b[0m\u001b[0;34m'gtFine/train'\u001b[0m\u001b[0;34m)\u001b[0m \u001b[0;32mand\u001b[0m \u001b[0mf\u001b[0m\u001b[0;34m.\u001b[0m\u001b[0mendswith\u001b[0m\u001b[0;34m(\u001b[0m\u001b[0;34m'gtFine_labelIds.png'\u001b[0m\u001b[0;34m)\u001b[0m\u001b[0;34m]\u001b[0m\u001b[0;34m\u001b[0m\u001b[0;34m\u001b[0m\u001b[0m\n\u001b[0m\u001b[1;32m      2\u001b[0m \u001b[0mval_y_label\u001b[0m \u001b[0;34m=\u001b[0m \u001b[0;34m[\u001b[0m\u001b[0mf\u001b[0m \u001b[0;32mfor\u001b[0m \u001b[0mf\u001b[0m \u001b[0;32min\u001b[0m \u001b[0mexObj\u001b[0m\u001b[0;34m.\u001b[0m\u001b[0msegments\u001b[0m\u001b[0;34m.\u001b[0m\u001b[0mget_files_list\u001b[0m\u001b[0;34m(\u001b[0m\u001b[0;34m)\u001b[0m \u001b[0;32mif\u001b[0m \u001b[0mf\u001b[0m\u001b[0;34m.\u001b[0m\u001b[0mstartswith\u001b[0m\u001b[0;34m(\u001b[0m\u001b[0;34m'gtFine/val'\u001b[0m\u001b[0;34m)\u001b[0m \u001b[0;32mand\u001b[0m \u001b[0mf\u001b[0m\u001b[0;34m.\u001b[0m\u001b[0mendswith\u001b[0m\u001b[0;34m(\u001b[0m\u001b[0;34m'gtFine_labelIds.png'\u001b[0m\u001b[0;34m)\u001b[0m\u001b[0;34m]\u001b[0m\u001b[0;34m\u001b[0m\u001b[0;34m\u001b[0m\u001b[0m\n\u001b[1;32m      3\u001b[0m \u001b[0;31m# test_y_label = [f for f in exObj.segments.get_files_list() if f.startswith('gtFine/test') and f.endswith('gtFine_labelIds.png')]\u001b[0m\u001b[0;34m\u001b[0m\u001b[0;34m\u001b[0m\u001b[0m\n",
            "\u001b[0;32m<ipython-input-2-6a2faddb7f98>\u001b[0m in \u001b[0;36mget_files_list\u001b[0;34m(self)\u001b[0m\n\u001b[1;32m     68\u001b[0m \u001b[0;34m\u001b[0m\u001b[0m\n\u001b[1;32m     69\u001b[0m     \u001b[0;32mdef\u001b[0m \u001b[0mget_files_list\u001b[0m\u001b[0;34m(\u001b[0m\u001b[0mself\u001b[0m\u001b[0;34m)\u001b[0m\u001b[0;34m:\u001b[0m\u001b[0;34m\u001b[0m\u001b[0;34m\u001b[0m\u001b[0m\n\u001b[0;32m---> 70\u001b[0;31m         \u001b[0;32mwith\u001b[0m \u001b[0mzipfile\u001b[0m\u001b[0;34m.\u001b[0m\u001b[0mZipFile\u001b[0m\u001b[0;34m(\u001b[0m\u001b[0mself\u001b[0m\u001b[0;34m.\u001b[0m\u001b[0mpath\u001b[0m\u001b[0;34m,\u001b[0m\u001b[0;34m'r'\u001b[0m\u001b[0;34m)\u001b[0m \u001b[0;32mas\u001b[0m \u001b[0mz\u001b[0m\u001b[0;34m:\u001b[0m\u001b[0;34m\u001b[0m\u001b[0;34m\u001b[0m\u001b[0m\n\u001b[0m\u001b[1;32m     71\u001b[0m             \u001b[0;32mreturn\u001b[0m \u001b[0msorted\u001b[0m\u001b[0;34m(\u001b[0m\u001b[0mz\u001b[0m\u001b[0;34m.\u001b[0m\u001b[0mnamelist\u001b[0m\u001b[0;34m(\u001b[0m\u001b[0;34m)\u001b[0m\u001b[0;34m)\u001b[0m\u001b[0;34m\u001b[0m\u001b[0;34m\u001b[0m\u001b[0m\n",
            "\u001b[0;32m/usr/lib/python3.10/zipfile.py\u001b[0m in \u001b[0;36m__init__\u001b[0;34m(self, file, mode, compression, allowZip64, compresslevel, strict_timestamps)\u001b[0m\n\u001b[1;32m   1249\u001b[0m             \u001b[0;32mwhile\u001b[0m \u001b[0;32mTrue\u001b[0m\u001b[0;34m:\u001b[0m\u001b[0;34m\u001b[0m\u001b[0;34m\u001b[0m\u001b[0m\n\u001b[1;32m   1250\u001b[0m                 \u001b[0;32mtry\u001b[0m\u001b[0;34m:\u001b[0m\u001b[0;34m\u001b[0m\u001b[0;34m\u001b[0m\u001b[0m\n\u001b[0;32m-> 1251\u001b[0;31m                     \u001b[0mself\u001b[0m\u001b[0;34m.\u001b[0m\u001b[0mfp\u001b[0m \u001b[0;34m=\u001b[0m \u001b[0mio\u001b[0m\u001b[0;34m.\u001b[0m\u001b[0mopen\u001b[0m\u001b[0;34m(\u001b[0m\u001b[0mfile\u001b[0m\u001b[0;34m,\u001b[0m \u001b[0mfilemode\u001b[0m\u001b[0;34m)\u001b[0m\u001b[0;34m\u001b[0m\u001b[0;34m\u001b[0m\u001b[0m\n\u001b[0m\u001b[1;32m   1252\u001b[0m                 \u001b[0;32mexcept\u001b[0m \u001b[0mOSError\u001b[0m\u001b[0;34m:\u001b[0m\u001b[0;34m\u001b[0m\u001b[0;34m\u001b[0m\u001b[0m\n\u001b[1;32m   1253\u001b[0m                     \u001b[0;32mif\u001b[0m \u001b[0mfilemode\u001b[0m \u001b[0;32min\u001b[0m \u001b[0mmodeDict\u001b[0m\u001b[0;34m:\u001b[0m\u001b[0;34m\u001b[0m\u001b[0;34m\u001b[0m\u001b[0m\n",
            "\u001b[0;31mFileNotFoundError\u001b[0m: [Errno 2] No such file or directory: '/content/gtFine_trainvaltest.zip'"
          ]
        }
      ]
    },
    {
      "cell_type": "code",
      "source": [
        " train_y_color = [f for f in exObj.segments.get_files_list() if f.startswith('gtFine/train') and f.endswith('gtFine_color.png')]\n",
        "val_y_color = [f for f in exObj.segments.get_files_list() if f.startswith('gtFine/val') and f.endswith('gtFine_color.png')]\n",
        "# test_y_color = [f for f in exObj.segments.get_files_list() if f.startswith('gtFine/test') and f.endswith('gtFine_color.png')]"
      ],
      "metadata": {
        "id": "XNHEJiZYLqpy"
      },
      "execution_count": null,
      "outputs": []
    },
    {
      "cell_type": "code",
      "source": [
        "train_y_label = [f for f in exObj.segments.get_files_list() if f.startswith('gtFine/train') and f.endswith('gtFine_labelIds.png')]\n",
        "val_y_label = [f for f in exObj.segments.get_files_list() if f.startswith('gtFine/val') and f.endswith('gtFine_labelIds.png')]\n",
        "# test_y_label = [f for f in exObj.segments.get_files_list() if f.startswith('gtFine/test') and f.endswith('gtFine_labelIds.png')]"
      ],
      "metadata": {
        "id": "afyA8M1vLrEq"
      },
      "execution_count": null,
      "outputs": []
    },
    {
      "cell_type": "code",
      "source": [
        "len(val_y_label)"
      ],
      "metadata": {
        "colab": {
          "base_uri": "https://localhost:8080/"
        },
        "id": "7aingwGNWFNG",
        "outputId": "4cf90760-3995-4f45-df0f-2d37808dc0d8"
      },
      "execution_count": null,
      "outputs": [
        {
          "output_type": "execute_result",
          "data": {
            "text/plain": [
              "500"
            ]
          },
          "metadata": {},
          "execution_count": 8
        }
      ]
    },
    {
      "cell_type": "markdown",
      "source": [],
      "metadata": {
        "id": "zhKS7GUfLp5G"
      }
    },
    {
      "cell_type": "code",
      "source": [],
      "metadata": {
        "colab": {
          "base_uri": "https://localhost:8080/"
        },
        "id": "DRLiN5dGKRZi",
        "outputId": "7f54b530-cafc-490b-ab6f-29b9731f888f"
      },
      "execution_count": null,
      "outputs": [
        {
          "output_type": "execute_result",
          "data": {
            "text/plain": [
              "[]"
            ]
          },
          "metadata": {},
          "execution_count": 71
        }
      ]
    },
    {
      "cell_type": "code",
      "source": [
        "import cv2\n",
        "from google.colab.patches import cv2_imshow"
      ],
      "metadata": {
        "id": "VqZJWDPl3QJY"
      },
      "execution_count": null,
      "outputs": []
    },
    {
      "cell_type": "code",
      "source": [
        "i = cv2.imread(val_y_color[0])\n",
        "i = cv2.resize(i,(512,256))\n",
        "cv2_imshow(i)\n",
        "# i.shape"
      ],
      "metadata": {
        "colab": {
          "base_uri": "https://localhost:8080/",
          "height": 273
        },
        "id": "mqI33paE4GjA",
        "outputId": "bcfca523-8375-48f7-9450-3f6ae5200869"
      },
      "execution_count": null,
      "outputs": [
        {
          "output_type": "display_data",
          "data": {
            "text/plain": [
              "<PIL.Image.Image image mode=RGB size=512x256>"
            ],
            "image/png": "[encoded data removed]"
          },
          "metadata": {}
        }
      ]
    },
    {
      "cell_type": "code",
      "source": [
        "import numpy as np"
      ],
      "metadata": {
        "id": "9Aq0Y4QcNHxs"
      },
      "execution_count": null,
      "outputs": []
    },
    {
      "cell_type": "code",
      "source": [
        "np.unique(i)"
      ],
      "metadata": {
        "colab": {
          "base_uri": "https://localhost:8080/"
        },
        "id": "ES3N623QJVCk",
        "outputId": "909f34b0-6059-4da2-9451-949aaa6f7044"
      },
      "execution_count": null,
      "outputs": [
        {
          "output_type": "execute_result",
          "data": {
            "text/plain": [
              "array([ 1,  3,  4,  5,  6,  7,  8,  9, 10, 11, 12, 13, 14, 15, 16, 17, 18,\n",
              "       19, 20, 21, 22, 23, 24, 25, 26, 27, 29, 30, 31, 33], dtype=uint8)"
            ]
          },
          "metadata": {},
          "execution_count": 96
        }
      ]
    },
    {
      "cell_type": "code",
      "source": [
        "import tensorflow as tf\n",
        "\n",
        "class Preprocessor:\n",
        "    def __init__(\n",
        "            self,\n",
        "            filepaths : list[str]\n",
        "    ):\n",
        "        self.filepaths = filepaths\n",
        "        self.dataset = None\n",
        "\n",
        "    def load_and_preprocess_image(self,file_path):\n",
        "        image = tf.io.read_file(file_path)\n",
        "        image = tf.image.decode_jpeg(image, channels=3)\n",
        "        image = tf.image.resize(image, [128, 256])\n",
        "        # image = image / 255.0\n",
        "        return image\n",
        "\n",
        "    def get_dataset_iterator(self):\n",
        "        if self.dataset:\n",
        "            return self.dataset\n",
        "\n",
        "        self.dataset = tf.data.Dataset.from_tensor_slices(self.filepaths)\n",
        "\n",
        "        self.dataset = self.dataset.map(self.load_and_preprocess_image, num_parallel_calls=tf.data.AUTOTUNE)\n",
        "\n",
        "        # self.dataset = self.dataset.cache()\n",
        "        # self.dataset = self.dataset.shuffle(buffer_size=1000)\n",
        "        # self.dataset = self.dataset.batch(32)\n",
        "        # self.dataset = self.dataset.prefetch(buffer_size=tf.data.AUTOTUNE)\n",
        "        return self.dataset"
      ],
      "metadata": {
        "id": "A-lo8HI5mxJM"
      },
      "execution_count": null,
      "outputs": []
    },
    {
      "cell_type": "code",
      "source": [
        "train_ds_x = Preprocessor(train_x).get_dataset_iterator()\n",
        "val_ds_x = Preprocessor(val_x).get_dataset_iterator()\n",
        "# test_ds_x = Preprocessor(test_x).get_dataset_iterator()"
      ],
      "metadata": {
        "id": "Ms9RY4yk6qHR"
      },
      "execution_count": null,
      "outputs": []
    },
    {
      "cell_type": "code",
      "source": [
        "train_ds_y = Preprocessor(train_y_label).get_dataset_iterator()\n",
        "val_ds_y = Preprocessor(val_y_label).get_dataset_iterator()\n",
        "# test_ds_y = Preprocessor(test_x).get_dataset_iterator()"
      ],
      "metadata": {
        "id": "emqvUoZCR7Zl"
      },
      "execution_count": null,
      "outputs": []
    },
    {
      "cell_type": "code",
      "source": [
        "Preprocessor(train_x).load_and_preprocess_image(train_x[0])"
      ],
      "metadata": {
        "id": "a6IU0IMuDRNu",
        "colab": {
          "base_uri": "https://localhost:8080/"
        },
        "outputId": "31e34fbf-550c-4029-aadb-01e86f255b26"
      },
      "execution_count": null,
      "outputs": [
        {
          "output_type": "execute_result",
          "data": {
            "text/plain": [
              "<tf.Tensor: shape=(128, 256, 3), dtype=float32, numpy=\n",
              "array([[[173.5 , 204.75, 202.5 ],\n",
              "        [173.75, 206.25, 199.  ],\n",
              "        [100.5 , 133.25, 140.25],\n",
              "        ...,\n",
              "        [ 37.  ,  49.75,  39.  ],\n",
              "        [ 29.5 ,  41.5 ,  33.  ],\n",
              "        [ 31.75,  43.  ,  33.25]],\n",
              "\n",
              "       [[174.  , 203.75, 200.5 ],\n",
              "        [173.5 , 203.  , 196.  ],\n",
              "        [106.25, 142.5 , 138.75],\n",
              "        ...,\n",
              "        [ 40.  ,  54.75,  44.25],\n",
              "        [ 36.25,  45.75,  38.75],\n",
              "        [ 41.  ,  62.5 ,  51.25]],\n",
              "\n",
              "       [[174.  , 205.  , 200.5 ],\n",
              "        [168.  , 202.  , 199.25],\n",
              "        [109.  , 145.75, 139.  ],\n",
              "        ...,\n",
              "        [ 62.  ,  86.  ,  65.  ],\n",
              "        [ 39.25,  52.75,  39.5 ],\n",
              "        [ 31.75,  45.25,  33.75]],\n",
              "\n",
              "       ...,\n",
              "\n",
              "       [[ 86.  , 104.  ,  85.  ],\n",
              "        [ 82.75, 101.75,  85.  ],\n",
              "        [ 85.  , 103.  ,  84.25],\n",
              "        ...,\n",
              "        [ 56.  ,  72.  ,  63.5 ],\n",
              "        [ 55.  ,  70.25,  63.25],\n",
              "        [ 54.25,  71.25,  63.  ]],\n",
              "\n",
              "       [[ 85.  , 102.75,  84.75],\n",
              "        [ 84.5 , 101.25,  85.5 ],\n",
              "        [ 82.75, 101.75,  83.5 ],\n",
              "        ...,\n",
              "        [ 54.75,  70.25,  61.25],\n",
              "        [ 56.75,  72.75,  62.  ],\n",
              "        [ 55.5 ,  70.5 ,  61.75]],\n",
              "\n",
              "       [[ 83.5 , 100.5 ,  82.75],\n",
              "        [ 81.25,  98.5 ,  81.75],\n",
              "        [ 82.5 , 100.  ,  84.  ],\n",
              "        ...,\n",
              "        [ 55.  ,  70.75,  63.  ],\n",
              "        [ 54.5 ,  71.5 ,  62.75],\n",
              "        [ 53.  ,  69.5 ,  60.25]]], dtype=float32)>"
            ]
          },
          "metadata": {},
          "execution_count": 54
        }
      ]
    },
    {
      "cell_type": "code",
      "source": [
        "dataset_train = tf.data.Dataset.zip(train_ds_x, train_ds_y)\n",
        "dataset_val = tf.data.Dataset.zip(val_ds_x, val_ds_y)\n"
      ],
      "metadata": {
        "id": "fJWf2Y3iTnu3"
      },
      "execution_count": null,
      "outputs": []
    },
    {
      "cell_type": "code",
      "source": [],
      "metadata": {
        "id": "bfpPubsaZQV1"
      },
      "execution_count": null,
      "outputs": []
    },
    {
      "cell_type": "code",
      "source": [
        "def optimize_datasets(dataset):\n",
        "        dataset = dataset.cache()\n",
        "        # dataset = dataset.shuffle(buffer_size=1000)\n",
        "        dataset = dataset.batch(16)\n",
        "        dataset = dataset.prefetch(buffer_size=2)\n",
        "        return dataset"
      ],
      "metadata": {
        "id": "ETKf3rXeT5G9"
      },
      "execution_count": null,
      "outputs": []
    },
    {
      "cell_type": "code",
      "source": [
        "dataset_train = optimize_datasets(dataset_train)\n",
        "dataset_val = optimize_datasets(dataset_val)"
      ],
      "metadata": {
        "id": "Zy3tj2tdUCN0"
      },
      "execution_count": null,
      "outputs": []
    },
    {
      "cell_type": "code",
      "source": [
        "temp = dataset_train.as_numpy_iterator().next()"
      ],
      "metadata": {
        "id": "cXkaSv2TZUXf"
      },
      "execution_count": null,
      "outputs": []
    },
    {
      "cell_type": "code",
      "source": [
        "import numpy as np"
      ],
      "metadata": {
        "id": "6z2JxZmzbEu8"
      },
      "execution_count": null,
      "outputs": []
    },
    {
      "cell_type": "code",
      "source": [
        "x = temp[0][0].astype(np.int8)\n",
        "y = temp[1][0].astype(np.int8)"
      ],
      "metadata": {
        "id": "Ac_S49BUaP3S"
      },
      "execution_count": null,
      "outputs": []
    },
    {
      "cell_type": "code",
      "source": [
        "cv2_imshow(x)"
      ],
      "metadata": {
        "colab": {
          "base_uri": "https://localhost:8080/",
          "height": 145
        },
        "id": "hr5l0gNAbGoz",
        "outputId": "b836adee-8636-4153-e75b-c94e878fc037"
      },
      "execution_count": null,
      "outputs": [
        {
          "output_type": "display_data",
          "data": {
            "text/plain": [
              "<PIL.Image.Image image mode=RGB size=256x128>"
            ],
            "image/png": "[encoded data removed]"
          },
          "metadata": {}
        }
      ]
    },
    {
      "cell_type": "code",
      "source": [
        "cv2_imshow(y)"
      ],
      "metadata": {
        "colab": {
          "base_uri": "https://localhost:8080/",
          "height": 145
        },
        "id": "HDefrT-RbLTG",
        "outputId": "2ee84db2-e862-43cf-b2df-a6d5d625e97a"
      },
      "execution_count": null,
      "outputs": [
        {
          "output_type": "display_data",
          "data": {
            "text/plain": [
              "<PIL.Image.Image image mode=RGB size=256x128>"
            ],
            "image/png": "[encoded data removed]"
          },
          "metadata": {}
        }
      ]
    },
    {
      "cell_type": "code",
      "source": [
        "temp[0][0]"
      ],
      "metadata": {
        "colab": {
          "base_uri": "https://localhost:8080/"
        },
        "id": "OMDS9XOAaFER",
        "outputId": "4dd887da-b4ad-451d-922c-29d373cdb3ac"
      },
      "execution_count": null,
      "outputs": [
        {
          "output_type": "execute_result",
          "data": {
            "text/plain": [
              "array([[[ 46.25,  61.75,  46.25],\n",
              "        [ 57.75,  74.  ,  59.25],\n",
              "        [ 54.  ,  73.25,  59.25],\n",
              "        ...,\n",
              "        [123.25, 151.25, 146.75],\n",
              "        [124.  , 154.  , 147.  ],\n",
              "        [124.  , 153.75, 147.5 ]],\n",
              "\n",
              "       [[ 18.75,  29.5 ,  28.25],\n",
              "        [ 42.25,  62.75,  52.75],\n",
              "        [ 47.25,  63.25,  50.25],\n",
              "        ...,\n",
              "        [121.  , 153.25, 146.5 ],\n",
              "        [124.25, 153.25, 144.75],\n",
              "        [127.  , 153.5 , 145.25]],\n",
              "\n",
              "       [[ 47.5 ,  59.5 ,  47.5 ],\n",
              "        [ 52.75,  69.5 ,  57.5 ],\n",
              "        [ 46.75,  62.75,  50.25],\n",
              "        ...,\n",
              "        [123.5 , 150.  , 142.75],\n",
              "        [124.5 , 151.5 , 146.5 ],\n",
              "        [125.75, 154.  , 143.75]],\n",
              "\n",
              "       ...,\n",
              "\n",
              "       [[ 29.25,  41.75,  36.25],\n",
              "        [ 29.  ,  41.75,  36.5 ],\n",
              "        [ 30.25,  42.  ,  37.  ],\n",
              "        ...,\n",
              "        [ 45.5 ,  61.25,  52.25],\n",
              "        [ 45.75,  62.  ,  55.  ],\n",
              "        [ 47.  ,  63.  ,  55.25]],\n",
              "\n",
              "       [[ 29.5 ,  41.  ,  35.5 ],\n",
              "        [ 29.75,  41.  ,  36.25],\n",
              "        [ 28.75,  41.75,  37.25],\n",
              "        ...,\n",
              "        [ 39.75,  55.5 ,  48.75],\n",
              "        [ 41.5 ,  55.25,  46.75],\n",
              "        [ 44.75,  59.75,  52.5 ]],\n",
              "\n",
              "       [[ 29.5 ,  40.5 ,  35.  ],\n",
              "        [ 29.75,  40.5 ,  34.5 ],\n",
              "        [ 28.75,  40.  ,  34.  ],\n",
              "        ...,\n",
              "        [ 39.5 ,  54.25,  46.75],\n",
              "        [ 36.5 ,  51.25,  44.  ],\n",
              "        [ 40.  ,  56.5 ,  47.5 ]]], dtype=float32)"
            ]
          },
          "metadata": {},
          "execution_count": 17
        }
      ]
    },
    {
      "cell_type": "markdown",
      "source": [
        "# NN"
      ],
      "metadata": {
        "id": "RTDJ9Wu0wbRy"
      }
    },
    {
      "cell_type": "markdown",
      "source": [
        "## Model"
      ],
      "metadata": {
        "id": "zg4PfGrqwdOP"
      }
    },
    {
      "cell_type": "code",
      "source": [
        "img_x, img_y = 128,256"
      ],
      "metadata": {
        "id": "_b3QRq0SZ_Jh"
      },
      "execution_count": null,
      "outputs": []
    },
    {
      "cell_type": "code",
      "source": [
        "inputs = keras.Input(shape = (img_x, img_y, 3))\n",
        "\n",
        "inputs = layers.Rescaling(1./255)(inputs)\n",
        "\n",
        "x3_conv = layers.Conv2D(20,3,padding = \"same\", activation = 'linear')(inputs)\n",
        "\n",
        "x3_relu = layers.ReLU()(x3_conv)\n",
        "\n",
        "x5_conv = layers.Conv2D(20,5,padding = \"same\", activation = 'linear')(x3_relu)\n",
        "\n",
        "x5_relu = layers.ReLU()(x5_conv)\n",
        "\n",
        "x3_conv = layers.Conv2D(20,3,padding = \"same\", activation = 'linear')(x5_relu)\n",
        "\n",
        "x3_relu = layers.ReLU()(x3_conv)\n",
        "\n",
        "x5_conv =  layers.Conv2D(20,5,padding = \"same\", activation = 'linear')(x3_relu)\n",
        "# feedback\n",
        "x5_relu = layers.ReLU()(x5_conv + x5_relu)\n",
        "\n",
        "x3_conv = layers.Conv2D(20,3,padding = \"same\", activation = 'linear')(x5_relu)\n",
        "\n",
        "x3_relu = layers.ReLU()(x3_conv)\n",
        "\n",
        "x5_conv =  layers.Conv2D(20,5,padding = \"same\", activation = 'linear')(x3_relu)\n",
        "# feedback\n",
        "x5_relu = layers.ReLU()(x5_conv + x5_relu)\n",
        "\n",
        "# x = layers.MaxPool2D()(x5_relu)\n",
        "\n",
        "# x = layers.Conv2D(40,(5,5))(x)\n",
        "\n",
        "# x = layers.MaxPool2D()(x)\n",
        "\n",
        "# x = layers.Conv2D(80,(5,5))(x)\n",
        "\n",
        "# x = layers.MaxPool2D()(x)\n",
        "\n",
        "# x = layers.Conv2D(160,(5,5))(x)\n",
        "\n",
        "# x = layers.Conv2DTranspose(80,(5,5))(x)\n",
        "\n",
        "# x = layers.Conv2DTranspose(40,(5,5))(x)\n",
        "\n",
        "x5_relu = layers.Conv2D(10,1)(x5_relu)\n",
        "x5_relu = layers.Conv2D(5,1)(x5_relu)\n",
        "outputs = layers.Conv2D(1,1)(x5_relu)\n",
        "# outputs = layers.Softmax()(x5_relu)\n",
        "\n",
        "\n"
      ],
      "metadata": {
        "id": "IFyYuPVLZL1h"
      },
      "execution_count": null,
      "outputs": []
    },
    {
      "cell_type": "code",
      "source": [
        "model = keras.Model(inputs = inputs, outputs = outputs)"
      ],
      "metadata": {
        "id": "EeUzDmPjadbp"
      },
      "execution_count": null,
      "outputs": []
    },
    {
      "cell_type": "code",
      "source": [
        "model.summary()"
      ],
      "metadata": {
        "colab": {
          "base_uri": "https://localhost:8080/"
        },
        "id": "aTSzMpi2a7rw",
        "outputId": "e2636227-34e2-4b58-c6cf-bbb6e76324b5"
      },
      "execution_count": null,
      "outputs": [
        {
          "output_type": "stream",
          "name": "stdout",
          "text": [
            "Model: \"model_1\"\n",
            "__________________________________________________________________________________________________\n",
            " Layer (type)                Output Shape                 Param #   Connected to                  \n",
            "==================================================================================================\n",
            " input_4 (InputLayer)        [(None, 128, 256, 3)]        0         []                            \n",
            "                                                                                                  \n",
            " conv2d_9 (Conv2D)           (None, 128, 256, 20)         560       ['input_4[0][0]']             \n",
            "                                                                                                  \n",
            " re_lu_6 (ReLU)              (None, 128, 256, 20)         0         ['conv2d_9[1][0]']            \n",
            "                                                                                                  \n",
            " conv2d_10 (Conv2D)          (None, 128, 256, 20)         10020     ['re_lu_6[1][0]']             \n",
            "                                                                                                  \n",
            " re_lu_7 (ReLU)              (None, 128, 256, 20)         0         ['conv2d_10[1][0]']           \n",
            "                                                                                                  \n",
            " conv2d_11 (Conv2D)          (None, 128, 256, 20)         3620      ['re_lu_7[1][0]']             \n",
            "                                                                                                  \n",
            " re_lu_8 (ReLU)              (None, 128, 256, 20)         0         ['conv2d_11[1][0]']           \n",
            "                                                                                                  \n",
            " conv2d_12 (Conv2D)          (None, 128, 256, 20)         10020     ['re_lu_8[1][0]']             \n",
            "                                                                                                  \n",
            " tf.__operators__.add_2 (TF  (None, 128, 256, 20)         0         ['conv2d_12[1][0]',           \n",
            " OpLambda)                                                           're_lu_7[1][0]']             \n",
            "                                                                                                  \n",
            " re_lu_9 (ReLU)              (None, 128, 256, 20)         0         ['tf.__operators__.add_2[1][0]\n",
            "                                                                    ']                            \n",
            "                                                                                                  \n",
            " conv2d_13 (Conv2D)          (None, 128, 256, 20)         3620      ['re_lu_9[1][0]']             \n",
            "                                                                                                  \n",
            " re_lu_10 (ReLU)             (None, 128, 256, 20)         0         ['conv2d_13[1][0]']           \n",
            "                                                                                                  \n",
            " conv2d_14 (Conv2D)          (None, 128, 256, 20)         10020     ['re_lu_10[1][0]']            \n",
            "                                                                                                  \n",
            " tf.__operators__.add_3 (TF  (None, 128, 256, 20)         0         ['conv2d_14[1][0]',           \n",
            " OpLambda)                                                           're_lu_9[1][0]']             \n",
            "                                                                                                  \n",
            " re_lu_11 (ReLU)             (None, 128, 256, 20)         0         ['tf.__operators__.add_3[1][0]\n",
            "                                                                    ']                            \n",
            "                                                                                                  \n",
            " conv2d_15 (Conv2D)          (None, 128, 256, 10)         210       ['re_lu_11[1][0]']            \n",
            "                                                                                                  \n",
            " conv2d_16 (Conv2D)          (None, 128, 256, 5)          55        ['conv2d_15[1][0]']           \n",
            "                                                                                                  \n",
            " conv2d_17 (Conv2D)          (None, 128, 256, 1)          6         ['conv2d_16[1][0]']           \n",
            "                                                                                                  \n",
            "==================================================================================================\n",
            "Total params: 38131 (148.95 KB)\n",
            "Trainable params: 38131 (148.95 KB)\n",
            "Non-trainable params: 0 (0.00 Byte)\n",
            "__________________________________________________________________________________________________\n"
          ]
        }
      ]
    },
    {
      "cell_type": "code",
      "source": [
        "model.compile(\n",
        "    optimizer='adam', loss='mean_squared_error', metrics=['mse','accuracy'\n",
        "])"
      ],
      "metadata": {
        "id": "P_nPQJKjejRF"
      },
      "execution_count": null,
      "outputs": []
    },
    {
      "cell_type": "code",
      "source": [
        "model.fit(\n",
        "    x = dataset_train,\n",
        "    epochs = 1,\n",
        "    validation_data = dataset_val,\n",
        ")"
      ],
      "metadata": {
        "colab": {
          "base_uri": "https://localhost:8080/"
        },
        "id": "1ANS4T5NR0JG",
        "outputId": "8c8523e1-d8d1-4f61-d117-2079a74e9fc5"
      },
      "execution_count": null,
      "outputs": [
        {
          "output_type": "stream",
          "name": "stdout",
          "text": [
            "121/186 [==================>...........] - ETA: 8:51 - loss: 92.3791 - mse: 92.3791 - accuracy: 0.0437"
          ]
        }
      ]
    },
    {
      "cell_type": "code",
      "source": [],
      "metadata": {
        "id": "f0ZNSZJEVDp4"
      },
      "execution_count": null,
      "outputs": []
    }
  ]
}